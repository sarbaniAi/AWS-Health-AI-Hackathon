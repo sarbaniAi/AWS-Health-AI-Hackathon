{
 "cells": [
  {
   "cell_type": "markdown",
   "metadata": {
    "id": "P9qJpxhM-7Ty"
   },
   "source": [
    "## Clustering on the basis of patients diagnosis extracted from discharge summary \n",
    "\n",
    "\n",
    "#### Objective:\n",
    "  - We will be using NMF model to cluster dignosis names into different groups.\n",
    "  - Extracting topics is a good unsupervised data-mining technique to discover the underlying relationships between texts.\n",
    "  - The various diagnosis will be clustered by topic modelling\n",
    "  - These diagnosis clusters will be combined with the patients labitems information which is a tabular dataset.\n",
    "  - We will train the second model with this combined data set to check if the clinical text (here - discharge summary of ICU patients who are diagnosed with heart failure) can prvide more insightful information for the Model training.\n",
    "\n",
    "\n"
   ]
  },
  {
   "cell_type": "code",
   "execution_count": null,
   "metadata": {
    "id": "uLFxzGoaYruI"
   },
   "outputs": [],
   "source": []
  },
  {
   "cell_type": "code",
   "execution_count": null,
   "metadata": {
    "id": "V0YFllbHJXTU"
   },
   "outputs": [],
   "source": []
  },
  {
   "cell_type": "code",
   "execution_count": 142,
   "metadata": {
    "id": "uqXu4IcK-7T8"
   },
   "outputs": [],
   "source": [
    "import json \n",
    "import numpy as np\n",
    "import pandas as pd\n",
    "import re, nltk, spacy, string\n",
    "import en_core_web_sm\n",
    "nlp = en_core_web_sm.load()\n",
    "import seaborn as sns\n",
    "import matplotlib.pyplot as plt\n",
    "%matplotlib inline\n",
    "\n",
    "from plotly.offline import plot\n",
    "import plotly.graph_objects as go\n",
    "import plotly.express as px\n",
    "\n",
    "from sklearn.feature_extraction.text import CountVectorizer, TfidfVectorizer\n",
    "from pprint import pprint"
   ]
  },
  {
   "cell_type": "markdown",
   "metadata": {
    "id": "9jHMsTbS-7T_"
   },
   "source": [
    "## Loading the data\n",
    "\n",
    " - extract_df.csv was created with the diagnosis names returned by the AWS Comprehend Medical. Hence we added the patient id (\"subject_id\") and admission id (\"hadm_id\") columns with this dataset to be used by this notebook.\n"
   ]
  },
  {
   "cell_type": "code",
   "execution_count": 143,
   "metadata": {
    "id": "ZCIUZOo2gWhJ"
   },
   "outputs": [],
   "source": [
    "df_form = pd.read_csv(\"extract_df.csv\")\n"
   ]
  },
  {
   "cell_type": "markdown",
   "metadata": {
    "id": "zQOD67pK-7UD"
   },
   "source": [
    "## Prepare the text for topic modeling\n",
    "\n",
    "The dataset has 6377 discharge summaries. They are stored in TEXT column."
   ]
  },
  {
   "cell_type": "code",
   "execution_count": 144,
   "metadata": {
    "colab": {
     "base_uri": "https://localhost:8080/"
    },
    "id": "8ePkBYnT8AjE",
    "outputId": "58eed1ca-c627-4ca5-ae76-44e22d413941"
   },
   "outputs": [
    {
     "data": {
      "text/plain": [
       "['nan', 'nan', 'nan', 'nan', 'nan', 'nan', 'nan', 'nan', 'nan', 'nan']                                                                                                                      3027\n",
       "['stable condition', 'shortness of breath', 'coronary artery disease', 'pain', 'chronic obstructive pulmonary disease', 'depression', 'cough', 'complications', 'sleepy', 'wound']             2\n",
       "['hypertension', 'atrial fibrillation', 'angina', 'hypercholesterolemia', 'thrombophlebitis', 'pain', 'stenosis', 'coronary artery disease', 'normal sinus rhythm', 'diabetes mellitus']       2\n",
       "['atrial fibrillation', 'pneumothorax', 'chronic obstructive pulmonary disease', 'prostate cancer', 'pain', 'weakness', 'dry', 'hypertension', 'collapse', 'edema']                            2\n",
       "['mitral regurgitation', 'hypertension', 'benign prostatic hypertrophy', 'nondistended', 'rub', 'murmur', 'breath sounds are clear', 'obese', 'positive bowel sounds', 'nontender']            2\n",
       "                                                                                                                                                                                            ... \n",
       "['pneumonia', 'pna', 'edema', 'uti', 'infarcts', 'infiltrate', 'hemorrhage', 'cardiomegaly', 'effusion', 'consolidation']                                                                      1\n",
       "['pain', 'ulcer', 'fever', 'pneumonia', 'perforation', 'wheeze', 'rrr', 'tenderness', 'rigidity', 'air']                                                                                       1\n",
       "['c diff', 'urosepsis', 'dementia', 'fevers', 'hypoglycemia', 'atrial fibrillation', 'hypoxia', 'fever', 'elevated wbc count', 'depression']                                                   1\n",
       "['hypertension', 'mitral regurgitation', 'diabetes mellitus', 'afebrile', 'nausea', 'vomiting', 'end stage renal disease', 'fevers', 'pain', 'end-stage renal disease']                        1\n",
       "['bleeding', 'constipation', 'edema', 'exertion', 'shortness of breath', 'chills', 'pain', 'fevers', 'vomiting', 'nausea']                                                                     1\n",
       "Name: TEXT, Length: 100, dtype: int64"
      ]
     },
     "execution_count": 144,
     "metadata": {},
     "output_type": "execute_result"
    }
   ],
   "source": [
    "df_form[\"TEXT\"].value_counts().head(100)"
   ]
  },
  {
   "cell_type": "code",
   "execution_count": 145,
   "metadata": {
    "id": "tiaKglRYitDM"
   },
   "outputs": [],
   "source": [
    "df=df_form[['TEXT']]\n"
   ]
  },
  {
   "cell_type": "code",
   "execution_count": 146,
   "metadata": {
    "colab": {
     "base_uri": "https://localhost:8080/",
     "height": 424
    },
    "id": "NnnTNbENjhCW",
    "outputId": "2869b9bb-0789-4a77-9294-d7af6d617bd5"
   },
   "outputs": [
    {
     "data": {
      "text/html": [
       "<div>\n",
       "<style scoped>\n",
       "    .dataframe tbody tr th:only-of-type {\n",
       "        vertical-align: middle;\n",
       "    }\n",
       "\n",
       "    .dataframe tbody tr th {\n",
       "        vertical-align: top;\n",
       "    }\n",
       "\n",
       "    .dataframe thead th {\n",
       "        text-align: right;\n",
       "    }\n",
       "</style>\n",
       "<table border=\"1\" class=\"dataframe\">\n",
       "  <thead>\n",
       "    <tr style=\"text-align: right;\">\n",
       "      <th></th>\n",
       "      <th>TEXT</th>\n",
       "    </tr>\n",
       "  </thead>\n",
       "  <tbody>\n",
       "    <tr>\n",
       "      <th>0</th>\n",
       "      <td>['pain', 'disease', 'lesion', 'shortness of br...</td>\n",
       "    </tr>\n",
       "    <tr>\n",
       "      <th>1</th>\n",
       "      <td>['nan', 'nan', 'nan', 'nan', 'nan', 'nan', 'na...</td>\n",
       "    </tr>\n",
       "    <tr>\n",
       "      <th>2</th>\n",
       "      <td>['edema', 'lactic acidosis', 'cardiomyopathy',...</td>\n",
       "    </tr>\n",
       "    <tr>\n",
       "      <th>3</th>\n",
       "      <td>['fever', 'pna', 'chf', 'disease', 'febrile', ...</td>\n",
       "    </tr>\n",
       "    <tr>\n",
       "      <th>4</th>\n",
       "      <td>['bleeding', 'ulcers', 'bleed', 'thrombosis', ...</td>\n",
       "    </tr>\n",
       "    <tr>\n",
       "      <th>...</th>\n",
       "      <td>...</td>\n",
       "    </tr>\n",
       "    <tr>\n",
       "      <th>6372</th>\n",
       "      <td>['nan', 'nan', 'nan', 'nan', 'nan', 'nan', 'na...</td>\n",
       "    </tr>\n",
       "    <tr>\n",
       "      <th>6373</th>\n",
       "      <td>['nan', 'nan', 'nan', 'nan', 'nan', 'nan', 'na...</td>\n",
       "    </tr>\n",
       "    <tr>\n",
       "      <th>6374</th>\n",
       "      <td>['hyperkalemia', 'alert', 'hypertension', 'hyp...</td>\n",
       "    </tr>\n",
       "    <tr>\n",
       "      <th>6375</th>\n",
       "      <td>['nan', 'nan', 'nan', 'nan', 'nan', 'nan', 'na...</td>\n",
       "    </tr>\n",
       "    <tr>\n",
       "      <th>6376</th>\n",
       "      <td>['nan', 'nan', 'nan', 'nan', 'nan', 'nan', 'na...</td>\n",
       "    </tr>\n",
       "  </tbody>\n",
       "</table>\n",
       "<p>6377 rows × 1 columns</p>\n",
       "</div>"
      ],
      "text/plain": [
       "                                                   TEXT\n",
       "0     ['pain', 'disease', 'lesion', 'shortness of br...\n",
       "1     ['nan', 'nan', 'nan', 'nan', 'nan', 'nan', 'na...\n",
       "2     ['edema', 'lactic acidosis', 'cardiomyopathy',...\n",
       "3     ['fever', 'pna', 'chf', 'disease', 'febrile', ...\n",
       "4     ['bleeding', 'ulcers', 'bleed', 'thrombosis', ...\n",
       "...                                                 ...\n",
       "6372  ['nan', 'nan', 'nan', 'nan', 'nan', 'nan', 'na...\n",
       "6373  ['nan', 'nan', 'nan', 'nan', 'nan', 'nan', 'na...\n",
       "6374  ['hyperkalemia', 'alert', 'hypertension', 'hyp...\n",
       "6375  ['nan', 'nan', 'nan', 'nan', 'nan', 'nan', 'na...\n",
       "6376  ['nan', 'nan', 'nan', 'nan', 'nan', 'nan', 'na...\n",
       "\n",
       "[6377 rows x 1 columns]"
      ]
     },
     "execution_count": 146,
     "metadata": {},
     "output_type": "execute_result"
    }
   ],
   "source": [
    "df"
   ]
  },
  {
   "cell_type": "markdown",
   "metadata": {
    "id": "_6vwdMZ5-7UO"
   },
   "source": [
    "## Prepare the text for topic modeling\n",
    "\n",
    "\n",
    " - Make text lowercase. The TEXT column is already tokenized by AWS Comprehend Medical, only key words from diagnosis text are stored here.\n",
    "\n",
    " - Use POS tags to get relevant words from the texts. Using Nouns just \n",
    "\n",
    " - Lemmatize the texts"
   ]
  },
  {
   "cell_type": "code",
   "execution_count": 147,
   "metadata": {
    "colab": {
     "base_uri": "https://localhost:8080/",
     "height": 424
    },
    "id": "8Jf7D0Le-7UP",
    "outputId": "4d95b371-ca44-4abb-d560-8bcd5a0ff9a1"
   },
   "outputs": [
    {
     "data": {
      "text/html": [
       "<div>\n",
       "<style scoped>\n",
       "    .dataframe tbody tr th:only-of-type {\n",
       "        vertical-align: middle;\n",
       "    }\n",
       "\n",
       "    .dataframe tbody tr th {\n",
       "        vertical-align: top;\n",
       "    }\n",
       "\n",
       "    .dataframe thead th {\n",
       "        text-align: right;\n",
       "    }\n",
       "</style>\n",
       "<table border=\"1\" class=\"dataframe\">\n",
       "  <thead>\n",
       "    <tr style=\"text-align: right;\">\n",
       "      <th></th>\n",
       "      <th>TEXT</th>\n",
       "    </tr>\n",
       "  </thead>\n",
       "  <tbody>\n",
       "    <tr>\n",
       "      <th>0</th>\n",
       "      <td>['pain', 'disease', 'lesion', 'shortness of br...</td>\n",
       "    </tr>\n",
       "    <tr>\n",
       "      <th>1</th>\n",
       "      <td>['nan', 'nan', 'nan', 'nan', 'nan', 'nan', 'na...</td>\n",
       "    </tr>\n",
       "    <tr>\n",
       "      <th>2</th>\n",
       "      <td>['edema', 'lactic acidosis', 'cardiomyopathy',...</td>\n",
       "    </tr>\n",
       "    <tr>\n",
       "      <th>3</th>\n",
       "      <td>['fever', 'pna', 'chf', 'disease', 'febrile', ...</td>\n",
       "    </tr>\n",
       "    <tr>\n",
       "      <th>4</th>\n",
       "      <td>['bleeding', 'ulcers', 'bleed', 'thrombosis', ...</td>\n",
       "    </tr>\n",
       "    <tr>\n",
       "      <th>...</th>\n",
       "      <td>...</td>\n",
       "    </tr>\n",
       "    <tr>\n",
       "      <th>6372</th>\n",
       "      <td>['nan', 'nan', 'nan', 'nan', 'nan', 'nan', 'na...</td>\n",
       "    </tr>\n",
       "    <tr>\n",
       "      <th>6373</th>\n",
       "      <td>['nan', 'nan', 'nan', 'nan', 'nan', 'nan', 'na...</td>\n",
       "    </tr>\n",
       "    <tr>\n",
       "      <th>6374</th>\n",
       "      <td>['hyperkalemia', 'alert', 'hypertension', 'hyp...</td>\n",
       "    </tr>\n",
       "    <tr>\n",
       "      <th>6375</th>\n",
       "      <td>['nan', 'nan', 'nan', 'nan', 'nan', 'nan', 'na...</td>\n",
       "    </tr>\n",
       "    <tr>\n",
       "      <th>6376</th>\n",
       "      <td>['nan', 'nan', 'nan', 'nan', 'nan', 'nan', 'na...</td>\n",
       "    </tr>\n",
       "  </tbody>\n",
       "</table>\n",
       "<p>6377 rows × 1 columns</p>\n",
       "</div>"
      ],
      "text/plain": [
       "                                                   TEXT\n",
       "0     ['pain', 'disease', 'lesion', 'shortness of br...\n",
       "1     ['nan', 'nan', 'nan', 'nan', 'nan', 'nan', 'na...\n",
       "2     ['edema', 'lactic acidosis', 'cardiomyopathy',...\n",
       "3     ['fever', 'pna', 'chf', 'disease', 'febrile', ...\n",
       "4     ['bleeding', 'ulcers', 'bleed', 'thrombosis', ...\n",
       "...                                                 ...\n",
       "6372  ['nan', 'nan', 'nan', 'nan', 'nan', 'nan', 'na...\n",
       "6373  ['nan', 'nan', 'nan', 'nan', 'nan', 'nan', 'na...\n",
       "6374  ['hyperkalemia', 'alert', 'hypertension', 'hyp...\n",
       "6375  ['nan', 'nan', 'nan', 'nan', 'nan', 'nan', 'na...\n",
       "6376  ['nan', 'nan', 'nan', 'nan', 'nan', 'nan', 'na...\n",
       "\n",
       "[6377 rows x 1 columns]"
      ]
     },
     "execution_count": 147,
     "metadata": {},
     "output_type": "execute_result"
    }
   ],
   "source": [
    "df"
   ]
  },
  {
   "cell_type": "code",
   "execution_count": 148,
   "metadata": {
    "id": "-AP79n4W-7US"
   },
   "outputs": [],
   "source": [
    "import re, nltk, spacy, string\n",
    "pd.options.mode.chained_assignment = None  \n",
    "df.TEXT=df.TEXT.astype(str)\n",
    "def clean_text(text):\n",
    "    '''Make text lowercase, remove text in square brackets, remove punctuation and remove words containing numbers.'''\n",
    "    text = text.lower()\n",
    "    # text = re.sub(r'\\[.*?\\]', '', text)\n",
    "    # text = re.sub(r'[%s]' % re.escape(string.punctuation), '', text)\n",
    "    # text = re.sub(r'\\w*\\d\\w*', '', text)\n",
    "    return text\n",
    "\n",
    "df_clean = pd.DataFrame(df.TEXT.apply(lambda x: clean_text(x)))"
   ]
  },
  {
   "cell_type": "code",
   "execution_count": 149,
   "metadata": {
    "colab": {
     "base_uri": "https://localhost:8080/",
     "height": 424
    },
    "id": "DotVp6jJ8GLy",
    "outputId": "6219078a-a1b6-4819-b5d3-30b46014429d"
   },
   "outputs": [
    {
     "data": {
      "text/html": [
       "<div>\n",
       "<style scoped>\n",
       "    .dataframe tbody tr th:only-of-type {\n",
       "        vertical-align: middle;\n",
       "    }\n",
       "\n",
       "    .dataframe tbody tr th {\n",
       "        vertical-align: top;\n",
       "    }\n",
       "\n",
       "    .dataframe thead th {\n",
       "        text-align: right;\n",
       "    }\n",
       "</style>\n",
       "<table border=\"1\" class=\"dataframe\">\n",
       "  <thead>\n",
       "    <tr style=\"text-align: right;\">\n",
       "      <th></th>\n",
       "      <th>TEXT</th>\n",
       "    </tr>\n",
       "  </thead>\n",
       "  <tbody>\n",
       "    <tr>\n",
       "      <th>0</th>\n",
       "      <td>['pain', 'disease', 'lesion', 'shortness of br...</td>\n",
       "    </tr>\n",
       "    <tr>\n",
       "      <th>1</th>\n",
       "      <td>['nan', 'nan', 'nan', 'nan', 'nan', 'nan', 'na...</td>\n",
       "    </tr>\n",
       "    <tr>\n",
       "      <th>2</th>\n",
       "      <td>['edema', 'lactic acidosis', 'cardiomyopathy',...</td>\n",
       "    </tr>\n",
       "    <tr>\n",
       "      <th>3</th>\n",
       "      <td>['fever', 'pna', 'chf', 'disease', 'febrile', ...</td>\n",
       "    </tr>\n",
       "    <tr>\n",
       "      <th>4</th>\n",
       "      <td>['bleeding', 'ulcers', 'bleed', 'thrombosis', ...</td>\n",
       "    </tr>\n",
       "    <tr>\n",
       "      <th>...</th>\n",
       "      <td>...</td>\n",
       "    </tr>\n",
       "    <tr>\n",
       "      <th>6372</th>\n",
       "      <td>['nan', 'nan', 'nan', 'nan', 'nan', 'nan', 'na...</td>\n",
       "    </tr>\n",
       "    <tr>\n",
       "      <th>6373</th>\n",
       "      <td>['nan', 'nan', 'nan', 'nan', 'nan', 'nan', 'na...</td>\n",
       "    </tr>\n",
       "    <tr>\n",
       "      <th>6374</th>\n",
       "      <td>['hyperkalemia', 'alert', 'hypertension', 'hyp...</td>\n",
       "    </tr>\n",
       "    <tr>\n",
       "      <th>6375</th>\n",
       "      <td>['nan', 'nan', 'nan', 'nan', 'nan', 'nan', 'na...</td>\n",
       "    </tr>\n",
       "    <tr>\n",
       "      <th>6376</th>\n",
       "      <td>['nan', 'nan', 'nan', 'nan', 'nan', 'nan', 'na...</td>\n",
       "    </tr>\n",
       "  </tbody>\n",
       "</table>\n",
       "<p>6377 rows × 1 columns</p>\n",
       "</div>"
      ],
      "text/plain": [
       "                                                   TEXT\n",
       "0     ['pain', 'disease', 'lesion', 'shortness of br...\n",
       "1     ['nan', 'nan', 'nan', 'nan', 'nan', 'nan', 'na...\n",
       "2     ['edema', 'lactic acidosis', 'cardiomyopathy',...\n",
       "3     ['fever', 'pna', 'chf', 'disease', 'febrile', ...\n",
       "4     ['bleeding', 'ulcers', 'bleed', 'thrombosis', ...\n",
       "...                                                 ...\n",
       "6372  ['nan', 'nan', 'nan', 'nan', 'nan', 'nan', 'na...\n",
       "6373  ['nan', 'nan', 'nan', 'nan', 'nan', 'nan', 'na...\n",
       "6374  ['hyperkalemia', 'alert', 'hypertension', 'hyp...\n",
       "6375  ['nan', 'nan', 'nan', 'nan', 'nan', 'nan', 'na...\n",
       "6376  ['nan', 'nan', 'nan', 'nan', 'nan', 'nan', 'na...\n",
       "\n",
       "[6377 rows x 1 columns]"
      ]
     },
     "execution_count": 149,
     "metadata": {},
     "output_type": "execute_result"
    }
   ],
   "source": [
    "df_clean"
   ]
  },
  {
   "cell_type": "code",
   "execution_count": 150,
   "metadata": {
    "id": "RNkoVwio-7UT"
   },
   "outputs": [],
   "source": [
    "#Function to Lemmatize the texts\n",
    "def lemmatizer(text):        \n",
    "    sent = []\n",
    "    doc = nlp(text)\n",
    "    for word in doc:\n",
    "        sent.append(word.lemma_)\n",
    "    return \" \".join(sent)"
   ]
  },
  {
   "cell_type": "code",
   "execution_count": 151,
   "metadata": {
    "id": "maikhgAW-7UW"
   },
   "outputs": [],
   "source": [
    "#Creating a dataframe that will have only the text and the lemmatized text.\n",
    "import en_core_web_sm\n",
    "nlp = en_core_web_sm.load()\n",
    "df_clean[\"name_lemmatize\"] =  df_clean.apply(lambda x: lemmatizer(x['TEXT']), axis=1)"
   ]
  },
  {
   "cell_type": "code",
   "execution_count": 152,
   "metadata": {
    "colab": {
     "base_uri": "https://localhost:8080/",
     "height": 424
    },
    "id": "4SlSZWqp-7UX",
    "outputId": "1417cb29-96a2-401b-9bd2-36b5d80ceb12"
   },
   "outputs": [
    {
     "data": {
      "text/html": [
       "<div>\n",
       "<style scoped>\n",
       "    .dataframe tbody tr th:only-of-type {\n",
       "        vertical-align: middle;\n",
       "    }\n",
       "\n",
       "    .dataframe tbody tr th {\n",
       "        vertical-align: top;\n",
       "    }\n",
       "\n",
       "    .dataframe thead th {\n",
       "        text-align: right;\n",
       "    }\n",
       "</style>\n",
       "<table border=\"1\" class=\"dataframe\">\n",
       "  <thead>\n",
       "    <tr style=\"text-align: right;\">\n",
       "      <th></th>\n",
       "      <th>TEXT</th>\n",
       "      <th>name_lemmatize</th>\n",
       "    </tr>\n",
       "  </thead>\n",
       "  <tbody>\n",
       "    <tr>\n",
       "      <th>0</th>\n",
       "      <td>['pain', 'disease', 'lesion', 'shortness of br...</td>\n",
       "      <td>[ ' pain ' , ' disease ' , ' lesion ' , ' shor...</td>\n",
       "    </tr>\n",
       "    <tr>\n",
       "      <th>1</th>\n",
       "      <td>['nan', 'nan', 'nan', 'nan', 'nan', 'nan', 'na...</td>\n",
       "      <td>[ ' nan ' , ' nan ' , ' nan ' , ' nan ' , ' na...</td>\n",
       "    </tr>\n",
       "    <tr>\n",
       "      <th>2</th>\n",
       "      <td>['edema', 'lactic acidosis', 'cardiomyopathy',...</td>\n",
       "      <td>[ ' edema ' , ' lactic acidosis ' , ' cardiomy...</td>\n",
       "    </tr>\n",
       "    <tr>\n",
       "      <th>3</th>\n",
       "      <td>['fever', 'pna', 'chf', 'disease', 'febrile', ...</td>\n",
       "      <td>[ ' fever ' , ' pna ' , ' chf ' , ' disease ' ...</td>\n",
       "    </tr>\n",
       "    <tr>\n",
       "      <th>4</th>\n",
       "      <td>['bleeding', 'ulcers', 'bleed', 'thrombosis', ...</td>\n",
       "      <td>[ ' bleed ' , ' ulcer ' , ' bleed ' , ' thromb...</td>\n",
       "    </tr>\n",
       "    <tr>\n",
       "      <th>...</th>\n",
       "      <td>...</td>\n",
       "      <td>...</td>\n",
       "    </tr>\n",
       "    <tr>\n",
       "      <th>6372</th>\n",
       "      <td>['nan', 'nan', 'nan', 'nan', 'nan', 'nan', 'na...</td>\n",
       "      <td>[ ' nan ' , ' nan ' , ' nan ' , ' nan ' , ' na...</td>\n",
       "    </tr>\n",
       "    <tr>\n",
       "      <th>6373</th>\n",
       "      <td>['nan', 'nan', 'nan', 'nan', 'nan', 'nan', 'na...</td>\n",
       "      <td>[ ' nan ' , ' nan ' , ' nan ' , ' nan ' , ' na...</td>\n",
       "    </tr>\n",
       "    <tr>\n",
       "      <th>6374</th>\n",
       "      <td>['hyperkalemia', 'alert', 'hypertension', 'hyp...</td>\n",
       "      <td>[ ' hyperkalemia ' , ' alert ' , ' hypertensio...</td>\n",
       "    </tr>\n",
       "    <tr>\n",
       "      <th>6375</th>\n",
       "      <td>['nan', 'nan', 'nan', 'nan', 'nan', 'nan', 'na...</td>\n",
       "      <td>[ ' nan ' , ' nan ' , ' nan ' , ' nan ' , ' na...</td>\n",
       "    </tr>\n",
       "    <tr>\n",
       "      <th>6376</th>\n",
       "      <td>['nan', 'nan', 'nan', 'nan', 'nan', 'nan', 'na...</td>\n",
       "      <td>[ ' nan ' , ' nan ' , ' nan ' , ' nan ' , ' na...</td>\n",
       "    </tr>\n",
       "  </tbody>\n",
       "</table>\n",
       "<p>6377 rows × 2 columns</p>\n",
       "</div>"
      ],
      "text/plain": [
       "                                                   TEXT  \\\n",
       "0     ['pain', 'disease', 'lesion', 'shortness of br...   \n",
       "1     ['nan', 'nan', 'nan', 'nan', 'nan', 'nan', 'na...   \n",
       "2     ['edema', 'lactic acidosis', 'cardiomyopathy',...   \n",
       "3     ['fever', 'pna', 'chf', 'disease', 'febrile', ...   \n",
       "4     ['bleeding', 'ulcers', 'bleed', 'thrombosis', ...   \n",
       "...                                                 ...   \n",
       "6372  ['nan', 'nan', 'nan', 'nan', 'nan', 'nan', 'na...   \n",
       "6373  ['nan', 'nan', 'nan', 'nan', 'nan', 'nan', 'na...   \n",
       "6374  ['hyperkalemia', 'alert', 'hypertension', 'hyp...   \n",
       "6375  ['nan', 'nan', 'nan', 'nan', 'nan', 'nan', 'na...   \n",
       "6376  ['nan', 'nan', 'nan', 'nan', 'nan', 'nan', 'na...   \n",
       "\n",
       "                                         name_lemmatize  \n",
       "0     [ ' pain ' , ' disease ' , ' lesion ' , ' shor...  \n",
       "1     [ ' nan ' , ' nan ' , ' nan ' , ' nan ' , ' na...  \n",
       "2     [ ' edema ' , ' lactic acidosis ' , ' cardiomy...  \n",
       "3     [ ' fever ' , ' pna ' , ' chf ' , ' disease ' ...  \n",
       "4     [ ' bleed ' , ' ulcer ' , ' bleed ' , ' thromb...  \n",
       "...                                                 ...  \n",
       "6372  [ ' nan ' , ' nan ' , ' nan ' , ' nan ' , ' na...  \n",
       "6373  [ ' nan ' , ' nan ' , ' nan ' , ' nan ' , ' na...  \n",
       "6374  [ ' hyperkalemia ' , ' alert ' , ' hypertensio...  \n",
       "6375  [ ' nan ' , ' nan ' , ' nan ' , ' nan ' , ' na...  \n",
       "6376  [ ' nan ' , ' nan ' , ' nan ' , ' nan ' , ' na...  \n",
       "\n",
       "[6377 rows x 2 columns]"
      ]
     },
     "execution_count": 152,
     "metadata": {},
     "output_type": "execute_result"
    }
   ],
   "source": [
    "df_clean"
   ]
  },
  {
   "cell_type": "code",
   "execution_count": 153,
   "metadata": {
    "colab": {
     "base_uri": "https://localhost:8080/"
    },
    "id": "dbDj5vO5B88-",
    "outputId": "e3095b00-bedd-42f8-d9c7-4289a92a703f"
   },
   "outputs": [
    {
     "name": "stderr",
     "output_type": "stream",
     "text": [
      "[nltk_data] Downloading package punkt to\n",
      "[nltk_data]     C:\\Users\\sarba\\AppData\\Roaming\\nltk_data...\n",
      "[nltk_data]   Package punkt is already up-to-date!\n",
      "[nltk_data] Downloading package averaged_perceptron_tagger to\n",
      "[nltk_data]     C:\\Users\\sarba\\AppData\\Roaming\\nltk_data...\n",
      "[nltk_data]   Package averaged_perceptron_tagger is already up-to-\n",
      "[nltk_data]       date!\n"
     ]
    },
    {
     "data": {
      "text/plain": [
       "True"
      ]
     },
     "execution_count": 153,
     "metadata": {},
     "output_type": "execute_result"
    }
   ],
   "source": [
    "import nltk\n",
    "nltk.download('punkt')\n",
    "nltk.download('averaged_perceptron_tagger')\n"
   ]
  },
  {
   "cell_type": "code",
   "execution_count": 154,
   "metadata": {
    "id": "-Bba8RaECLIn"
   },
   "outputs": [
    {
     "name": "stdout",
     "output_type": "stream",
     "text": [
      "Requirement already satisfied: textblob in c:\\users\\sarba\\anaconda3\\lib\\site-packages (0.17.1)\n",
      "Requirement already satisfied: nltk>=3.1 in c:\\users\\sarba\\anaconda3\\lib\\site-packages (from textblob) (3.7)\n",
      "Requirement already satisfied: joblib in c:\\users\\sarba\\anaconda3\\lib\\site-packages (from nltk>=3.1->textblob) (1.1.0)\n",
      "Requirement already satisfied: regex>=2021.8.3 in c:\\users\\sarba\\anaconda3\\lib\\site-packages (from nltk>=3.1->textblob) (2022.3.15)\n",
      "Requirement already satisfied: tqdm in c:\\users\\sarba\\anaconda3\\lib\\site-packages (from nltk>=3.1->textblob) (4.64.0)\n",
      "Requirement already satisfied: click in c:\\users\\sarba\\anaconda3\\lib\\site-packages (from nltk>=3.1->textblob) (8.0.4)\n",
      "Requirement already satisfied: colorama in c:\\users\\sarba\\anaconda3\\lib\\site-packages (from click->nltk>=3.1->textblob) (0.4.4)\n"
     ]
    }
   ],
   "source": [
    "!pip install textblob"
   ]
  },
  {
   "cell_type": "code",
   "execution_count": 155,
   "metadata": {
    "id": "gz4awSR--7Ub"
   },
   "outputs": [],
   "source": [
    "#Using custom Chunking\n",
    "#Chunking in NLP is a process to take small pieces of information and group them into large units. The primary use of Chunking is making groups of \"noun phrases.\n",
    "#Here we are using only noun, singular as we have already lemmatized the texts.\n",
    "import pandas as pd\n",
    "from textblob import TextBlob\n",
    "\n",
    "def pos_tag(text):\n",
    "    try:\n",
    "        return TextBlob(text).tags\n",
    "    except:\n",
    "        return None\n",
    "\n",
    "def get_adjectives(text):\n",
    "    blob = TextBlob(text)\n",
    "    return ' '.join([ word for (word,tag) in blob.tags if tag == \"NN\"])\n",
    "\n",
    "df_clean[\"name_POS_removed\"] =  df_clean.apply(lambda x: get_adjectives(x['name_lemmatize']), axis=1)"
   ]
  },
  {
   "cell_type": "code",
   "execution_count": 156,
   "metadata": {
    "colab": {
     "base_uri": "https://localhost:8080/",
     "height": 424
    },
    "id": "q0da65Y8-7Uc",
    "outputId": "a6b7d50c-693a-4665-df90-1bc513d9dd83"
   },
   "outputs": [
    {
     "data": {
      "text/html": [
       "<div>\n",
       "<style scoped>\n",
       "    .dataframe tbody tr th:only-of-type {\n",
       "        vertical-align: middle;\n",
       "    }\n",
       "\n",
       "    .dataframe tbody tr th {\n",
       "        vertical-align: top;\n",
       "    }\n",
       "\n",
       "    .dataframe thead th {\n",
       "        text-align: right;\n",
       "    }\n",
       "</style>\n",
       "<table border=\"1\" class=\"dataframe\">\n",
       "  <thead>\n",
       "    <tr style=\"text-align: right;\">\n",
       "      <th></th>\n",
       "      <th>TEXT</th>\n",
       "      <th>name_lemmatize</th>\n",
       "      <th>name_POS_removed</th>\n",
       "    </tr>\n",
       "  </thead>\n",
       "  <tbody>\n",
       "    <tr>\n",
       "      <th>0</th>\n",
       "      <td>['pain', 'disease', 'lesion', 'shortness of br...</td>\n",
       "      <td>[ ' pain ' , ' disease ' , ' lesion ' , ' shor...</td>\n",
       "      <td>[ pain disease lesion shortness breath artery ...</td>\n",
       "    </tr>\n",
       "    <tr>\n",
       "      <th>1</th>\n",
       "      <td>['nan', 'nan', 'nan', 'nan', 'nan', 'nan', 'na...</td>\n",
       "      <td>[ ' nan ' , ' nan ' , ' nan ' , ' nan ' , ' na...</td>\n",
       "      <td>[ nan nan nan nan nan nan nan nan nan ]</td>\n",
       "    </tr>\n",
       "    <tr>\n",
       "      <th>2</th>\n",
       "      <td>['edema', 'lactic acidosis', 'cardiomyopathy',...</td>\n",
       "      <td>[ ' edema ' , ' lactic acidosis ' , ' cardiomy...</td>\n",
       "      <td>[ edema acidosis cardiomyopathy shortness brea...</td>\n",
       "    </tr>\n",
       "    <tr>\n",
       "      <th>3</th>\n",
       "      <td>['fever', 'pna', 'chf', 'disease', 'febrile', ...</td>\n",
       "      <td>[ ' fever ' , ' pna ' , ' chf ' , ' disease ' ...</td>\n",
       "      <td>[ fever pna chf disease febrile cough diarrhea...</td>\n",
       "    </tr>\n",
       "    <tr>\n",
       "      <th>4</th>\n",
       "      <td>['bleeding', 'ulcers', 'bleed', 'thrombosis', ...</td>\n",
       "      <td>[ ' bleed ' , ' ulcer ' , ' bleed ' , ' thromb...</td>\n",
       "      <td>[ bleed ulcer bleed thrombosis melena pain ede...</td>\n",
       "    </tr>\n",
       "    <tr>\n",
       "      <th>...</th>\n",
       "      <td>...</td>\n",
       "      <td>...</td>\n",
       "      <td>...</td>\n",
       "    </tr>\n",
       "    <tr>\n",
       "      <th>6372</th>\n",
       "      <td>['nan', 'nan', 'nan', 'nan', 'nan', 'nan', 'na...</td>\n",
       "      <td>[ ' nan ' , ' nan ' , ' nan ' , ' nan ' , ' na...</td>\n",
       "      <td>[ nan nan nan nan nan nan nan nan nan ]</td>\n",
       "    </tr>\n",
       "    <tr>\n",
       "      <th>6373</th>\n",
       "      <td>['nan', 'nan', 'nan', 'nan', 'nan', 'nan', 'na...</td>\n",
       "      <td>[ ' nan ' , ' nan ' , ' nan ' , ' nan ' , ' na...</td>\n",
       "      <td>[ nan nan nan nan nan nan nan nan nan ]</td>\n",
       "    </tr>\n",
       "    <tr>\n",
       "      <th>6374</th>\n",
       "      <td>['hyperkalemia', 'alert', 'hypertension', 'hyp...</td>\n",
       "      <td>[ ' hyperkalemia ' , ' alert ' , ' hypertensio...</td>\n",
       "      <td>[ hyperkalemia alert hypertension hyperglycemi...</td>\n",
       "    </tr>\n",
       "    <tr>\n",
       "      <th>6375</th>\n",
       "      <td>['nan', 'nan', 'nan', 'nan', 'nan', 'nan', 'na...</td>\n",
       "      <td>[ ' nan ' , ' nan ' , ' nan ' , ' nan ' , ' na...</td>\n",
       "      <td>[ nan nan nan nan nan nan nan nan nan ]</td>\n",
       "    </tr>\n",
       "    <tr>\n",
       "      <th>6376</th>\n",
       "      <td>['nan', 'nan', 'nan', 'nan', 'nan', 'nan', 'na...</td>\n",
       "      <td>[ ' nan ' , ' nan ' , ' nan ' , ' nan ' , ' na...</td>\n",
       "      <td>[ nan nan nan nan nan nan nan nan nan ]</td>\n",
       "    </tr>\n",
       "  </tbody>\n",
       "</table>\n",
       "<p>6377 rows × 3 columns</p>\n",
       "</div>"
      ],
      "text/plain": [
       "                                                   TEXT  \\\n",
       "0     ['pain', 'disease', 'lesion', 'shortness of br...   \n",
       "1     ['nan', 'nan', 'nan', 'nan', 'nan', 'nan', 'na...   \n",
       "2     ['edema', 'lactic acidosis', 'cardiomyopathy',...   \n",
       "3     ['fever', 'pna', 'chf', 'disease', 'febrile', ...   \n",
       "4     ['bleeding', 'ulcers', 'bleed', 'thrombosis', ...   \n",
       "...                                                 ...   \n",
       "6372  ['nan', 'nan', 'nan', 'nan', 'nan', 'nan', 'na...   \n",
       "6373  ['nan', 'nan', 'nan', 'nan', 'nan', 'nan', 'na...   \n",
       "6374  ['hyperkalemia', 'alert', 'hypertension', 'hyp...   \n",
       "6375  ['nan', 'nan', 'nan', 'nan', 'nan', 'nan', 'na...   \n",
       "6376  ['nan', 'nan', 'nan', 'nan', 'nan', 'nan', 'na...   \n",
       "\n",
       "                                         name_lemmatize  \\\n",
       "0     [ ' pain ' , ' disease ' , ' lesion ' , ' shor...   \n",
       "1     [ ' nan ' , ' nan ' , ' nan ' , ' nan ' , ' na...   \n",
       "2     [ ' edema ' , ' lactic acidosis ' , ' cardiomy...   \n",
       "3     [ ' fever ' , ' pna ' , ' chf ' , ' disease ' ...   \n",
       "4     [ ' bleed ' , ' ulcer ' , ' bleed ' , ' thromb...   \n",
       "...                                                 ...   \n",
       "6372  [ ' nan ' , ' nan ' , ' nan ' , ' nan ' , ' na...   \n",
       "6373  [ ' nan ' , ' nan ' , ' nan ' , ' nan ' , ' na...   \n",
       "6374  [ ' hyperkalemia ' , ' alert ' , ' hypertensio...   \n",
       "6375  [ ' nan ' , ' nan ' , ' nan ' , ' nan ' , ' na...   \n",
       "6376  [ ' nan ' , ' nan ' , ' nan ' , ' nan ' , ' na...   \n",
       "\n",
       "                                       name_POS_removed  \n",
       "0     [ pain disease lesion shortness breath artery ...  \n",
       "1               [ nan nan nan nan nan nan nan nan nan ]  \n",
       "2     [ edema acidosis cardiomyopathy shortness brea...  \n",
       "3     [ fever pna chf disease febrile cough diarrhea...  \n",
       "4     [ bleed ulcer bleed thrombosis melena pain ede...  \n",
       "...                                                 ...  \n",
       "6372            [ nan nan nan nan nan nan nan nan nan ]  \n",
       "6373            [ nan nan nan nan nan nan nan nan nan ]  \n",
       "6374  [ hyperkalemia alert hypertension hyperglycemi...  \n",
       "6375            [ nan nan nan nan nan nan nan nan nan ]  \n",
       "6376            [ nan nan nan nan nan nan nan nan nan ]  \n",
       "\n",
       "[6377 rows x 3 columns]"
      ]
     },
     "execution_count": 156,
     "metadata": {},
     "output_type": "execute_result"
    }
   ],
   "source": [
    "#Now the clean dataframe .\n",
    "df_clean"
   ]
  },
  {
   "cell_type": "code",
   "execution_count": 157,
   "metadata": {
    "colab": {
     "base_uri": "https://localhost:8080/"
    },
    "id": "QoTiehaTXhaK",
    "outputId": "d419e419-b2af-4ba3-f4ed-f35c89abb7ef"
   },
   "outputs": [
    {
     "name": "stderr",
     "output_type": "stream",
     "text": [
      "[nltk_data] Downloading package stopwords to\n",
      "[nltk_data]     C:\\Users\\sarba\\AppData\\Roaming\\nltk_data...\n",
      "[nltk_data]   Package stopwords is already up-to-date!\n"
     ]
    }
   ],
   "source": [
    "\n",
    "import nltk.corpus\n",
    "nltk.download(\"stopwords\")\n",
    "from nltk.corpus import stopwords\n"
   ]
  },
  {
   "cell_type": "code",
   "execution_count": 158,
   "metadata": {
    "id": "yjs82plmXxVR"
   },
   "outputs": [],
   "source": [
    "\n",
    "stop_words = stopwords.words('english')\n",
    "df_clean['name_POS_removed'] = df_clean['name_POS_removed'].apply(lambda x: ' '.join([word for word in x.split() if word not in (stop_words)]))"
   ]
  },
  {
   "cell_type": "markdown",
   "metadata": {
    "id": "-ncHjsxM-7Ue"
   },
   "source": [
    "## Let’s do some quick exploratory data analysis to get familiar with the data."
   ]
  },
  {
   "cell_type": "code",
   "execution_count": 159,
   "metadata": {
    "colab": {
     "base_uri": "https://localhost:8080/",
     "height": 404
    },
    "id": "tyh58NUE-7Ue",
    "outputId": "db3821be-f1b8-409c-ed6d-99b732b84c44"
   },
   "outputs": [
    {
     "data": {
      "image/png": "[encoded data removed]",
      "text/plain": [
       "<Figure size 720x432 with 1 Axes>"
      ]
     },
     "metadata": {
      "needs_background": "light"
     },
     "output_type": "display_data"
    }
   ],
   "source": [
    "import seaborn as sns\n",
    "import matplotlib.pyplot as plt\n",
    "%matplotlib inline\n",
    "\n",
    "from plotly.offline import plot\n",
    "import plotly.graph_objects as go\n",
    "import plotly.express as px\n",
    "plt.figure(figsize=(10,6))\n",
    "doc_lens = [len(d) for d in df_clean.name_POS_removed]\n",
    "plt.hist(doc_lens, bins = 50)\n",
    "plt.title('Distribution of name character length')\n",
    "plt.ylabel('Number of name')\n",
    "plt.xlabel('name character length')\n",
    "sns.despine();"
   ]
  },
  {
   "cell_type": "code",
   "execution_count": 160,
   "metadata": {
    "colab": {
     "base_uri": "https://localhost:8080/"
    },
    "id": "0PsXoSgaQqKC",
    "outputId": "290c0b95-ed28-4ac8-a550-93db8b46af70"
   },
   "outputs": [
    {
     "name": "stdout",
     "output_type": "stream",
     "text": [
      "(6377, 3)\n",
      "(6377, 3)\n"
     ]
    }
   ],
   "source": [
    "#Removing the text whose length i less than 3\n",
    "\n",
    "print(df_clean.shape)\n",
    "df_clean = df_clean[df_clean['name_POS_removed'].apply(lambda x: len(str(x)) > 2)]\n",
    "print(df_clean.shape)"
   ]
  },
  {
   "cell_type": "code",
   "execution_count": 161,
   "metadata": {
    "colab": {
     "base_uri": "https://localhost:8080/"
    },
    "id": "VKkij6WQ5PEC",
    "outputId": "133fedcd-9c1c-4f9b-8407-584ff3747a5e"
   },
   "outputs": [
    {
     "data": {
      "text/plain": [
       "0       [ pain disease lesion shortness breath artery ...\n",
       "1                 [ nan nan nan nan nan nan nan nan nan ]\n",
       "2       [ edema acidosis cardiomyopathy shortness brea...\n",
       "3       [ fever pna chf disease febrile cough diarrhea...\n",
       "4       [ bleed ulcer bleed thrombosis melena pain ede...\n",
       "                              ...                        \n",
       "6372              [ nan nan nan nan nan nan nan nan nan ]\n",
       "6373              [ nan nan nan nan nan nan nan nan nan ]\n",
       "6374    [ hyperkalemia alert hypertension hyperglycemi...\n",
       "6375              [ nan nan nan nan nan nan nan nan nan ]\n",
       "6376              [ nan nan nan nan nan nan nan nan nan ]\n",
       "Name: name_POS_removed, Length: 6377, dtype: object"
      ]
     },
     "execution_count": 161,
     "metadata": {},
     "output_type": "execute_result"
    }
   ],
   "source": [
    "#doc_lens = [len(d) for d in df_clean.name_POS_removed]\n",
    "\n",
    "df_clean.name_POS_removed"
   ]
  },
  {
   "cell_type": "code",
   "execution_count": 162,
   "metadata": {
    "colab": {
     "base_uri": "https://localhost:8080/"
    },
    "id": "Sq2kwcOe2SUL",
    "outputId": "ae411a4a-eade-4ea9-86f1-3fc08ff776ab"
   },
   "outputs": [
    {
     "data": {
      "text/plain": [
       "81"
      ]
     },
     "execution_count": 162,
     "metadata": {},
     "output_type": "execute_result"
    }
   ],
   "source": [
    "doc_lens[4]"
   ]
  },
  {
   "cell_type": "code",
   "execution_count": 163,
   "metadata": {
    "colab": {
     "base_uri": "https://localhost:8080/",
     "height": 424
    },
    "id": "aIVoZgJQ7NVa",
    "outputId": "3ded1572-78f2-493f-b89f-06adcbd11494"
   },
   "outputs": [
    {
     "data": {
      "text/html": [
       "<div>\n",
       "<style scoped>\n",
       "    .dataframe tbody tr th:only-of-type {\n",
       "        vertical-align: middle;\n",
       "    }\n",
       "\n",
       "    .dataframe tbody tr th {\n",
       "        vertical-align: top;\n",
       "    }\n",
       "\n",
       "    .dataframe thead th {\n",
       "        text-align: right;\n",
       "    }\n",
       "</style>\n",
       "<table border=\"1\" class=\"dataframe\">\n",
       "  <thead>\n",
       "    <tr style=\"text-align: right;\">\n",
       "      <th></th>\n",
       "      <th>TEXT</th>\n",
       "      <th>name_lemmatize</th>\n",
       "      <th>name_POS_removed</th>\n",
       "    </tr>\n",
       "  </thead>\n",
       "  <tbody>\n",
       "    <tr>\n",
       "      <th>0</th>\n",
       "      <td>['pain', 'disease', 'lesion', 'shortness of br...</td>\n",
       "      <td>[ ' pain ' , ' disease ' , ' lesion ' , ' shor...</td>\n",
       "      <td>[ pain disease lesion shortness breath artery ...</td>\n",
       "    </tr>\n",
       "    <tr>\n",
       "      <th>1</th>\n",
       "      <td>['nan', 'nan', 'nan', 'nan', 'nan', 'nan', 'na...</td>\n",
       "      <td>[ ' nan ' , ' nan ' , ' nan ' , ' nan ' , ' na...</td>\n",
       "      <td>[ nan nan nan nan nan nan nan nan nan ]</td>\n",
       "    </tr>\n",
       "    <tr>\n",
       "      <th>2</th>\n",
       "      <td>['edema', 'lactic acidosis', 'cardiomyopathy',...</td>\n",
       "      <td>[ ' edema ' , ' lactic acidosis ' , ' cardiomy...</td>\n",
       "      <td>[ edema acidosis cardiomyopathy shortness brea...</td>\n",
       "    </tr>\n",
       "    <tr>\n",
       "      <th>3</th>\n",
       "      <td>['fever', 'pna', 'chf', 'disease', 'febrile', ...</td>\n",
       "      <td>[ ' fever ' , ' pna ' , ' chf ' , ' disease ' ...</td>\n",
       "      <td>[ fever pna chf disease febrile cough diarrhea...</td>\n",
       "    </tr>\n",
       "    <tr>\n",
       "      <th>4</th>\n",
       "      <td>['bleeding', 'ulcers', 'bleed', 'thrombosis', ...</td>\n",
       "      <td>[ ' bleed ' , ' ulcer ' , ' bleed ' , ' thromb...</td>\n",
       "      <td>[ bleed ulcer bleed thrombosis melena pain ede...</td>\n",
       "    </tr>\n",
       "    <tr>\n",
       "      <th>...</th>\n",
       "      <td>...</td>\n",
       "      <td>...</td>\n",
       "      <td>...</td>\n",
       "    </tr>\n",
       "    <tr>\n",
       "      <th>6372</th>\n",
       "      <td>['nan', 'nan', 'nan', 'nan', 'nan', 'nan', 'na...</td>\n",
       "      <td>[ ' nan ' , ' nan ' , ' nan ' , ' nan ' , ' na...</td>\n",
       "      <td>[ nan nan nan nan nan nan nan nan nan ]</td>\n",
       "    </tr>\n",
       "    <tr>\n",
       "      <th>6373</th>\n",
       "      <td>['nan', 'nan', 'nan', 'nan', 'nan', 'nan', 'na...</td>\n",
       "      <td>[ ' nan ' , ' nan ' , ' nan ' , ' nan ' , ' na...</td>\n",
       "      <td>[ nan nan nan nan nan nan nan nan nan ]</td>\n",
       "    </tr>\n",
       "    <tr>\n",
       "      <th>6374</th>\n",
       "      <td>['hyperkalemia', 'alert', 'hypertension', 'hyp...</td>\n",
       "      <td>[ ' hyperkalemia ' , ' alert ' , ' hypertensio...</td>\n",
       "      <td>[ hyperkalemia alert hypertension hyperglycemi...</td>\n",
       "    </tr>\n",
       "    <tr>\n",
       "      <th>6375</th>\n",
       "      <td>['nan', 'nan', 'nan', 'nan', 'nan', 'nan', 'na...</td>\n",
       "      <td>[ ' nan ' , ' nan ' , ' nan ' , ' nan ' , ' na...</td>\n",
       "      <td>[ nan nan nan nan nan nan nan nan nan ]</td>\n",
       "    </tr>\n",
       "    <tr>\n",
       "      <th>6376</th>\n",
       "      <td>['nan', 'nan', 'nan', 'nan', 'nan', 'nan', 'na...</td>\n",
       "      <td>[ ' nan ' , ' nan ' , ' nan ' , ' nan ' , ' na...</td>\n",
       "      <td>[ nan nan nan nan nan nan nan nan nan ]</td>\n",
       "    </tr>\n",
       "  </tbody>\n",
       "</table>\n",
       "<p>6377 rows × 3 columns</p>\n",
       "</div>"
      ],
      "text/plain": [
       "                                                   TEXT  \\\n",
       "0     ['pain', 'disease', 'lesion', 'shortness of br...   \n",
       "1     ['nan', 'nan', 'nan', 'nan', 'nan', 'nan', 'na...   \n",
       "2     ['edema', 'lactic acidosis', 'cardiomyopathy',...   \n",
       "3     ['fever', 'pna', 'chf', 'disease', 'febrile', ...   \n",
       "4     ['bleeding', 'ulcers', 'bleed', 'thrombosis', ...   \n",
       "...                                                 ...   \n",
       "6372  ['nan', 'nan', 'nan', 'nan', 'nan', 'nan', 'na...   \n",
       "6373  ['nan', 'nan', 'nan', 'nan', 'nan', 'nan', 'na...   \n",
       "6374  ['hyperkalemia', 'alert', 'hypertension', 'hyp...   \n",
       "6375  ['nan', 'nan', 'nan', 'nan', 'nan', 'nan', 'na...   \n",
       "6376  ['nan', 'nan', 'nan', 'nan', 'nan', 'nan', 'na...   \n",
       "\n",
       "                                         name_lemmatize  \\\n",
       "0     [ ' pain ' , ' disease ' , ' lesion ' , ' shor...   \n",
       "1     [ ' nan ' , ' nan ' , ' nan ' , ' nan ' , ' na...   \n",
       "2     [ ' edema ' , ' lactic acidosis ' , ' cardiomy...   \n",
       "3     [ ' fever ' , ' pna ' , ' chf ' , ' disease ' ...   \n",
       "4     [ ' bleed ' , ' ulcer ' , ' bleed ' , ' thromb...   \n",
       "...                                                 ...   \n",
       "6372  [ ' nan ' , ' nan ' , ' nan ' , ' nan ' , ' na...   \n",
       "6373  [ ' nan ' , ' nan ' , ' nan ' , ' nan ' , ' na...   \n",
       "6374  [ ' hyperkalemia ' , ' alert ' , ' hypertensio...   \n",
       "6375  [ ' nan ' , ' nan ' , ' nan ' , ' nan ' , ' na...   \n",
       "6376  [ ' nan ' , ' nan ' , ' nan ' , ' nan ' , ' na...   \n",
       "\n",
       "                                       name_POS_removed  \n",
       "0     [ pain disease lesion shortness breath artery ...  \n",
       "1               [ nan nan nan nan nan nan nan nan nan ]  \n",
       "2     [ edema acidosis cardiomyopathy shortness brea...  \n",
       "3     [ fever pna chf disease febrile cough diarrhea...  \n",
       "4     [ bleed ulcer bleed thrombosis melena pain ede...  \n",
       "...                                                 ...  \n",
       "6372            [ nan nan nan nan nan nan nan nan nan ]  \n",
       "6373            [ nan nan nan nan nan nan nan nan nan ]  \n",
       "6374  [ hyperkalemia alert hypertension hyperglycemi...  \n",
       "6375            [ nan nan nan nan nan nan nan nan nan ]  \n",
       "6376            [ nan nan nan nan nan nan nan nan nan ]  \n",
       "\n",
       "[6377 rows x 3 columns]"
      ]
     },
     "execution_count": 163,
     "metadata": {},
     "output_type": "execute_result"
    }
   ],
   "source": [
    "df_clean"
   ]
  },
  {
   "cell_type": "markdown",
   "metadata": {
    "id": "LEjJQCZZ-7Ug"
   },
   "source": [
    "## In terms of the distribution of the word counts, it’s skewed towards left. The maximum texts are short text.\n",
    "## Here are the top 40 words by frequency among all the articles after processing the text."
   ]
  },
  {
   "cell_type": "code",
   "execution_count": 164,
   "metadata": {},
   "outputs": [
    {
     "name": "stdout",
     "output_type": "stream",
     "text": [
      "Requirement already satisfied: wordcloud in c:\\users\\sarba\\anaconda3\\lib\\site-packages (1.8.2.2)\n",
      "Requirement already satisfied: numpy>=1.6.1 in c:\\users\\sarba\\anaconda3\\lib\\site-packages (from wordcloud) (1.21.5)\n",
      "Requirement already satisfied: matplotlib in c:\\users\\sarba\\anaconda3\\lib\\site-packages (from wordcloud) (3.5.1)\n",
      "Requirement already satisfied: pillow in c:\\users\\sarba\\anaconda3\\lib\\site-packages (from wordcloud) (9.0.1)\n",
      "Requirement already satisfied: packaging>=20.0 in c:\\users\\sarba\\anaconda3\\lib\\site-packages (from matplotlib->wordcloud) (21.3)\n",
      "Requirement already satisfied: pyparsing>=2.2.1 in c:\\users\\sarba\\anaconda3\\lib\\site-packages (from matplotlib->wordcloud) (3.0.4)\n",
      "Requirement already satisfied: fonttools>=4.22.0 in c:\\users\\sarba\\anaconda3\\lib\\site-packages (from matplotlib->wordcloud) (4.25.0)\n",
      "Requirement already satisfied: python-dateutil>=2.7 in c:\\users\\sarba\\anaconda3\\lib\\site-packages (from matplotlib->wordcloud) (2.8.2)\n",
      "Requirement already satisfied: cycler>=0.10 in c:\\users\\sarba\\anaconda3\\lib\\site-packages (from matplotlib->wordcloud) (0.11.0)\n",
      "Requirement already satisfied: kiwisolver>=1.0.1 in c:\\users\\sarba\\anaconda3\\lib\\site-packages (from matplotlib->wordcloud) (1.3.2)\n",
      "Requirement already satisfied: six>=1.5 in c:\\users\\sarba\\anaconda3\\lib\\site-packages (from python-dateutil>=2.7->matplotlib->wordcloud) (1.16.0)\n"
     ]
    }
   ],
   "source": [
    "!pip install wordcloud"
   ]
  },
  {
   "cell_type": "code",
   "execution_count": 165,
   "metadata": {
    "colab": {
     "base_uri": "https://localhost:8080/",
     "height": 598
    },
    "id": "8r33HdqV-7Uh",
    "outputId": "4682735e-03e8-446a-e1bc-aae1a03f441e"
   },
   "outputs": [
    {
     "name": "stdout",
     "output_type": "stream",
     "text": [
      "<wordcloud.wordcloud.WordCloud object at 0x000002D7E8EA2D00>\n"
     ]
    },
    {
     "data": {
      "image/png": "[encoded data removed]",
      "text/plain": [
       "<Figure size 1440x1440 with 1 Axes>"
      ]
     },
     "metadata": {
      "needs_background": "light"
     },
     "output_type": "display_data"
    }
   ],
   "source": [
    "import matplotlib as mpl\n",
    "import matplotlib.pyplot as plt\n",
    "%matplotlib inline\n",
    "\n",
    "from subprocess import check_output\n",
    "from wordcloud import WordCloud, STOPWORDS\n",
    "\n",
    "mpl.rcParams['figure.figsize']=(20.0,20.0)  \n",
    "mpl.rcParams['font.size']=12            \n",
    "mpl.rcParams['savefig.dpi']=100             \n",
    "mpl.rcParams['figure.subplot.bottom']=.1 \n",
    "stopwords = set(STOPWORDS)\n",
    "\n",
    "wordcloud = WordCloud(\n",
    "                          background_color='white',\n",
    "                          stopwords=stopwords,\n",
    "                          max_words=70,\n",
    "                          max_font_size=40, \n",
    "                          random_state=42\n",
    "                         ).generate(str(df_clean['name_POS_removed']))\n",
    "\n",
    "print(wordcloud)\n",
    "fig = plt.figure(1)\n",
    "plt.imshow(wordcloud)\n",
    "plt.axis('off')\n",
    "plt.show();"
   ]
  },
  {
   "cell_type": "code",
   "execution_count": 166,
   "metadata": {
    "id": "w9Ucss5h-7Uj"
   },
   "outputs": [],
   "source": [
    "#Removing -PRON- from the text corpus\n",
    "df_clean['name_clean'] = df_clean['name_POS_removed'].str.replace('-PRON-', '')"
   ]
  },
  {
   "cell_type": "markdown",
   "metadata": {
    "id": "MuaLOedl-7Uk"
   },
   "source": [
    "## Here are the top unigrams,bigrams and trigrams by frequency among all the complaints after processing the text. ‘\n",
    "\n",
    "Detect words which are some of the top words which makes sense given the focus of the complaints."
   ]
  },
  {
   "cell_type": "code",
   "execution_count": 167,
   "metadata": {
    "colab": {
     "base_uri": "https://localhost:8080/",
     "height": 542
    },
    "id": "jfglje4n-7Ul",
    "outputId": "176af936-4f3e-4043-dc1f-223877918d70"
   },
   "outputs": [
    {
     "data": {
      "application/vnd.plotly.v1+json": {
       "config": {
        "plotlyServerURL": "https://plot.ly"
       },
       "data": [
        {
         "type": "bar",
         "x": [
          "nan",
          "pain",
          "edema",
          "disease",
          "failure",
          "hypertension",
          "effusion",
          "bleed",
          "pneumonia",
          "fibrillation",
          "fever",
          "stenosis",
          "heart",
          "hypotension",
          "breath",
          "shortness",
          "infection",
          "anemia",
          "artery",
          "regurgitation",
          "nausea",
          "thicken",
          "lesion",
          "cough",
          "wound",
          "alert",
          "vomit",
          "sepsis",
          "cancer",
          "constipation",
          "dyspnea",
          "ulcer",
          "status",
          "mellitus",
          "diarrhea",
          "hematoma",
          "fracture",
          "tachycardia",
          "symptom",
          "afib",
          "distress",
          "hypokinesis",
          "mass",
          "seizure",
          "infarction",
          "depression",
          "rhythm",
          "cardiomyopathy",
          "hypoxia",
          "function"
         ],
         "y": [
          27359,
          2100,
          1114,
          1015,
          991,
          804,
          666,
          641,
          623,
          574,
          568,
          526,
          524,
          498,
          489,
          458,
          452,
          420,
          386,
          340,
          320,
          263,
          238,
          235,
          234,
          226,
          223,
          223,
          222,
          220,
          207,
          200,
          200,
          199,
          197,
          194,
          188,
          185,
          183,
          172,
          165,
          164,
          162,
          159,
          158,
          157,
          154,
          142,
          142,
          141
         ]
        }
       ],
       "layout": {
        "template": {
         "data": {
          "bar": [
           {
            "error_x": {
             "color": "#2a3f5f"
            },
            "error_y": {
             "color": "#2a3f5f"
            },
            "marker": {
             "line": {
              "color": "#E5ECF6",
              "width": 0.5
             },
             "pattern": {
              "fillmode": "overlay",
              "size": 10,
              "solidity": 0.2
             }
            },
            "type": "bar"
           }
          ],
          "barpolar": [
           {
            "marker": {
             "line": {
              "color": "#E5ECF6",
              "width": 0.5
             },
             "pattern": {
              "fillmode": "overlay",
              "size": 10,
              "solidity": 0.2
             }
            },
            "type": "barpolar"
           }
          ],
          "carpet": [
           {
            "aaxis": {
             "endlinecolor": "#2a3f5f",
             "gridcolor": "white",
             "linecolor": "white",
             "minorgridcolor": "white",
             "startlinecolor": "#2a3f5f"
            },
            "baxis": {
             "endlinecolor": "#2a3f5f",
             "gridcolor": "white",
             "linecolor": "white",
             "minorgridcolor": "white",
             "startlinecolor": "#2a3f5f"
            },
            "type": "carpet"
           }
          ],
          "choropleth": [
           {
            "colorbar": {
             "outlinewidth": 0,
             "ticks": ""
            },
            "type": "choropleth"
           }
          ],
          "contour": [
           {
            "colorbar": {
             "outlinewidth": 0,
             "ticks": ""
            },
            "colorscale": [
             [
              0,
              "#0d0887"
             ],
             [
              0.1111111111111111,
              "#46039f"
             ],
             [
              0.2222222222222222,
              "#7201a8"
             ],
             [
              0.3333333333333333,
              "#9c179e"
             ],
             [
              0.4444444444444444,
              "#bd3786"
             ],
             [
              0.5555555555555556,
              "#d8576b"
             ],
             [
              0.6666666666666666,
              "#ed7953"
             ],
             [
              0.7777777777777778,
              "#fb9f3a"
             ],
             [
              0.8888888888888888,
              "#fdca26"
             ],
             [
              1,
              "#f0f921"
             ]
            ],
            "type": "contour"
           }
          ],
          "contourcarpet": [
           {
            "colorbar": {
             "outlinewidth": 0,
             "ticks": ""
            },
            "type": "contourcarpet"
           }
          ],
          "heatmap": [
           {
            "colorbar": {
             "outlinewidth": 0,
             "ticks": ""
            },
            "colorscale": [
             [
              0,
              "#0d0887"
             ],
             [
              0.1111111111111111,
              "#46039f"
             ],
             [
              0.2222222222222222,
              "#7201a8"
             ],
             [
              0.3333333333333333,
              "#9c179e"
             ],
             [
              0.4444444444444444,
              "#bd3786"
             ],
             [
              0.5555555555555556,
              "#d8576b"
             ],
             [
              0.6666666666666666,
              "#ed7953"
             ],
             [
              0.7777777777777778,
              "#fb9f3a"
             ],
             [
              0.8888888888888888,
              "#fdca26"
             ],
             [
              1,
              "#f0f921"
             ]
            ],
            "type": "heatmap"
           }
          ],
          "heatmapgl": [
           {
            "colorbar": {
             "outlinewidth": 0,
             "ticks": ""
            },
            "colorscale": [
             [
              0,
              "#0d0887"
             ],
             [
              0.1111111111111111,
              "#46039f"
             ],
             [
              0.2222222222222222,
              "#7201a8"
             ],
             [
              0.3333333333333333,
              "#9c179e"
             ],
             [
              0.4444444444444444,
              "#bd3786"
             ],
             [
              0.5555555555555556,
              "#d8576b"
             ],
             [
              0.6666666666666666,
              "#ed7953"
             ],
             [
              0.7777777777777778,
              "#fb9f3a"
             ],
             [
              0.8888888888888888,
              "#fdca26"
             ],
             [
              1,
              "#f0f921"
             ]
            ],
            "type": "heatmapgl"
           }
          ],
          "histogram": [
           {
            "marker": {
             "pattern": {
              "fillmode": "overlay",
              "size": 10,
              "solidity": 0.2
             }
            },
            "type": "histogram"
           }
          ],
          "histogram2d": [
           {
            "colorbar": {
             "outlinewidth": 0,
             "ticks": ""
            },
            "colorscale": [
             [
              0,
              "#0d0887"
             ],
             [
              0.1111111111111111,
              "#46039f"
             ],
             [
              0.2222222222222222,
              "#7201a8"
             ],
             [
              0.3333333333333333,
              "#9c179e"
             ],
             [
              0.4444444444444444,
              "#bd3786"
             ],
             [
              0.5555555555555556,
              "#d8576b"
             ],
             [
              0.6666666666666666,
              "#ed7953"
             ],
             [
              0.7777777777777778,
              "#fb9f3a"
             ],
             [
              0.8888888888888888,
              "#fdca26"
             ],
             [
              1,
              "#f0f921"
             ]
            ],
            "type": "histogram2d"
           }
          ],
          "histogram2dcontour": [
           {
            "colorbar": {
             "outlinewidth": 0,
             "ticks": ""
            },
            "colorscale": [
             [
              0,
              "#0d0887"
             ],
             [
              0.1111111111111111,
              "#46039f"
             ],
             [
              0.2222222222222222,
              "#7201a8"
             ],
             [
              0.3333333333333333,
              "#9c179e"
             ],
             [
              0.4444444444444444,
              "#bd3786"
             ],
             [
              0.5555555555555556,
              "#d8576b"
             ],
             [
              0.6666666666666666,
              "#ed7953"
             ],
             [
              0.7777777777777778,
              "#fb9f3a"
             ],
             [
              0.8888888888888888,
              "#fdca26"
             ],
             [
              1,
              "#f0f921"
             ]
            ],
            "type": "histogram2dcontour"
           }
          ],
          "mesh3d": [
           {
            "colorbar": {
             "outlinewidth": 0,
             "ticks": ""
            },
            "type": "mesh3d"
           }
          ],
          "parcoords": [
           {
            "line": {
             "colorbar": {
              "outlinewidth": 0,
              "ticks": ""
             }
            },
            "type": "parcoords"
           }
          ],
          "pie": [
           {
            "automargin": true,
            "type": "pie"
           }
          ],
          "scatter": [
           {
            "marker": {
             "colorbar": {
              "outlinewidth": 0,
              "ticks": ""
             }
            },
            "type": "scatter"
           }
          ],
          "scatter3d": [
           {
            "line": {
             "colorbar": {
              "outlinewidth": 0,
              "ticks": ""
             }
            },
            "marker": {
             "colorbar": {
              "outlinewidth": 0,
              "ticks": ""
             }
            },
            "type": "scatter3d"
           }
          ],
          "scattercarpet": [
           {
            "marker": {
             "colorbar": {
              "outlinewidth": 0,
              "ticks": ""
             }
            },
            "type": "scattercarpet"
           }
          ],
          "scattergeo": [
           {
            "marker": {
             "colorbar": {
              "outlinewidth": 0,
              "ticks": ""
             }
            },
            "type": "scattergeo"
           }
          ],
          "scattergl": [
           {
            "marker": {
             "colorbar": {
              "outlinewidth": 0,
              "ticks": ""
             }
            },
            "type": "scattergl"
           }
          ],
          "scattermapbox": [
           {
            "marker": {
             "colorbar": {
              "outlinewidth": 0,
              "ticks": ""
             }
            },
            "type": "scattermapbox"
           }
          ],
          "scatterpolar": [
           {
            "marker": {
             "colorbar": {
              "outlinewidth": 0,
              "ticks": ""
             }
            },
            "type": "scatterpolar"
           }
          ],
          "scatterpolargl": [
           {
            "marker": {
             "colorbar": {
              "outlinewidth": 0,
              "ticks": ""
             }
            },
            "type": "scatterpolargl"
           }
          ],
          "scatterternary": [
           {
            "marker": {
             "colorbar": {
              "outlinewidth": 0,
              "ticks": ""
             }
            },
            "type": "scatterternary"
           }
          ],
          "surface": [
           {
            "colorbar": {
             "outlinewidth": 0,
             "ticks": ""
            },
            "colorscale": [
             [
              0,
              "#0d0887"
             ],
             [
              0.1111111111111111,
              "#46039f"
             ],
             [
              0.2222222222222222,
              "#7201a8"
             ],
             [
              0.3333333333333333,
              "#9c179e"
             ],
             [
              0.4444444444444444,
              "#bd3786"
             ],
             [
              0.5555555555555556,
              "#d8576b"
             ],
             [
              0.6666666666666666,
              "#ed7953"
             ],
             [
              0.7777777777777778,
              "#fb9f3a"
             ],
             [
              0.8888888888888888,
              "#fdca26"
             ],
             [
              1,
              "#f0f921"
             ]
            ],
            "type": "surface"
           }
          ],
          "table": [
           {
            "cells": {
             "fill": {
              "color": "#EBF0F8"
             },
             "line": {
              "color": "white"
             }
            },
            "header": {
             "fill": {
              "color": "#C8D4E3"
             },
             "line": {
              "color": "white"
             }
            },
            "type": "table"
           }
          ]
         },
         "layout": {
          "annotationdefaults": {
           "arrowcolor": "#2a3f5f",
           "arrowhead": 0,
           "arrowwidth": 1
          },
          "autotypenumbers": "strict",
          "coloraxis": {
           "colorbar": {
            "outlinewidth": 0,
            "ticks": ""
           }
          },
          "colorscale": {
           "diverging": [
            [
             0,
             "#8e0152"
            ],
            [
             0.1,
             "#c51b7d"
            ],
            [
             0.2,
             "#de77ae"
            ],
            [
             0.3,
             "#f1b6da"
            ],
            [
             0.4,
             "#fde0ef"
            ],
            [
             0.5,
             "#f7f7f7"
            ],
            [
             0.6,
             "#e6f5d0"
            ],
            [
             0.7,
             "#b8e186"
            ],
            [
             0.8,
             "#7fbc41"
            ],
            [
             0.9,
             "#4d9221"
            ],
            [
             1,
             "#276419"
            ]
           ],
           "sequential": [
            [
             0,
             "#0d0887"
            ],
            [
             0.1111111111111111,
             "#46039f"
            ],
            [
             0.2222222222222222,
             "#7201a8"
            ],
            [
             0.3333333333333333,
             "#9c179e"
            ],
            [
             0.4444444444444444,
             "#bd3786"
            ],
            [
             0.5555555555555556,
             "#d8576b"
            ],
            [
             0.6666666666666666,
             "#ed7953"
            ],
            [
             0.7777777777777778,
             "#fb9f3a"
            ],
            [
             0.8888888888888888,
             "#fdca26"
            ],
            [
             1,
             "#f0f921"
            ]
           ],
           "sequentialminus": [
            [
             0,
             "#0d0887"
            ],
            [
             0.1111111111111111,
             "#46039f"
            ],
            [
             0.2222222222222222,
             "#7201a8"
            ],
            [
             0.3333333333333333,
             "#9c179e"
            ],
            [
             0.4444444444444444,
             "#bd3786"
            ],
            [
             0.5555555555555556,
             "#d8576b"
            ],
            [
             0.6666666666666666,
             "#ed7953"
            ],
            [
             0.7777777777777778,
             "#fb9f3a"
            ],
            [
             0.8888888888888888,
             "#fdca26"
            ],
            [
             1,
             "#f0f921"
            ]
           ]
          },
          "colorway": [
           "#636efa",
           "#EF553B",
           "#00cc96",
           "#ab63fa",
           "#FFA15A",
           "#19d3f3",
           "#FF6692",
           "#B6E880",
           "#FF97FF",
           "#FECB52"
          ],
          "font": {
           "color": "#2a3f5f"
          },
          "geo": {
           "bgcolor": "white",
           "lakecolor": "white",
           "landcolor": "#E5ECF6",
           "showlakes": true,
           "showland": true,
           "subunitcolor": "white"
          },
          "hoverlabel": {
           "align": "left"
          },
          "hovermode": "closest",
          "mapbox": {
           "style": "light"
          },
          "paper_bgcolor": "white",
          "plot_bgcolor": "#E5ECF6",
          "polar": {
           "angularaxis": {
            "gridcolor": "white",
            "linecolor": "white",
            "ticks": ""
           },
           "bgcolor": "#E5ECF6",
           "radialaxis": {
            "gridcolor": "white",
            "linecolor": "white",
            "ticks": ""
           }
          },
          "scene": {
           "xaxis": {
            "backgroundcolor": "#E5ECF6",
            "gridcolor": "white",
            "gridwidth": 2,
            "linecolor": "white",
            "showbackground": true,
            "ticks": "",
            "zerolinecolor": "white"
           },
           "yaxis": {
            "backgroundcolor": "#E5ECF6",
            "gridcolor": "white",
            "gridwidth": 2,
            "linecolor": "white",
            "showbackground": true,
            "ticks": "",
            "zerolinecolor": "white"
           },
           "zaxis": {
            "backgroundcolor": "#E5ECF6",
            "gridcolor": "white",
            "gridwidth": 2,
            "linecolor": "white",
            "showbackground": true,
            "ticks": "",
            "zerolinecolor": "white"
           }
          },
          "shapedefaults": {
           "line": {
            "color": "#2a3f5f"
           }
          },
          "ternary": {
           "aaxis": {
            "gridcolor": "white",
            "linecolor": "white",
            "ticks": ""
           },
           "baxis": {
            "gridcolor": "white",
            "linecolor": "white",
            "ticks": ""
           },
           "bgcolor": "#E5ECF6",
           "caxis": {
            "gridcolor": "white",
            "linecolor": "white",
            "ticks": ""
           }
          },
          "title": {
           "x": 0.05
          },
          "xaxis": {
           "automargin": true,
           "gridcolor": "white",
           "linecolor": "white",
           "ticks": "",
           "title": {
            "standoff": 15
           },
           "zerolinecolor": "white",
           "zerolinewidth": 2
          },
          "yaxis": {
           "automargin": true,
           "gridcolor": "white",
           "linecolor": "white",
           "ticks": "",
           "title": {
            "standoff": 15
           },
           "zerolinecolor": "white",
           "zerolinewidth": 2
          }
         }
        },
        "title": {
         "text": "Top 50 unigrams in the Complaint text after removing stop words and lemmatization"
        }
       }
      },
      "text/html": [
       "<div>                            <div id=\"644c8ddb-63a3-4e96-bd8e-8aef30f39ba1\" class=\"plotly-graph-div\" style=\"height:525px; width:100%;\"></div>            <script type=\"text/javascript\">                require([\"plotly\"], function(Plotly) {                    window.PLOTLYENV=window.PLOTLYENV || {};                                    if (document.getElementById(\"644c8ddb-63a3-4e96-bd8e-8aef30f39ba1\")) {                    Plotly.newPlot(                        \"644c8ddb-63a3-4e96-bd8e-8aef30f39ba1\",                        [{\"x\":[\"nan\",\"pain\",\"edema\",\"disease\",\"failure\",\"hypertension\",\"effusion\",\"bleed\",\"pneumonia\",\"fibrillation\",\"fever\",\"stenosis\",\"heart\",\"hypotension\",\"breath\",\"shortness\",\"infection\",\"anemia\",\"artery\",\"regurgitation\",\"nausea\",\"thicken\",\"lesion\",\"cough\",\"wound\",\"alert\",\"vomit\",\"sepsis\",\"cancer\",\"constipation\",\"dyspnea\",\"ulcer\",\"status\",\"mellitus\",\"diarrhea\",\"hematoma\",\"fracture\",\"tachycardia\",\"symptom\",\"afib\",\"distress\",\"hypokinesis\",\"mass\",\"seizure\",\"infarction\",\"depression\",\"rhythm\",\"cardiomyopathy\",\"hypoxia\",\"function\"],\"y\":[27359,2100,1114,1015,991,804,666,641,623,574,568,526,524,498,489,458,452,420,386,340,320,263,238,235,234,226,223,223,222,220,207,200,200,199,197,194,188,185,183,172,165,164,162,159,158,157,154,142,142,141],\"type\":\"bar\"}],                        {\"template\":{\"data\":{\"bar\":[{\"error_x\":{\"color\":\"#2a3f5f\"},\"error_y\":{\"color\":\"#2a3f5f\"},\"marker\":{\"line\":{\"color\":\"#E5ECF6\",\"width\":0.5},\"pattern\":{\"fillmode\":\"overlay\",\"size\":10,\"solidity\":0.2}},\"type\":\"bar\"}],\"barpolar\":[{\"marker\":{\"line\":{\"color\":\"#E5ECF6\",\"width\":0.5},\"pattern\":{\"fillmode\":\"overlay\",\"size\":10,\"solidity\":0.2}},\"type\":\"barpolar\"}],\"carpet\":[{\"aaxis\":{\"endlinecolor\":\"#2a3f5f\",\"gridcolor\":\"white\",\"linecolor\":\"white\",\"minorgridcolor\":\"white\",\"startlinecolor\":\"#2a3f5f\"},\"baxis\":{\"endlinecolor\":\"#2a3f5f\",\"gridcolor\":\"white\",\"linecolor\":\"white\",\"minorgridcolor\":\"white\",\"startlinecolor\":\"#2a3f5f\"},\"type\":\"carpet\"}],\"choropleth\":[{\"colorbar\":{\"outlinewidth\":0,\"ticks\":\"\"},\"type\":\"choropleth\"}],\"contour\":[{\"colorbar\":{\"outlinewidth\":0,\"ticks\":\"\"},\"colorscale\":[[0.0,\"#0d0887\"],[0.1111111111111111,\"#46039f\"],[0.2222222222222222,\"#7201a8\"],[0.3333333333333333,\"#9c179e\"],[0.4444444444444444,\"#bd3786\"],[0.5555555555555556,\"#d8576b\"],[0.6666666666666666,\"#ed7953\"],[0.7777777777777778,\"#fb9f3a\"],[0.8888888888888888,\"#fdca26\"],[1.0,\"#f0f921\"]],\"type\":\"contour\"}],\"contourcarpet\":[{\"colorbar\":{\"outlinewidth\":0,\"ticks\":\"\"},\"type\":\"contourcarpet\"}],\"heatmap\":[{\"colorbar\":{\"outlinewidth\":0,\"ticks\":\"\"},\"colorscale\":[[0.0,\"#0d0887\"],[0.1111111111111111,\"#46039f\"],[0.2222222222222222,\"#7201a8\"],[0.3333333333333333,\"#9c179e\"],[0.4444444444444444,\"#bd3786\"],[0.5555555555555556,\"#d8576b\"],[0.6666666666666666,\"#ed7953\"],[0.7777777777777778,\"#fb9f3a\"],[0.8888888888888888,\"#fdca26\"],[1.0,\"#f0f921\"]],\"type\":\"heatmap\"}],\"heatmapgl\":[{\"colorbar\":{\"outlinewidth\":0,\"ticks\":\"\"},\"colorscale\":[[0.0,\"#0d0887\"],[0.1111111111111111,\"#46039f\"],[0.2222222222222222,\"#7201a8\"],[0.3333333333333333,\"#9c179e\"],[0.4444444444444444,\"#bd3786\"],[0.5555555555555556,\"#d8576b\"],[0.6666666666666666,\"#ed7953\"],[0.7777777777777778,\"#fb9f3a\"],[0.8888888888888888,\"#fdca26\"],[1.0,\"#f0f921\"]],\"type\":\"heatmapgl\"}],\"histogram\":[{\"marker\":{\"pattern\":{\"fillmode\":\"overlay\",\"size\":10,\"solidity\":0.2}},\"type\":\"histogram\"}],\"histogram2d\":[{\"colorbar\":{\"outlinewidth\":0,\"ticks\":\"\"},\"colorscale\":[[0.0,\"#0d0887\"],[0.1111111111111111,\"#46039f\"],[0.2222222222222222,\"#7201a8\"],[0.3333333333333333,\"#9c179e\"],[0.4444444444444444,\"#bd3786\"],[0.5555555555555556,\"#d8576b\"],[0.6666666666666666,\"#ed7953\"],[0.7777777777777778,\"#fb9f3a\"],[0.8888888888888888,\"#fdca26\"],[1.0,\"#f0f921\"]],\"type\":\"histogram2d\"}],\"histogram2dcontour\":[{\"colorbar\":{\"outlinewidth\":0,\"ticks\":\"\"},\"colorscale\":[[0.0,\"#0d0887\"],[0.1111111111111111,\"#46039f\"],[0.2222222222222222,\"#7201a8\"],[0.3333333333333333,\"#9c179e\"],[0.4444444444444444,\"#bd3786\"],[0.5555555555555556,\"#d8576b\"],[0.6666666666666666,\"#ed7953\"],[0.7777777777777778,\"#fb9f3a\"],[0.8888888888888888,\"#fdca26\"],[1.0,\"#f0f921\"]],\"type\":\"histogram2dcontour\"}],\"mesh3d\":[{\"colorbar\":{\"outlinewidth\":0,\"ticks\":\"\"},\"type\":\"mesh3d\"}],\"parcoords\":[{\"line\":{\"colorbar\":{\"outlinewidth\":0,\"ticks\":\"\"}},\"type\":\"parcoords\"}],\"pie\":[{\"automargin\":true,\"type\":\"pie\"}],\"scatter\":[{\"marker\":{\"colorbar\":{\"outlinewidth\":0,\"ticks\":\"\"}},\"type\":\"scatter\"}],\"scatter3d\":[{\"line\":{\"colorbar\":{\"outlinewidth\":0,\"ticks\":\"\"}},\"marker\":{\"colorbar\":{\"outlinewidth\":0,\"ticks\":\"\"}},\"type\":\"scatter3d\"}],\"scattercarpet\":[{\"marker\":{\"colorbar\":{\"outlinewidth\":0,\"ticks\":\"\"}},\"type\":\"scattercarpet\"}],\"scattergeo\":[{\"marker\":{\"colorbar\":{\"outlinewidth\":0,\"ticks\":\"\"}},\"type\":\"scattergeo\"}],\"scattergl\":[{\"marker\":{\"colorbar\":{\"outlinewidth\":0,\"ticks\":\"\"}},\"type\":\"scattergl\"}],\"scattermapbox\":[{\"marker\":{\"colorbar\":{\"outlinewidth\":0,\"ticks\":\"\"}},\"type\":\"scattermapbox\"}],\"scatterpolar\":[{\"marker\":{\"colorbar\":{\"outlinewidth\":0,\"ticks\":\"\"}},\"type\":\"scatterpolar\"}],\"scatterpolargl\":[{\"marker\":{\"colorbar\":{\"outlinewidth\":0,\"ticks\":\"\"}},\"type\":\"scatterpolargl\"}],\"scatterternary\":[{\"marker\":{\"colorbar\":{\"outlinewidth\":0,\"ticks\":\"\"}},\"type\":\"scatterternary\"}],\"surface\":[{\"colorbar\":{\"outlinewidth\":0,\"ticks\":\"\"},\"colorscale\":[[0.0,\"#0d0887\"],[0.1111111111111111,\"#46039f\"],[0.2222222222222222,\"#7201a8\"],[0.3333333333333333,\"#9c179e\"],[0.4444444444444444,\"#bd3786\"],[0.5555555555555556,\"#d8576b\"],[0.6666666666666666,\"#ed7953\"],[0.7777777777777778,\"#fb9f3a\"],[0.8888888888888888,\"#fdca26\"],[1.0,\"#f0f921\"]],\"type\":\"surface\"}],\"table\":[{\"cells\":{\"fill\":{\"color\":\"#EBF0F8\"},\"line\":{\"color\":\"white\"}},\"header\":{\"fill\":{\"color\":\"#C8D4E3\"},\"line\":{\"color\":\"white\"}},\"type\":\"table\"}]},\"layout\":{\"annotationdefaults\":{\"arrowcolor\":\"#2a3f5f\",\"arrowhead\":0,\"arrowwidth\":1},\"autotypenumbers\":\"strict\",\"coloraxis\":{\"colorbar\":{\"outlinewidth\":0,\"ticks\":\"\"}},\"colorscale\":{\"diverging\":[[0,\"#8e0152\"],[0.1,\"#c51b7d\"],[0.2,\"#de77ae\"],[0.3,\"#f1b6da\"],[0.4,\"#fde0ef\"],[0.5,\"#f7f7f7\"],[0.6,\"#e6f5d0\"],[0.7,\"#b8e186\"],[0.8,\"#7fbc41\"],[0.9,\"#4d9221\"],[1,\"#276419\"]],\"sequential\":[[0.0,\"#0d0887\"],[0.1111111111111111,\"#46039f\"],[0.2222222222222222,\"#7201a8\"],[0.3333333333333333,\"#9c179e\"],[0.4444444444444444,\"#bd3786\"],[0.5555555555555556,\"#d8576b\"],[0.6666666666666666,\"#ed7953\"],[0.7777777777777778,\"#fb9f3a\"],[0.8888888888888888,\"#fdca26\"],[1.0,\"#f0f921\"]],\"sequentialminus\":[[0.0,\"#0d0887\"],[0.1111111111111111,\"#46039f\"],[0.2222222222222222,\"#7201a8\"],[0.3333333333333333,\"#9c179e\"],[0.4444444444444444,\"#bd3786\"],[0.5555555555555556,\"#d8576b\"],[0.6666666666666666,\"#ed7953\"],[0.7777777777777778,\"#fb9f3a\"],[0.8888888888888888,\"#fdca26\"],[1.0,\"#f0f921\"]]},\"colorway\":[\"#636efa\",\"#EF553B\",\"#00cc96\",\"#ab63fa\",\"#FFA15A\",\"#19d3f3\",\"#FF6692\",\"#B6E880\",\"#FF97FF\",\"#FECB52\"],\"font\":{\"color\":\"#2a3f5f\"},\"geo\":{\"bgcolor\":\"white\",\"lakecolor\":\"white\",\"landcolor\":\"#E5ECF6\",\"showlakes\":true,\"showland\":true,\"subunitcolor\":\"white\"},\"hoverlabel\":{\"align\":\"left\"},\"hovermode\":\"closest\",\"mapbox\":{\"style\":\"light\"},\"paper_bgcolor\":\"white\",\"plot_bgcolor\":\"#E5ECF6\",\"polar\":{\"angularaxis\":{\"gridcolor\":\"white\",\"linecolor\":\"white\",\"ticks\":\"\"},\"bgcolor\":\"#E5ECF6\",\"radialaxis\":{\"gridcolor\":\"white\",\"linecolor\":\"white\",\"ticks\":\"\"}},\"scene\":{\"xaxis\":{\"backgroundcolor\":\"#E5ECF6\",\"gridcolor\":\"white\",\"gridwidth\":2,\"linecolor\":\"white\",\"showbackground\":true,\"ticks\":\"\",\"zerolinecolor\":\"white\"},\"yaxis\":{\"backgroundcolor\":\"#E5ECF6\",\"gridcolor\":\"white\",\"gridwidth\":2,\"linecolor\":\"white\",\"showbackground\":true,\"ticks\":\"\",\"zerolinecolor\":\"white\"},\"zaxis\":{\"backgroundcolor\":\"#E5ECF6\",\"gridcolor\":\"white\",\"gridwidth\":2,\"linecolor\":\"white\",\"showbackground\":true,\"ticks\":\"\",\"zerolinecolor\":\"white\"}},\"shapedefaults\":{\"line\":{\"color\":\"#2a3f5f\"}},\"ternary\":{\"aaxis\":{\"gridcolor\":\"white\",\"linecolor\":\"white\",\"ticks\":\"\"},\"baxis\":{\"gridcolor\":\"white\",\"linecolor\":\"white\",\"ticks\":\"\"},\"bgcolor\":\"#E5ECF6\",\"caxis\":{\"gridcolor\":\"white\",\"linecolor\":\"white\",\"ticks\":\"\"}},\"title\":{\"x\":0.05},\"xaxis\":{\"automargin\":true,\"gridcolor\":\"white\",\"linecolor\":\"white\",\"ticks\":\"\",\"title\":{\"standoff\":15},\"zerolinecolor\":\"white\",\"zerolinewidth\":2},\"yaxis\":{\"automargin\":true,\"gridcolor\":\"white\",\"linecolor\":\"white\",\"ticks\":\"\",\"title\":{\"standoff\":15},\"zerolinecolor\":\"white\",\"zerolinewidth\":2}}},\"title\":{\"text\":\"Top 50 unigrams in the Complaint text after removing stop words and lemmatization\"}},                        {\"responsive\": true}                    ).then(function(){\n",
       "                            \n",
       "var gd = document.getElementById('644c8ddb-63a3-4e96-bd8e-8aef30f39ba1');\n",
       "var x = new MutationObserver(function (mutations, observer) {{\n",
       "        var display = window.getComputedStyle(gd).display;\n",
       "        if (!display || display === 'none') {{\n",
       "            console.log([gd, 'removed!']);\n",
       "            Plotly.purge(gd);\n",
       "            observer.disconnect();\n",
       "        }}\n",
       "}});\n",
       "\n",
       "// Listen for the removal of the full notebook cells\n",
       "var notebookContainer = gd.closest('#notebook-container');\n",
       "if (notebookContainer) {{\n",
       "    x.observe(notebookContainer, {childList: true});\n",
       "}}\n",
       "\n",
       "// Listen for the clearing of the current output cell\n",
       "var outputEl = gd.closest('.output');\n",
       "if (outputEl) {{\n",
       "    x.observe(outputEl, {childList: true});\n",
       "}}\n",
       "\n",
       "                        })                };                });            </script>        </div>"
      ]
     },
     "metadata": {},
     "output_type": "display_data"
    }
   ],
   "source": [
    "from sklearn.feature_extraction.text import CountVectorizer, TfidfVectorizer\n",
    "from pprint import pprint\n",
    "def get_top_n_words(corpus, n=None):\n",
    "    vec = CountVectorizer(stop_words='english').fit(corpus)\n",
    "    bag_of_words = vec.transform(corpus)\n",
    "    sum_words = bag_of_words.sum(axis=0) \n",
    "    words_freq = [(word, sum_words[0, idx]) for word, idx in vec.vocabulary_.items()]\n",
    "    words_freq =sorted(words_freq, key = lambda x: x[1], reverse=True)\n",
    "    return words_freq[:n]\n",
    "common_words = get_top_n_words(df_clean['name_clean'].values.astype('U'), 50)\n",
    "df2 = pd.DataFrame(common_words, columns = ['unigram' , 'count'])\n",
    "\n",
    "fig = go.Figure([go.Bar(x=df2['unigram'], y=df2['count'])])\n",
    "fig.update_layout(title=go.layout.Title(text=\"Top 50 unigrams in the Complaint text after removing stop words and lemmatization\"))\n",
    "fig.show()"
   ]
  },
  {
   "cell_type": "code",
   "execution_count": 168,
   "metadata": {
    "colab": {
     "base_uri": "https://localhost:8080/",
     "height": 363
    },
    "id": "4JvO13EN-7Us",
    "outputId": "0d383a67-dbb4-4380-b1dc-f15a7a08d13d"
   },
   "outputs": [
    {
     "data": {
      "text/html": [
       "<div>\n",
       "<style scoped>\n",
       "    .dataframe tbody tr th:only-of-type {\n",
       "        vertical-align: middle;\n",
       "    }\n",
       "\n",
       "    .dataframe tbody tr th {\n",
       "        vertical-align: top;\n",
       "    }\n",
       "\n",
       "    .dataframe thead th {\n",
       "        text-align: right;\n",
       "    }\n",
       "</style>\n",
       "<table border=\"1\" class=\"dataframe\">\n",
       "  <thead>\n",
       "    <tr style=\"text-align: right;\">\n",
       "      <th></th>\n",
       "      <th>unigram</th>\n",
       "      <th>count</th>\n",
       "    </tr>\n",
       "  </thead>\n",
       "  <tbody>\n",
       "    <tr>\n",
       "      <th>0</th>\n",
       "      <td>nan</td>\n",
       "      <td>27359</td>\n",
       "    </tr>\n",
       "    <tr>\n",
       "      <th>1</th>\n",
       "      <td>pain</td>\n",
       "      <td>2100</td>\n",
       "    </tr>\n",
       "    <tr>\n",
       "      <th>2</th>\n",
       "      <td>edema</td>\n",
       "      <td>1114</td>\n",
       "    </tr>\n",
       "    <tr>\n",
       "      <th>3</th>\n",
       "      <td>disease</td>\n",
       "      <td>1015</td>\n",
       "    </tr>\n",
       "    <tr>\n",
       "      <th>4</th>\n",
       "      <td>failure</td>\n",
       "      <td>991</td>\n",
       "    </tr>\n",
       "    <tr>\n",
       "      <th>5</th>\n",
       "      <td>hypertension</td>\n",
       "      <td>804</td>\n",
       "    </tr>\n",
       "    <tr>\n",
       "      <th>6</th>\n",
       "      <td>effusion</td>\n",
       "      <td>666</td>\n",
       "    </tr>\n",
       "    <tr>\n",
       "      <th>7</th>\n",
       "      <td>bleed</td>\n",
       "      <td>641</td>\n",
       "    </tr>\n",
       "    <tr>\n",
       "      <th>8</th>\n",
       "      <td>pneumonia</td>\n",
       "      <td>623</td>\n",
       "    </tr>\n",
       "    <tr>\n",
       "      <th>9</th>\n",
       "      <td>fibrillation</td>\n",
       "      <td>574</td>\n",
       "    </tr>\n",
       "  </tbody>\n",
       "</table>\n",
       "</div>"
      ],
      "text/plain": [
       "        unigram  count\n",
       "0           nan  27359\n",
       "1          pain   2100\n",
       "2         edema   1114\n",
       "3       disease   1015\n",
       "4       failure    991\n",
       "5  hypertension    804\n",
       "6      effusion    666\n",
       "7         bleed    641\n",
       "8     pneumonia    623\n",
       "9  fibrillation    574"
      ]
     },
     "execution_count": 168,
     "metadata": {},
     "output_type": "execute_result"
    }
   ],
   "source": [
    "df2.head(10)"
   ]
  },
  {
   "cell_type": "code",
   "execution_count": 169,
   "metadata": {
    "colab": {
     "base_uri": "https://localhost:8080/",
     "height": 542
    },
    "id": "OQba6_G4-7Ut",
    "outputId": "01c6a49e-0661-4adc-cd1e-8473f0fb4ba2"
   },
   "outputs": [
    {
     "data": {
      "application/vnd.plotly.v1+json": {
       "config": {
        "plotlyServerURL": "https://plot.ly"
       },
       "data": [
        {
         "type": "bar",
         "x": [
          "nan nan",
          "heart failure",
          "shortness breath",
          "artery disease",
          "stage disease",
          "pain edema",
          "edema pain",
          "pain bleed",
          "tract infection",
          "rate rhythm",
          "pain stenosis",
          "pain pneumonia",
          "pain shortness",
          "pain hypertension",
          "pain fever",
          "pain hypotension",
          "bleed pain",
          "failure pain",
          "nausea vomit",
          "pain effusion",
          "failure hypertension",
          "pain disease",
          "pneumonia edema",
          "pneumonia pain",
          "volume overload",
          "pain heart",
          "disease hypertension",
          "stenosis pain",
          "edema hypertension",
          "pain artery"
         ],
         "y": [
          24302,
          474,
          458,
          384,
          89,
          78,
          62,
          58,
          55,
          54,
          52,
          52,
          50,
          50,
          49,
          48,
          48,
          47,
          47,
          46,
          43,
          42,
          42,
          41,
          41,
          41,
          40,
          40,
          39,
          38
         ]
        }
       ],
       "layout": {
        "template": {
         "data": {
          "bar": [
           {
            "error_x": {
             "color": "#2a3f5f"
            },
            "error_y": {
             "color": "#2a3f5f"
            },
            "marker": {
             "line": {
              "color": "#E5ECF6",
              "width": 0.5
             },
             "pattern": {
              "fillmode": "overlay",
              "size": 10,
              "solidity": 0.2
             }
            },
            "type": "bar"
           }
          ],
          "barpolar": [
           {
            "marker": {
             "line": {
              "color": "#E5ECF6",
              "width": 0.5
             },
             "pattern": {
              "fillmode": "overlay",
              "size": 10,
              "solidity": 0.2
             }
            },
            "type": "barpolar"
           }
          ],
          "carpet": [
           {
            "aaxis": {
             "endlinecolor": "#2a3f5f",
             "gridcolor": "white",
             "linecolor": "white",
             "minorgridcolor": "white",
             "startlinecolor": "#2a3f5f"
            },
            "baxis": {
             "endlinecolor": "#2a3f5f",
             "gridcolor": "white",
             "linecolor": "white",
             "minorgridcolor": "white",
             "startlinecolor": "#2a3f5f"
            },
            "type": "carpet"
           }
          ],
          "choropleth": [
           {
            "colorbar": {
             "outlinewidth": 0,
             "ticks": ""
            },
            "type": "choropleth"
           }
          ],
          "contour": [
           {
            "colorbar": {
             "outlinewidth": 0,
             "ticks": ""
            },
            "colorscale": [
             [
              0,
              "#0d0887"
             ],
             [
              0.1111111111111111,
              "#46039f"
             ],
             [
              0.2222222222222222,
              "#7201a8"
             ],
             [
              0.3333333333333333,
              "#9c179e"
             ],
             [
              0.4444444444444444,
              "#bd3786"
             ],
             [
              0.5555555555555556,
              "#d8576b"
             ],
             [
              0.6666666666666666,
              "#ed7953"
             ],
             [
              0.7777777777777778,
              "#fb9f3a"
             ],
             [
              0.8888888888888888,
              "#fdca26"
             ],
             [
              1,
              "#f0f921"
             ]
            ],
            "type": "contour"
           }
          ],
          "contourcarpet": [
           {
            "colorbar": {
             "outlinewidth": 0,
             "ticks": ""
            },
            "type": "contourcarpet"
           }
          ],
          "heatmap": [
           {
            "colorbar": {
             "outlinewidth": 0,
             "ticks": ""
            },
            "colorscale": [
             [
              0,
              "#0d0887"
             ],
             [
              0.1111111111111111,
              "#46039f"
             ],
             [
              0.2222222222222222,
              "#7201a8"
             ],
             [
              0.3333333333333333,
              "#9c179e"
             ],
             [
              0.4444444444444444,
              "#bd3786"
             ],
             [
              0.5555555555555556,
              "#d8576b"
             ],
             [
              0.6666666666666666,
              "#ed7953"
             ],
             [
              0.7777777777777778,
              "#fb9f3a"
             ],
             [
              0.8888888888888888,
              "#fdca26"
             ],
             [
              1,
              "#f0f921"
             ]
            ],
            "type": "heatmap"
           }
          ],
          "heatmapgl": [
           {
            "colorbar": {
             "outlinewidth": 0,
             "ticks": ""
            },
            "colorscale": [
             [
              0,
              "#0d0887"
             ],
             [
              0.1111111111111111,
              "#46039f"
             ],
             [
              0.2222222222222222,
              "#7201a8"
             ],
             [
              0.3333333333333333,
              "#9c179e"
             ],
             [
              0.4444444444444444,
              "#bd3786"
             ],
             [
              0.5555555555555556,
              "#d8576b"
             ],
             [
              0.6666666666666666,
              "#ed7953"
             ],
             [
              0.7777777777777778,
              "#fb9f3a"
             ],
             [
              0.8888888888888888,
              "#fdca26"
             ],
             [
              1,
              "#f0f921"
             ]
            ],
            "type": "heatmapgl"
           }
          ],
          "histogram": [
           {
            "marker": {
             "pattern": {
              "fillmode": "overlay",
              "size": 10,
              "solidity": 0.2
             }
            },
            "type": "histogram"
           }
          ],
          "histogram2d": [
           {
            "colorbar": {
             "outlinewidth": 0,
             "ticks": ""
            },
            "colorscale": [
             [
              0,
              "#0d0887"
             ],
             [
              0.1111111111111111,
              "#46039f"
             ],
             [
              0.2222222222222222,
              "#7201a8"
             ],
             [
              0.3333333333333333,
              "#9c179e"
             ],
             [
              0.4444444444444444,
              "#bd3786"
             ],
             [
              0.5555555555555556,
              "#d8576b"
             ],
             [
              0.6666666666666666,
              "#ed7953"
             ],
             [
              0.7777777777777778,
              "#fb9f3a"
             ],
             [
              0.8888888888888888,
              "#fdca26"
             ],
             [
              1,
              "#f0f921"
             ]
            ],
            "type": "histogram2d"
           }
          ],
          "histogram2dcontour": [
           {
            "colorbar": {
             "outlinewidth": 0,
             "ticks": ""
            },
            "colorscale": [
             [
              0,
              "#0d0887"
             ],
             [
              0.1111111111111111,
              "#46039f"
             ],
             [
              0.2222222222222222,
              "#7201a8"
             ],
             [
              0.3333333333333333,
              "#9c179e"
             ],
             [
              0.4444444444444444,
              "#bd3786"
             ],
             [
              0.5555555555555556,
              "#d8576b"
             ],
             [
              0.6666666666666666,
              "#ed7953"
             ],
             [
              0.7777777777777778,
              "#fb9f3a"
             ],
             [
              0.8888888888888888,
              "#fdca26"
             ],
             [
              1,
              "#f0f921"
             ]
            ],
            "type": "histogram2dcontour"
           }
          ],
          "mesh3d": [
           {
            "colorbar": {
             "outlinewidth": 0,
             "ticks": ""
            },
            "type": "mesh3d"
           }
          ],
          "parcoords": [
           {
            "line": {
             "colorbar": {
              "outlinewidth": 0,
              "ticks": ""
             }
            },
            "type": "parcoords"
           }
          ],
          "pie": [
           {
            "automargin": true,
            "type": "pie"
           }
          ],
          "scatter": [
           {
            "marker": {
             "colorbar": {
              "outlinewidth": 0,
              "ticks": ""
             }
            },
            "type": "scatter"
           }
          ],
          "scatter3d": [
           {
            "line": {
             "colorbar": {
              "outlinewidth": 0,
              "ticks": ""
             }
            },
            "marker": {
             "colorbar": {
              "outlinewidth": 0,
              "ticks": ""
             }
            },
            "type": "scatter3d"
           }
          ],
          "scattercarpet": [
           {
            "marker": {
             "colorbar": {
              "outlinewidth": 0,
              "ticks": ""
             }
            },
            "type": "scattercarpet"
           }
          ],
          "scattergeo": [
           {
            "marker": {
             "colorbar": {
              "outlinewidth": 0,
              "ticks": ""
             }
            },
            "type": "scattergeo"
           }
          ],
          "scattergl": [
           {
            "marker": {
             "colorbar": {
              "outlinewidth": 0,
              "ticks": ""
             }
            },
            "type": "scattergl"
           }
          ],
          "scattermapbox": [
           {
            "marker": {
             "colorbar": {
              "outlinewidth": 0,
              "ticks": ""
             }
            },
            "type": "scattermapbox"
           }
          ],
          "scatterpolar": [
           {
            "marker": {
             "colorbar": {
              "outlinewidth": 0,
              "ticks": ""
             }
            },
            "type": "scatterpolar"
           }
          ],
          "scatterpolargl": [
           {
            "marker": {
             "colorbar": {
              "outlinewidth": 0,
              "ticks": ""
             }
            },
            "type": "scatterpolargl"
           }
          ],
          "scatterternary": [
           {
            "marker": {
             "colorbar": {
              "outlinewidth": 0,
              "ticks": ""
             }
            },
            "type": "scatterternary"
           }
          ],
          "surface": [
           {
            "colorbar": {
             "outlinewidth": 0,
             "ticks": ""
            },
            "colorscale": [
             [
              0,
              "#0d0887"
             ],
             [
              0.1111111111111111,
              "#46039f"
             ],
             [
              0.2222222222222222,
              "#7201a8"
             ],
             [
              0.3333333333333333,
              "#9c179e"
             ],
             [
              0.4444444444444444,
              "#bd3786"
             ],
             [
              0.5555555555555556,
              "#d8576b"
             ],
             [
              0.6666666666666666,
              "#ed7953"
             ],
             [
              0.7777777777777778,
              "#fb9f3a"
             ],
             [
              0.8888888888888888,
              "#fdca26"
             ],
             [
              1,
              "#f0f921"
             ]
            ],
            "type": "surface"
           }
          ],
          "table": [
           {
            "cells": {
             "fill": {
              "color": "#EBF0F8"
             },
             "line": {
              "color": "white"
             }
            },
            "header": {
             "fill": {
              "color": "#C8D4E3"
             },
             "line": {
              "color": "white"
             }
            },
            "type": "table"
           }
          ]
         },
         "layout": {
          "annotationdefaults": {
           "arrowcolor": "#2a3f5f",
           "arrowhead": 0,
           "arrowwidth": 1
          },
          "autotypenumbers": "strict",
          "coloraxis": {
           "colorbar": {
            "outlinewidth": 0,
            "ticks": ""
           }
          },
          "colorscale": {
           "diverging": [
            [
             0,
             "#8e0152"
            ],
            [
             0.1,
             "#c51b7d"
            ],
            [
             0.2,
             "#de77ae"
            ],
            [
             0.3,
             "#f1b6da"
            ],
            [
             0.4,
             "#fde0ef"
            ],
            [
             0.5,
             "#f7f7f7"
            ],
            [
             0.6,
             "#e6f5d0"
            ],
            [
             0.7,
             "#b8e186"
            ],
            [
             0.8,
             "#7fbc41"
            ],
            [
             0.9,
             "#4d9221"
            ],
            [
             1,
             "#276419"
            ]
           ],
           "sequential": [
            [
             0,
             "#0d0887"
            ],
            [
             0.1111111111111111,
             "#46039f"
            ],
            [
             0.2222222222222222,
             "#7201a8"
            ],
            [
             0.3333333333333333,
             "#9c179e"
            ],
            [
             0.4444444444444444,
             "#bd3786"
            ],
            [
             0.5555555555555556,
             "#d8576b"
            ],
            [
             0.6666666666666666,
             "#ed7953"
            ],
            [
             0.7777777777777778,
             "#fb9f3a"
            ],
            [
             0.8888888888888888,
             "#fdca26"
            ],
            [
             1,
             "#f0f921"
            ]
           ],
           "sequentialminus": [
            [
             0,
             "#0d0887"
            ],
            [
             0.1111111111111111,
             "#46039f"
            ],
            [
             0.2222222222222222,
             "#7201a8"
            ],
            [
             0.3333333333333333,
             "#9c179e"
            ],
            [
             0.4444444444444444,
             "#bd3786"
            ],
            [
             0.5555555555555556,
             "#d8576b"
            ],
            [
             0.6666666666666666,
             "#ed7953"
            ],
            [
             0.7777777777777778,
             "#fb9f3a"
            ],
            [
             0.8888888888888888,
             "#fdca26"
            ],
            [
             1,
             "#f0f921"
            ]
           ]
          },
          "colorway": [
           "#636efa",
           "#EF553B",
           "#00cc96",
           "#ab63fa",
           "#FFA15A",
           "#19d3f3",
           "#FF6692",
           "#B6E880",
           "#FF97FF",
           "#FECB52"
          ],
          "font": {
           "color": "#2a3f5f"
          },
          "geo": {
           "bgcolor": "white",
           "lakecolor": "white",
           "landcolor": "#E5ECF6",
           "showlakes": true,
           "showland": true,
           "subunitcolor": "white"
          },
          "hoverlabel": {
           "align": "left"
          },
          "hovermode": "closest",
          "mapbox": {
           "style": "light"
          },
          "paper_bgcolor": "white",
          "plot_bgcolor": "#E5ECF6",
          "polar": {
           "angularaxis": {
            "gridcolor": "white",
            "linecolor": "white",
            "ticks": ""
           },
           "bgcolor": "#E5ECF6",
           "radialaxis": {
            "gridcolor": "white",
            "linecolor": "white",
            "ticks": ""
           }
          },
          "scene": {
           "xaxis": {
            "backgroundcolor": "#E5ECF6",
            "gridcolor": "white",
            "gridwidth": 2,
            "linecolor": "white",
            "showbackground": true,
            "ticks": "",
            "zerolinecolor": "white"
           },
           "yaxis": {
            "backgroundcolor": "#E5ECF6",
            "gridcolor": "white",
            "gridwidth": 2,
            "linecolor": "white",
            "showbackground": true,
            "ticks": "",
            "zerolinecolor": "white"
           },
           "zaxis": {
            "backgroundcolor": "#E5ECF6",
            "gridcolor": "white",
            "gridwidth": 2,
            "linecolor": "white",
            "showbackground": true,
            "ticks": "",
            "zerolinecolor": "white"
           }
          },
          "shapedefaults": {
           "line": {
            "color": "#2a3f5f"
           }
          },
          "ternary": {
           "aaxis": {
            "gridcolor": "white",
            "linecolor": "white",
            "ticks": ""
           },
           "baxis": {
            "gridcolor": "white",
            "linecolor": "white",
            "ticks": ""
           },
           "bgcolor": "#E5ECF6",
           "caxis": {
            "gridcolor": "white",
            "linecolor": "white",
            "ticks": ""
           }
          },
          "title": {
           "x": 0.05
          },
          "xaxis": {
           "automargin": true,
           "gridcolor": "white",
           "linecolor": "white",
           "ticks": "",
           "title": {
            "standoff": 15
           },
           "zerolinecolor": "white",
           "zerolinewidth": 2
          },
          "yaxis": {
           "automargin": true,
           "gridcolor": "white",
           "linecolor": "white",
           "ticks": "",
           "title": {
            "standoff": 15
           },
           "zerolinecolor": "white",
           "zerolinewidth": 2
          }
         }
        },
        "title": {
         "text": "Top 30 bigrams in the Complaint text after removing stop words and lemmatization"
        }
       }
      },
      "text/html": [
       "<div>                            <div id=\"d3ee89f0-0b13-44e8-9e43-802699f80847\" class=\"plotly-graph-div\" style=\"height:525px; width:100%;\"></div>            <script type=\"text/javascript\">                require([\"plotly\"], function(Plotly) {                    window.PLOTLYENV=window.PLOTLYENV || {};                                    if (document.getElementById(\"d3ee89f0-0b13-44e8-9e43-802699f80847\")) {                    Plotly.newPlot(                        \"d3ee89f0-0b13-44e8-9e43-802699f80847\",                        [{\"x\":[\"nan nan\",\"heart failure\",\"shortness breath\",\"artery disease\",\"stage disease\",\"pain edema\",\"edema pain\",\"pain bleed\",\"tract infection\",\"rate rhythm\",\"pain stenosis\",\"pain pneumonia\",\"pain shortness\",\"pain hypertension\",\"pain fever\",\"pain hypotension\",\"bleed pain\",\"failure pain\",\"nausea vomit\",\"pain effusion\",\"failure hypertension\",\"pain disease\",\"pneumonia edema\",\"pneumonia pain\",\"volume overload\",\"pain heart\",\"disease hypertension\",\"stenosis pain\",\"edema hypertension\",\"pain artery\"],\"y\":[24302,474,458,384,89,78,62,58,55,54,52,52,50,50,49,48,48,47,47,46,43,42,42,41,41,41,40,40,39,38],\"type\":\"bar\"}],                        {\"template\":{\"data\":{\"bar\":[{\"error_x\":{\"color\":\"#2a3f5f\"},\"error_y\":{\"color\":\"#2a3f5f\"},\"marker\":{\"line\":{\"color\":\"#E5ECF6\",\"width\":0.5},\"pattern\":{\"fillmode\":\"overlay\",\"size\":10,\"solidity\":0.2}},\"type\":\"bar\"}],\"barpolar\":[{\"marker\":{\"line\":{\"color\":\"#E5ECF6\",\"width\":0.5},\"pattern\":{\"fillmode\":\"overlay\",\"size\":10,\"solidity\":0.2}},\"type\":\"barpolar\"}],\"carpet\":[{\"aaxis\":{\"endlinecolor\":\"#2a3f5f\",\"gridcolor\":\"white\",\"linecolor\":\"white\",\"minorgridcolor\":\"white\",\"startlinecolor\":\"#2a3f5f\"},\"baxis\":{\"endlinecolor\":\"#2a3f5f\",\"gridcolor\":\"white\",\"linecolor\":\"white\",\"minorgridcolor\":\"white\",\"startlinecolor\":\"#2a3f5f\"},\"type\":\"carpet\"}],\"choropleth\":[{\"colorbar\":{\"outlinewidth\":0,\"ticks\":\"\"},\"type\":\"choropleth\"}],\"contour\":[{\"colorbar\":{\"outlinewidth\":0,\"ticks\":\"\"},\"colorscale\":[[0.0,\"#0d0887\"],[0.1111111111111111,\"#46039f\"],[0.2222222222222222,\"#7201a8\"],[0.3333333333333333,\"#9c179e\"],[0.4444444444444444,\"#bd3786\"],[0.5555555555555556,\"#d8576b\"],[0.6666666666666666,\"#ed7953\"],[0.7777777777777778,\"#fb9f3a\"],[0.8888888888888888,\"#fdca26\"],[1.0,\"#f0f921\"]],\"type\":\"contour\"}],\"contourcarpet\":[{\"colorbar\":{\"outlinewidth\":0,\"ticks\":\"\"},\"type\":\"contourcarpet\"}],\"heatmap\":[{\"colorbar\":{\"outlinewidth\":0,\"ticks\":\"\"},\"colorscale\":[[0.0,\"#0d0887\"],[0.1111111111111111,\"#46039f\"],[0.2222222222222222,\"#7201a8\"],[0.3333333333333333,\"#9c179e\"],[0.4444444444444444,\"#bd3786\"],[0.5555555555555556,\"#d8576b\"],[0.6666666666666666,\"#ed7953\"],[0.7777777777777778,\"#fb9f3a\"],[0.8888888888888888,\"#fdca26\"],[1.0,\"#f0f921\"]],\"type\":\"heatmap\"}],\"heatmapgl\":[{\"colorbar\":{\"outlinewidth\":0,\"ticks\":\"\"},\"colorscale\":[[0.0,\"#0d0887\"],[0.1111111111111111,\"#46039f\"],[0.2222222222222222,\"#7201a8\"],[0.3333333333333333,\"#9c179e\"],[0.4444444444444444,\"#bd3786\"],[0.5555555555555556,\"#d8576b\"],[0.6666666666666666,\"#ed7953\"],[0.7777777777777778,\"#fb9f3a\"],[0.8888888888888888,\"#fdca26\"],[1.0,\"#f0f921\"]],\"type\":\"heatmapgl\"}],\"histogram\":[{\"marker\":{\"pattern\":{\"fillmode\":\"overlay\",\"size\":10,\"solidity\":0.2}},\"type\":\"histogram\"}],\"histogram2d\":[{\"colorbar\":{\"outlinewidth\":0,\"ticks\":\"\"},\"colorscale\":[[0.0,\"#0d0887\"],[0.1111111111111111,\"#46039f\"],[0.2222222222222222,\"#7201a8\"],[0.3333333333333333,\"#9c179e\"],[0.4444444444444444,\"#bd3786\"],[0.5555555555555556,\"#d8576b\"],[0.6666666666666666,\"#ed7953\"],[0.7777777777777778,\"#fb9f3a\"],[0.8888888888888888,\"#fdca26\"],[1.0,\"#f0f921\"]],\"type\":\"histogram2d\"}],\"histogram2dcontour\":[{\"colorbar\":{\"outlinewidth\":0,\"ticks\":\"\"},\"colorscale\":[[0.0,\"#0d0887\"],[0.1111111111111111,\"#46039f\"],[0.2222222222222222,\"#7201a8\"],[0.3333333333333333,\"#9c179e\"],[0.4444444444444444,\"#bd3786\"],[0.5555555555555556,\"#d8576b\"],[0.6666666666666666,\"#ed7953\"],[0.7777777777777778,\"#fb9f3a\"],[0.8888888888888888,\"#fdca26\"],[1.0,\"#f0f921\"]],\"type\":\"histogram2dcontour\"}],\"mesh3d\":[{\"colorbar\":{\"outlinewidth\":0,\"ticks\":\"\"},\"type\":\"mesh3d\"}],\"parcoords\":[{\"line\":{\"colorbar\":{\"outlinewidth\":0,\"ticks\":\"\"}},\"type\":\"parcoords\"}],\"pie\":[{\"automargin\":true,\"type\":\"pie\"}],\"scatter\":[{\"marker\":{\"colorbar\":{\"outlinewidth\":0,\"ticks\":\"\"}},\"type\":\"scatter\"}],\"scatter3d\":[{\"line\":{\"colorbar\":{\"outlinewidth\":0,\"ticks\":\"\"}},\"marker\":{\"colorbar\":{\"outlinewidth\":0,\"ticks\":\"\"}},\"type\":\"scatter3d\"}],\"scattercarpet\":[{\"marker\":{\"colorbar\":{\"outlinewidth\":0,\"ticks\":\"\"}},\"type\":\"scattercarpet\"}],\"scattergeo\":[{\"marker\":{\"colorbar\":{\"outlinewidth\":0,\"ticks\":\"\"}},\"type\":\"scattergeo\"}],\"scattergl\":[{\"marker\":{\"colorbar\":{\"outlinewidth\":0,\"ticks\":\"\"}},\"type\":\"scattergl\"}],\"scattermapbox\":[{\"marker\":{\"colorbar\":{\"outlinewidth\":0,\"ticks\":\"\"}},\"type\":\"scattermapbox\"}],\"scatterpolar\":[{\"marker\":{\"colorbar\":{\"outlinewidth\":0,\"ticks\":\"\"}},\"type\":\"scatterpolar\"}],\"scatterpolargl\":[{\"marker\":{\"colorbar\":{\"outlinewidth\":0,\"ticks\":\"\"}},\"type\":\"scatterpolargl\"}],\"scatterternary\":[{\"marker\":{\"colorbar\":{\"outlinewidth\":0,\"ticks\":\"\"}},\"type\":\"scatterternary\"}],\"surface\":[{\"colorbar\":{\"outlinewidth\":0,\"ticks\":\"\"},\"colorscale\":[[0.0,\"#0d0887\"],[0.1111111111111111,\"#46039f\"],[0.2222222222222222,\"#7201a8\"],[0.3333333333333333,\"#9c179e\"],[0.4444444444444444,\"#bd3786\"],[0.5555555555555556,\"#d8576b\"],[0.6666666666666666,\"#ed7953\"],[0.7777777777777778,\"#fb9f3a\"],[0.8888888888888888,\"#fdca26\"],[1.0,\"#f0f921\"]],\"type\":\"surface\"}],\"table\":[{\"cells\":{\"fill\":{\"color\":\"#EBF0F8\"},\"line\":{\"color\":\"white\"}},\"header\":{\"fill\":{\"color\":\"#C8D4E3\"},\"line\":{\"color\":\"white\"}},\"type\":\"table\"}]},\"layout\":{\"annotationdefaults\":{\"arrowcolor\":\"#2a3f5f\",\"arrowhead\":0,\"arrowwidth\":1},\"autotypenumbers\":\"strict\",\"coloraxis\":{\"colorbar\":{\"outlinewidth\":0,\"ticks\":\"\"}},\"colorscale\":{\"diverging\":[[0,\"#8e0152\"],[0.1,\"#c51b7d\"],[0.2,\"#de77ae\"],[0.3,\"#f1b6da\"],[0.4,\"#fde0ef\"],[0.5,\"#f7f7f7\"],[0.6,\"#e6f5d0\"],[0.7,\"#b8e186\"],[0.8,\"#7fbc41\"],[0.9,\"#4d9221\"],[1,\"#276419\"]],\"sequential\":[[0.0,\"#0d0887\"],[0.1111111111111111,\"#46039f\"],[0.2222222222222222,\"#7201a8\"],[0.3333333333333333,\"#9c179e\"],[0.4444444444444444,\"#bd3786\"],[0.5555555555555556,\"#d8576b\"],[0.6666666666666666,\"#ed7953\"],[0.7777777777777778,\"#fb9f3a\"],[0.8888888888888888,\"#fdca26\"],[1.0,\"#f0f921\"]],\"sequentialminus\":[[0.0,\"#0d0887\"],[0.1111111111111111,\"#46039f\"],[0.2222222222222222,\"#7201a8\"],[0.3333333333333333,\"#9c179e\"],[0.4444444444444444,\"#bd3786\"],[0.5555555555555556,\"#d8576b\"],[0.6666666666666666,\"#ed7953\"],[0.7777777777777778,\"#fb9f3a\"],[0.8888888888888888,\"#fdca26\"],[1.0,\"#f0f921\"]]},\"colorway\":[\"#636efa\",\"#EF553B\",\"#00cc96\",\"#ab63fa\",\"#FFA15A\",\"#19d3f3\",\"#FF6692\",\"#B6E880\",\"#FF97FF\",\"#FECB52\"],\"font\":{\"color\":\"#2a3f5f\"},\"geo\":{\"bgcolor\":\"white\",\"lakecolor\":\"white\",\"landcolor\":\"#E5ECF6\",\"showlakes\":true,\"showland\":true,\"subunitcolor\":\"white\"},\"hoverlabel\":{\"align\":\"left\"},\"hovermode\":\"closest\",\"mapbox\":{\"style\":\"light\"},\"paper_bgcolor\":\"white\",\"plot_bgcolor\":\"#E5ECF6\",\"polar\":{\"angularaxis\":{\"gridcolor\":\"white\",\"linecolor\":\"white\",\"ticks\":\"\"},\"bgcolor\":\"#E5ECF6\",\"radialaxis\":{\"gridcolor\":\"white\",\"linecolor\":\"white\",\"ticks\":\"\"}},\"scene\":{\"xaxis\":{\"backgroundcolor\":\"#E5ECF6\",\"gridcolor\":\"white\",\"gridwidth\":2,\"linecolor\":\"white\",\"showbackground\":true,\"ticks\":\"\",\"zerolinecolor\":\"white\"},\"yaxis\":{\"backgroundcolor\":\"#E5ECF6\",\"gridcolor\":\"white\",\"gridwidth\":2,\"linecolor\":\"white\",\"showbackground\":true,\"ticks\":\"\",\"zerolinecolor\":\"white\"},\"zaxis\":{\"backgroundcolor\":\"#E5ECF6\",\"gridcolor\":\"white\",\"gridwidth\":2,\"linecolor\":\"white\",\"showbackground\":true,\"ticks\":\"\",\"zerolinecolor\":\"white\"}},\"shapedefaults\":{\"line\":{\"color\":\"#2a3f5f\"}},\"ternary\":{\"aaxis\":{\"gridcolor\":\"white\",\"linecolor\":\"white\",\"ticks\":\"\"},\"baxis\":{\"gridcolor\":\"white\",\"linecolor\":\"white\",\"ticks\":\"\"},\"bgcolor\":\"#E5ECF6\",\"caxis\":{\"gridcolor\":\"white\",\"linecolor\":\"white\",\"ticks\":\"\"}},\"title\":{\"x\":0.05},\"xaxis\":{\"automargin\":true,\"gridcolor\":\"white\",\"linecolor\":\"white\",\"ticks\":\"\",\"title\":{\"standoff\":15},\"zerolinecolor\":\"white\",\"zerolinewidth\":2},\"yaxis\":{\"automargin\":true,\"gridcolor\":\"white\",\"linecolor\":\"white\",\"ticks\":\"\",\"title\":{\"standoff\":15},\"zerolinecolor\":\"white\",\"zerolinewidth\":2}}},\"title\":{\"text\":\"Top 30 bigrams in the Complaint text after removing stop words and lemmatization\"}},                        {\"responsive\": true}                    ).then(function(){\n",
       "                            \n",
       "var gd = document.getElementById('d3ee89f0-0b13-44e8-9e43-802699f80847');\n",
       "var x = new MutationObserver(function (mutations, observer) {{\n",
       "        var display = window.getComputedStyle(gd).display;\n",
       "        if (!display || display === 'none') {{\n",
       "            console.log([gd, 'removed!']);\n",
       "            Plotly.purge(gd);\n",
       "            observer.disconnect();\n",
       "        }}\n",
       "}});\n",
       "\n",
       "// Listen for the removal of the full notebook cells\n",
       "var notebookContainer = gd.closest('#notebook-container');\n",
       "if (notebookContainer) {{\n",
       "    x.observe(notebookContainer, {childList: true});\n",
       "}}\n",
       "\n",
       "// Listen for the clearing of the current output cell\n",
       "var outputEl = gd.closest('.output');\n",
       "if (outputEl) {{\n",
       "    x.observe(outputEl, {childList: true});\n",
       "}}\n",
       "\n",
       "                        })                };                });            </script>        </div>"
      ]
     },
     "metadata": {},
     "output_type": "display_data"
    }
   ],
   "source": [
    "def get_top_n_bigram(corpus, n=None):\n",
    "    vec = CountVectorizer(ngram_range=(2, 2), stop_words='english').fit(corpus)\n",
    "    bag_of_words = vec.transform(corpus)\n",
    "    sum_words = bag_of_words.sum(axis=0) \n",
    "    words_freq = [(word, sum_words[0, idx]) for word, idx in vec.vocabulary_.items()]\n",
    "    words_freq =sorted(words_freq, key = lambda x: x[1], reverse=True)\n",
    "    return words_freq[:n]\n",
    "common_words = get_top_n_bigram(df_clean['name_clean'].values.astype('U'), 30)\n",
    "df3 = pd.DataFrame(common_words, columns = ['bigram' , 'count'])\n",
    "fig = go.Figure([go.Bar(x=df3['bigram'], y=df3['count'])])\n",
    "fig.update_layout(title=go.layout.Title(text=\"Top 30 bigrams in the Complaint text after removing stop words and lemmatization\"))\n",
    "fig.show()"
   ]
  },
  {
   "cell_type": "code",
   "execution_count": 170,
   "metadata": {
    "colab": {
     "base_uri": "https://localhost:8080/",
     "height": 206
    },
    "id": "0vfpMKFs-7Uv",
    "outputId": "dfac27e2-fa37-49f1-c038-318c9f6fd691"
   },
   "outputs": [
    {
     "data": {
      "text/html": [
       "<div>\n",
       "<style scoped>\n",
       "    .dataframe tbody tr th:only-of-type {\n",
       "        vertical-align: middle;\n",
       "    }\n",
       "\n",
       "    .dataframe tbody tr th {\n",
       "        vertical-align: top;\n",
       "    }\n",
       "\n",
       "    .dataframe thead th {\n",
       "        text-align: right;\n",
       "    }\n",
       "</style>\n",
       "<table border=\"1\" class=\"dataframe\">\n",
       "  <thead>\n",
       "    <tr style=\"text-align: right;\">\n",
       "      <th></th>\n",
       "      <th>bigram</th>\n",
       "      <th>count</th>\n",
       "    </tr>\n",
       "  </thead>\n",
       "  <tbody>\n",
       "    <tr>\n",
       "      <th>0</th>\n",
       "      <td>nan nan</td>\n",
       "      <td>24302</td>\n",
       "    </tr>\n",
       "    <tr>\n",
       "      <th>1</th>\n",
       "      <td>heart failure</td>\n",
       "      <td>474</td>\n",
       "    </tr>\n",
       "    <tr>\n",
       "      <th>2</th>\n",
       "      <td>shortness breath</td>\n",
       "      <td>458</td>\n",
       "    </tr>\n",
       "    <tr>\n",
       "      <th>3</th>\n",
       "      <td>artery disease</td>\n",
       "      <td>384</td>\n",
       "    </tr>\n",
       "    <tr>\n",
       "      <th>4</th>\n",
       "      <td>stage disease</td>\n",
       "      <td>89</td>\n",
       "    </tr>\n",
       "  </tbody>\n",
       "</table>\n",
       "</div>"
      ],
      "text/plain": [
       "             bigram  count\n",
       "0           nan nan  24302\n",
       "1     heart failure    474\n",
       "2  shortness breath    458\n",
       "3    artery disease    384\n",
       "4     stage disease     89"
      ]
     },
     "execution_count": 170,
     "metadata": {},
     "output_type": "execute_result"
    }
   ],
   "source": [
    "df3.head(5)"
   ]
  },
  {
   "cell_type": "code",
   "execution_count": 171,
   "metadata": {
    "colab": {
     "base_uri": "https://localhost:8080/",
     "height": 542
    },
    "id": "4iRFwQ1B-7Uw",
    "outputId": "7a80f375-20bb-4ad5-ff7c-fcd2e810df78"
   },
   "outputs": [
    {
     "data": {
      "application/vnd.plotly.v1+json": {
       "config": {
        "plotlyServerURL": "https://plot.ly"
       },
       "data": [
        {
         "type": "bar",
         "x": [
          "nan nan nan",
          "pain shortness breath",
          "pain heart failure",
          "pain artery disease",
          "disease heart failure",
          "edema heart failure",
          "heart failure hypertension",
          "failure artery disease",
          "shortness breath edema",
          "hypertension heart failure",
          "edema shortness breath",
          "shortness breath pain",
          "heart failure edema",
          "stenosis artery disease",
          "heart failure fibrillation",
          "heart failure pain",
          "hypertension artery disease",
          "fibrillation heart failure",
          "heart failure artery",
          "artery disease edema",
          "artery disease heart",
          "artery disease hypertension",
          "hypertension shortness breath",
          "cough shortness breath",
          "failure heart failure",
          "disease artery disease",
          "effusion shortness breath",
          "artery disease pain",
          "failure shortness breath",
          "artery disease disease"
         ],
         "y": [
          21251,
          50,
          39,
          38,
          30,
          29,
          26,
          25,
          24,
          23,
          22,
          21,
          20,
          19,
          19,
          19,
          19,
          18,
          18,
          17,
          16,
          16,
          16,
          16,
          15,
          15,
          15,
          14,
          14,
          13
         ]
        }
       ],
       "layout": {
        "template": {
         "data": {
          "bar": [
           {
            "error_x": {
             "color": "#2a3f5f"
            },
            "error_y": {
             "color": "#2a3f5f"
            },
            "marker": {
             "line": {
              "color": "#E5ECF6",
              "width": 0.5
             },
             "pattern": {
              "fillmode": "overlay",
              "size": 10,
              "solidity": 0.2
             }
            },
            "type": "bar"
           }
          ],
          "barpolar": [
           {
            "marker": {
             "line": {
              "color": "#E5ECF6",
              "width": 0.5
             },
             "pattern": {
              "fillmode": "overlay",
              "size": 10,
              "solidity": 0.2
             }
            },
            "type": "barpolar"
           }
          ],
          "carpet": [
           {
            "aaxis": {
             "endlinecolor": "#2a3f5f",
             "gridcolor": "white",
             "linecolor": "white",
             "minorgridcolor": "white",
             "startlinecolor": "#2a3f5f"
            },
            "baxis": {
             "endlinecolor": "#2a3f5f",
             "gridcolor": "white",
             "linecolor": "white",
             "minorgridcolor": "white",
             "startlinecolor": "#2a3f5f"
            },
            "type": "carpet"
           }
          ],
          "choropleth": [
           {
            "colorbar": {
             "outlinewidth": 0,
             "ticks": ""
            },
            "type": "choropleth"
           }
          ],
          "contour": [
           {
            "colorbar": {
             "outlinewidth": 0,
             "ticks": ""
            },
            "colorscale": [
             [
              0,
              "#0d0887"
             ],
             [
              0.1111111111111111,
              "#46039f"
             ],
             [
              0.2222222222222222,
              "#7201a8"
             ],
             [
              0.3333333333333333,
              "#9c179e"
             ],
             [
              0.4444444444444444,
              "#bd3786"
             ],
             [
              0.5555555555555556,
              "#d8576b"
             ],
             [
              0.6666666666666666,
              "#ed7953"
             ],
             [
              0.7777777777777778,
              "#fb9f3a"
             ],
             [
              0.8888888888888888,
              "#fdca26"
             ],
             [
              1,
              "#f0f921"
             ]
            ],
            "type": "contour"
           }
          ],
          "contourcarpet": [
           {
            "colorbar": {
             "outlinewidth": 0,
             "ticks": ""
            },
            "type": "contourcarpet"
           }
          ],
          "heatmap": [
           {
            "colorbar": {
             "outlinewidth": 0,
             "ticks": ""
            },
            "colorscale": [
             [
              0,
              "#0d0887"
             ],
             [
              0.1111111111111111,
              "#46039f"
             ],
             [
              0.2222222222222222,
              "#7201a8"
             ],
             [
              0.3333333333333333,
              "#9c179e"
             ],
             [
              0.4444444444444444,
              "#bd3786"
             ],
             [
              0.5555555555555556,
              "#d8576b"
             ],
             [
              0.6666666666666666,
              "#ed7953"
             ],
             [
              0.7777777777777778,
              "#fb9f3a"
             ],
             [
              0.8888888888888888,
              "#fdca26"
             ],
             [
              1,
              "#f0f921"
             ]
            ],
            "type": "heatmap"
           }
          ],
          "heatmapgl": [
           {
            "colorbar": {
             "outlinewidth": 0,
             "ticks": ""
            },
            "colorscale": [
             [
              0,
              "#0d0887"
             ],
             [
              0.1111111111111111,
              "#46039f"
             ],
             [
              0.2222222222222222,
              "#7201a8"
             ],
             [
              0.3333333333333333,
              "#9c179e"
             ],
             [
              0.4444444444444444,
              "#bd3786"
             ],
             [
              0.5555555555555556,
              "#d8576b"
             ],
             [
              0.6666666666666666,
              "#ed7953"
             ],
             [
              0.7777777777777778,
              "#fb9f3a"
             ],
             [
              0.8888888888888888,
              "#fdca26"
             ],
             [
              1,
              "#f0f921"
             ]
            ],
            "type": "heatmapgl"
           }
          ],
          "histogram": [
           {
            "marker": {
             "pattern": {
              "fillmode": "overlay",
              "size": 10,
              "solidity": 0.2
             }
            },
            "type": "histogram"
           }
          ],
          "histogram2d": [
           {
            "colorbar": {
             "outlinewidth": 0,
             "ticks": ""
            },
            "colorscale": [
             [
              0,
              "#0d0887"
             ],
             [
              0.1111111111111111,
              "#46039f"
             ],
             [
              0.2222222222222222,
              "#7201a8"
             ],
             [
              0.3333333333333333,
              "#9c179e"
             ],
             [
              0.4444444444444444,
              "#bd3786"
             ],
             [
              0.5555555555555556,
              "#d8576b"
             ],
             [
              0.6666666666666666,
              "#ed7953"
             ],
             [
              0.7777777777777778,
              "#fb9f3a"
             ],
             [
              0.8888888888888888,
              "#fdca26"
             ],
             [
              1,
              "#f0f921"
             ]
            ],
            "type": "histogram2d"
           }
          ],
          "histogram2dcontour": [
           {
            "colorbar": {
             "outlinewidth": 0,
             "ticks": ""
            },
            "colorscale": [
             [
              0,
              "#0d0887"
             ],
             [
              0.1111111111111111,
              "#46039f"
             ],
             [
              0.2222222222222222,
              "#7201a8"
             ],
             [
              0.3333333333333333,
              "#9c179e"
             ],
             [
              0.4444444444444444,
              "#bd3786"
             ],
             [
              0.5555555555555556,
              "#d8576b"
             ],
             [
              0.6666666666666666,
              "#ed7953"
             ],
             [
              0.7777777777777778,
              "#fb9f3a"
             ],
             [
              0.8888888888888888,
              "#fdca26"
             ],
             [
              1,
              "#f0f921"
             ]
            ],
            "type": "histogram2dcontour"
           }
          ],
          "mesh3d": [
           {
            "colorbar": {
             "outlinewidth": 0,
             "ticks": ""
            },
            "type": "mesh3d"
           }
          ],
          "parcoords": [
           {
            "line": {
             "colorbar": {
              "outlinewidth": 0,
              "ticks": ""
             }
            },
            "type": "parcoords"
           }
          ],
          "pie": [
           {
            "automargin": true,
            "type": "pie"
           }
          ],
          "scatter": [
           {
            "marker": {
             "colorbar": {
              "outlinewidth": 0,
              "ticks": ""
             }
            },
            "type": "scatter"
           }
          ],
          "scatter3d": [
           {
            "line": {
             "colorbar": {
              "outlinewidth": 0,
              "ticks": ""
             }
            },
            "marker": {
             "colorbar": {
              "outlinewidth": 0,
              "ticks": ""
             }
            },
            "type": "scatter3d"
           }
          ],
          "scattercarpet": [
           {
            "marker": {
             "colorbar": {
              "outlinewidth": 0,
              "ticks": ""
             }
            },
            "type": "scattercarpet"
           }
          ],
          "scattergeo": [
           {
            "marker": {
             "colorbar": {
              "outlinewidth": 0,
              "ticks": ""
             }
            },
            "type": "scattergeo"
           }
          ],
          "scattergl": [
           {
            "marker": {
             "colorbar": {
              "outlinewidth": 0,
              "ticks": ""
             }
            },
            "type": "scattergl"
           }
          ],
          "scattermapbox": [
           {
            "marker": {
             "colorbar": {
              "outlinewidth": 0,
              "ticks": ""
             }
            },
            "type": "scattermapbox"
           }
          ],
          "scatterpolar": [
           {
            "marker": {
             "colorbar": {
              "outlinewidth": 0,
              "ticks": ""
             }
            },
            "type": "scatterpolar"
           }
          ],
          "scatterpolargl": [
           {
            "marker": {
             "colorbar": {
              "outlinewidth": 0,
              "ticks": ""
             }
            },
            "type": "scatterpolargl"
           }
          ],
          "scatterternary": [
           {
            "marker": {
             "colorbar": {
              "outlinewidth": 0,
              "ticks": ""
             }
            },
            "type": "scatterternary"
           }
          ],
          "surface": [
           {
            "colorbar": {
             "outlinewidth": 0,
             "ticks": ""
            },
            "colorscale": [
             [
              0,
              "#0d0887"
             ],
             [
              0.1111111111111111,
              "#46039f"
             ],
             [
              0.2222222222222222,
              "#7201a8"
             ],
             [
              0.3333333333333333,
              "#9c179e"
             ],
             [
              0.4444444444444444,
              "#bd3786"
             ],
             [
              0.5555555555555556,
              "#d8576b"
             ],
             [
              0.6666666666666666,
              "#ed7953"
             ],
             [
              0.7777777777777778,
              "#fb9f3a"
             ],
             [
              0.8888888888888888,
              "#fdca26"
             ],
             [
              1,
              "#f0f921"
             ]
            ],
            "type": "surface"
           }
          ],
          "table": [
           {
            "cells": {
             "fill": {
              "color": "#EBF0F8"
             },
             "line": {
              "color": "white"
             }
            },
            "header": {
             "fill": {
              "color": "#C8D4E3"
             },
             "line": {
              "color": "white"
             }
            },
            "type": "table"
           }
          ]
         },
         "layout": {
          "annotationdefaults": {
           "arrowcolor": "#2a3f5f",
           "arrowhead": 0,
           "arrowwidth": 1
          },
          "autotypenumbers": "strict",
          "coloraxis": {
           "colorbar": {
            "outlinewidth": 0,
            "ticks": ""
           }
          },
          "colorscale": {
           "diverging": [
            [
             0,
             "#8e0152"
            ],
            [
             0.1,
             "#c51b7d"
            ],
            [
             0.2,
             "#de77ae"
            ],
            [
             0.3,
             "#f1b6da"
            ],
            [
             0.4,
             "#fde0ef"
            ],
            [
             0.5,
             "#f7f7f7"
            ],
            [
             0.6,
             "#e6f5d0"
            ],
            [
             0.7,
             "#b8e186"
            ],
            [
             0.8,
             "#7fbc41"
            ],
            [
             0.9,
             "#4d9221"
            ],
            [
             1,
             "#276419"
            ]
           ],
           "sequential": [
            [
             0,
             "#0d0887"
            ],
            [
             0.1111111111111111,
             "#46039f"
            ],
            [
             0.2222222222222222,
             "#7201a8"
            ],
            [
             0.3333333333333333,
             "#9c179e"
            ],
            [
             0.4444444444444444,
             "#bd3786"
            ],
            [
             0.5555555555555556,
             "#d8576b"
            ],
            [
             0.6666666666666666,
             "#ed7953"
            ],
            [
             0.7777777777777778,
             "#fb9f3a"
            ],
            [
             0.8888888888888888,
             "#fdca26"
            ],
            [
             1,
             "#f0f921"
            ]
           ],
           "sequentialminus": [
            [
             0,
             "#0d0887"
            ],
            [
             0.1111111111111111,
             "#46039f"
            ],
            [
             0.2222222222222222,
             "#7201a8"
            ],
            [
             0.3333333333333333,
             "#9c179e"
            ],
            [
             0.4444444444444444,
             "#bd3786"
            ],
            [
             0.5555555555555556,
             "#d8576b"
            ],
            [
             0.6666666666666666,
             "#ed7953"
            ],
            [
             0.7777777777777778,
             "#fb9f3a"
            ],
            [
             0.8888888888888888,
             "#fdca26"
            ],
            [
             1,
             "#f0f921"
            ]
           ]
          },
          "colorway": [
           "#636efa",
           "#EF553B",
           "#00cc96",
           "#ab63fa",
           "#FFA15A",
           "#19d3f3",
           "#FF6692",
           "#B6E880",
           "#FF97FF",
           "#FECB52"
          ],
          "font": {
           "color": "#2a3f5f"
          },
          "geo": {
           "bgcolor": "white",
           "lakecolor": "white",
           "landcolor": "#E5ECF6",
           "showlakes": true,
           "showland": true,
           "subunitcolor": "white"
          },
          "hoverlabel": {
           "align": "left"
          },
          "hovermode": "closest",
          "mapbox": {
           "style": "light"
          },
          "paper_bgcolor": "white",
          "plot_bgcolor": "#E5ECF6",
          "polar": {
           "angularaxis": {
            "gridcolor": "white",
            "linecolor": "white",
            "ticks": ""
           },
           "bgcolor": "#E5ECF6",
           "radialaxis": {
            "gridcolor": "white",
            "linecolor": "white",
            "ticks": ""
           }
          },
          "scene": {
           "xaxis": {
            "backgroundcolor": "#E5ECF6",
            "gridcolor": "white",
            "gridwidth": 2,
            "linecolor": "white",
            "showbackground": true,
            "ticks": "",
            "zerolinecolor": "white"
           },
           "yaxis": {
            "backgroundcolor": "#E5ECF6",
            "gridcolor": "white",
            "gridwidth": 2,
            "linecolor": "white",
            "showbackground": true,
            "ticks": "",
            "zerolinecolor": "white"
           },
           "zaxis": {
            "backgroundcolor": "#E5ECF6",
            "gridcolor": "white",
            "gridwidth": 2,
            "linecolor": "white",
            "showbackground": true,
            "ticks": "",
            "zerolinecolor": "white"
           }
          },
          "shapedefaults": {
           "line": {
            "color": "#2a3f5f"
           }
          },
          "ternary": {
           "aaxis": {
            "gridcolor": "white",
            "linecolor": "white",
            "ticks": ""
           },
           "baxis": {
            "gridcolor": "white",
            "linecolor": "white",
            "ticks": ""
           },
           "bgcolor": "#E5ECF6",
           "caxis": {
            "gridcolor": "white",
            "linecolor": "white",
            "ticks": ""
           }
          },
          "title": {
           "x": 0.05
          },
          "xaxis": {
           "automargin": true,
           "gridcolor": "white",
           "linecolor": "white",
           "ticks": "",
           "title": {
            "standoff": 15
           },
           "zerolinecolor": "white",
           "zerolinewidth": 2
          },
          "yaxis": {
           "automargin": true,
           "gridcolor": "white",
           "linecolor": "white",
           "ticks": "",
           "title": {
            "standoff": 15
           },
           "zerolinecolor": "white",
           "zerolinewidth": 2
          }
         }
        },
        "title": {
         "text": "Top 30 trigrams in the text"
        }
       }
      },
      "text/html": [
       "<div>                            <div id=\"1ad930fa-4345-4d14-bfeb-c81b7e8ab6de\" class=\"plotly-graph-div\" style=\"height:525px; width:100%;\"></div>            <script type=\"text/javascript\">                require([\"plotly\"], function(Plotly) {                    window.PLOTLYENV=window.PLOTLYENV || {};                                    if (document.getElementById(\"1ad930fa-4345-4d14-bfeb-c81b7e8ab6de\")) {                    Plotly.newPlot(                        \"1ad930fa-4345-4d14-bfeb-c81b7e8ab6de\",                        [{\"x\":[\"nan nan nan\",\"pain shortness breath\",\"pain heart failure\",\"pain artery disease\",\"disease heart failure\",\"edema heart failure\",\"heart failure hypertension\",\"failure artery disease\",\"shortness breath edema\",\"hypertension heart failure\",\"edema shortness breath\",\"shortness breath pain\",\"heart failure edema\",\"stenosis artery disease\",\"heart failure fibrillation\",\"heart failure pain\",\"hypertension artery disease\",\"fibrillation heart failure\",\"heart failure artery\",\"artery disease edema\",\"artery disease heart\",\"artery disease hypertension\",\"hypertension shortness breath\",\"cough shortness breath\",\"failure heart failure\",\"disease artery disease\",\"effusion shortness breath\",\"artery disease pain\",\"failure shortness breath\",\"artery disease disease\"],\"y\":[21251,50,39,38,30,29,26,25,24,23,22,21,20,19,19,19,19,18,18,17,16,16,16,16,15,15,15,14,14,13],\"type\":\"bar\"}],                        {\"template\":{\"data\":{\"bar\":[{\"error_x\":{\"color\":\"#2a3f5f\"},\"error_y\":{\"color\":\"#2a3f5f\"},\"marker\":{\"line\":{\"color\":\"#E5ECF6\",\"width\":0.5},\"pattern\":{\"fillmode\":\"overlay\",\"size\":10,\"solidity\":0.2}},\"type\":\"bar\"}],\"barpolar\":[{\"marker\":{\"line\":{\"color\":\"#E5ECF6\",\"width\":0.5},\"pattern\":{\"fillmode\":\"overlay\",\"size\":10,\"solidity\":0.2}},\"type\":\"barpolar\"}],\"carpet\":[{\"aaxis\":{\"endlinecolor\":\"#2a3f5f\",\"gridcolor\":\"white\",\"linecolor\":\"white\",\"minorgridcolor\":\"white\",\"startlinecolor\":\"#2a3f5f\"},\"baxis\":{\"endlinecolor\":\"#2a3f5f\",\"gridcolor\":\"white\",\"linecolor\":\"white\",\"minorgridcolor\":\"white\",\"startlinecolor\":\"#2a3f5f\"},\"type\":\"carpet\"}],\"choropleth\":[{\"colorbar\":{\"outlinewidth\":0,\"ticks\":\"\"},\"type\":\"choropleth\"}],\"contour\":[{\"colorbar\":{\"outlinewidth\":0,\"ticks\":\"\"},\"colorscale\":[[0.0,\"#0d0887\"],[0.1111111111111111,\"#46039f\"],[0.2222222222222222,\"#7201a8\"],[0.3333333333333333,\"#9c179e\"],[0.4444444444444444,\"#bd3786\"],[0.5555555555555556,\"#d8576b\"],[0.6666666666666666,\"#ed7953\"],[0.7777777777777778,\"#fb9f3a\"],[0.8888888888888888,\"#fdca26\"],[1.0,\"#f0f921\"]],\"type\":\"contour\"}],\"contourcarpet\":[{\"colorbar\":{\"outlinewidth\":0,\"ticks\":\"\"},\"type\":\"contourcarpet\"}],\"heatmap\":[{\"colorbar\":{\"outlinewidth\":0,\"ticks\":\"\"},\"colorscale\":[[0.0,\"#0d0887\"],[0.1111111111111111,\"#46039f\"],[0.2222222222222222,\"#7201a8\"],[0.3333333333333333,\"#9c179e\"],[0.4444444444444444,\"#bd3786\"],[0.5555555555555556,\"#d8576b\"],[0.6666666666666666,\"#ed7953\"],[0.7777777777777778,\"#fb9f3a\"],[0.8888888888888888,\"#fdca26\"],[1.0,\"#f0f921\"]],\"type\":\"heatmap\"}],\"heatmapgl\":[{\"colorbar\":{\"outlinewidth\":0,\"ticks\":\"\"},\"colorscale\":[[0.0,\"#0d0887\"],[0.1111111111111111,\"#46039f\"],[0.2222222222222222,\"#7201a8\"],[0.3333333333333333,\"#9c179e\"],[0.4444444444444444,\"#bd3786\"],[0.5555555555555556,\"#d8576b\"],[0.6666666666666666,\"#ed7953\"],[0.7777777777777778,\"#fb9f3a\"],[0.8888888888888888,\"#fdca26\"],[1.0,\"#f0f921\"]],\"type\":\"heatmapgl\"}],\"histogram\":[{\"marker\":{\"pattern\":{\"fillmode\":\"overlay\",\"size\":10,\"solidity\":0.2}},\"type\":\"histogram\"}],\"histogram2d\":[{\"colorbar\":{\"outlinewidth\":0,\"ticks\":\"\"},\"colorscale\":[[0.0,\"#0d0887\"],[0.1111111111111111,\"#46039f\"],[0.2222222222222222,\"#7201a8\"],[0.3333333333333333,\"#9c179e\"],[0.4444444444444444,\"#bd3786\"],[0.5555555555555556,\"#d8576b\"],[0.6666666666666666,\"#ed7953\"],[0.7777777777777778,\"#fb9f3a\"],[0.8888888888888888,\"#fdca26\"],[1.0,\"#f0f921\"]],\"type\":\"histogram2d\"}],\"histogram2dcontour\":[{\"colorbar\":{\"outlinewidth\":0,\"ticks\":\"\"},\"colorscale\":[[0.0,\"#0d0887\"],[0.1111111111111111,\"#46039f\"],[0.2222222222222222,\"#7201a8\"],[0.3333333333333333,\"#9c179e\"],[0.4444444444444444,\"#bd3786\"],[0.5555555555555556,\"#d8576b\"],[0.6666666666666666,\"#ed7953\"],[0.7777777777777778,\"#fb9f3a\"],[0.8888888888888888,\"#fdca26\"],[1.0,\"#f0f921\"]],\"type\":\"histogram2dcontour\"}],\"mesh3d\":[{\"colorbar\":{\"outlinewidth\":0,\"ticks\":\"\"},\"type\":\"mesh3d\"}],\"parcoords\":[{\"line\":{\"colorbar\":{\"outlinewidth\":0,\"ticks\":\"\"}},\"type\":\"parcoords\"}],\"pie\":[{\"automargin\":true,\"type\":\"pie\"}],\"scatter\":[{\"marker\":{\"colorbar\":{\"outlinewidth\":0,\"ticks\":\"\"}},\"type\":\"scatter\"}],\"scatter3d\":[{\"line\":{\"colorbar\":{\"outlinewidth\":0,\"ticks\":\"\"}},\"marker\":{\"colorbar\":{\"outlinewidth\":0,\"ticks\":\"\"}},\"type\":\"scatter3d\"}],\"scattercarpet\":[{\"marker\":{\"colorbar\":{\"outlinewidth\":0,\"ticks\":\"\"}},\"type\":\"scattercarpet\"}],\"scattergeo\":[{\"marker\":{\"colorbar\":{\"outlinewidth\":0,\"ticks\":\"\"}},\"type\":\"scattergeo\"}],\"scattergl\":[{\"marker\":{\"colorbar\":{\"outlinewidth\":0,\"ticks\":\"\"}},\"type\":\"scattergl\"}],\"scattermapbox\":[{\"marker\":{\"colorbar\":{\"outlinewidth\":0,\"ticks\":\"\"}},\"type\":\"scattermapbox\"}],\"scatterpolar\":[{\"marker\":{\"colorbar\":{\"outlinewidth\":0,\"ticks\":\"\"}},\"type\":\"scatterpolar\"}],\"scatterpolargl\":[{\"marker\":{\"colorbar\":{\"outlinewidth\":0,\"ticks\":\"\"}},\"type\":\"scatterpolargl\"}],\"scatterternary\":[{\"marker\":{\"colorbar\":{\"outlinewidth\":0,\"ticks\":\"\"}},\"type\":\"scatterternary\"}],\"surface\":[{\"colorbar\":{\"outlinewidth\":0,\"ticks\":\"\"},\"colorscale\":[[0.0,\"#0d0887\"],[0.1111111111111111,\"#46039f\"],[0.2222222222222222,\"#7201a8\"],[0.3333333333333333,\"#9c179e\"],[0.4444444444444444,\"#bd3786\"],[0.5555555555555556,\"#d8576b\"],[0.6666666666666666,\"#ed7953\"],[0.7777777777777778,\"#fb9f3a\"],[0.8888888888888888,\"#fdca26\"],[1.0,\"#f0f921\"]],\"type\":\"surface\"}],\"table\":[{\"cells\":{\"fill\":{\"color\":\"#EBF0F8\"},\"line\":{\"color\":\"white\"}},\"header\":{\"fill\":{\"color\":\"#C8D4E3\"},\"line\":{\"color\":\"white\"}},\"type\":\"table\"}]},\"layout\":{\"annotationdefaults\":{\"arrowcolor\":\"#2a3f5f\",\"arrowhead\":0,\"arrowwidth\":1},\"autotypenumbers\":\"strict\",\"coloraxis\":{\"colorbar\":{\"outlinewidth\":0,\"ticks\":\"\"}},\"colorscale\":{\"diverging\":[[0,\"#8e0152\"],[0.1,\"#c51b7d\"],[0.2,\"#de77ae\"],[0.3,\"#f1b6da\"],[0.4,\"#fde0ef\"],[0.5,\"#f7f7f7\"],[0.6,\"#e6f5d0\"],[0.7,\"#b8e186\"],[0.8,\"#7fbc41\"],[0.9,\"#4d9221\"],[1,\"#276419\"]],\"sequential\":[[0.0,\"#0d0887\"],[0.1111111111111111,\"#46039f\"],[0.2222222222222222,\"#7201a8\"],[0.3333333333333333,\"#9c179e\"],[0.4444444444444444,\"#bd3786\"],[0.5555555555555556,\"#d8576b\"],[0.6666666666666666,\"#ed7953\"],[0.7777777777777778,\"#fb9f3a\"],[0.8888888888888888,\"#fdca26\"],[1.0,\"#f0f921\"]],\"sequentialminus\":[[0.0,\"#0d0887\"],[0.1111111111111111,\"#46039f\"],[0.2222222222222222,\"#7201a8\"],[0.3333333333333333,\"#9c179e\"],[0.4444444444444444,\"#bd3786\"],[0.5555555555555556,\"#d8576b\"],[0.6666666666666666,\"#ed7953\"],[0.7777777777777778,\"#fb9f3a\"],[0.8888888888888888,\"#fdca26\"],[1.0,\"#f0f921\"]]},\"colorway\":[\"#636efa\",\"#EF553B\",\"#00cc96\",\"#ab63fa\",\"#FFA15A\",\"#19d3f3\",\"#FF6692\",\"#B6E880\",\"#FF97FF\",\"#FECB52\"],\"font\":{\"color\":\"#2a3f5f\"},\"geo\":{\"bgcolor\":\"white\",\"lakecolor\":\"white\",\"landcolor\":\"#E5ECF6\",\"showlakes\":true,\"showland\":true,\"subunitcolor\":\"white\"},\"hoverlabel\":{\"align\":\"left\"},\"hovermode\":\"closest\",\"mapbox\":{\"style\":\"light\"},\"paper_bgcolor\":\"white\",\"plot_bgcolor\":\"#E5ECF6\",\"polar\":{\"angularaxis\":{\"gridcolor\":\"white\",\"linecolor\":\"white\",\"ticks\":\"\"},\"bgcolor\":\"#E5ECF6\",\"radialaxis\":{\"gridcolor\":\"white\",\"linecolor\":\"white\",\"ticks\":\"\"}},\"scene\":{\"xaxis\":{\"backgroundcolor\":\"#E5ECF6\",\"gridcolor\":\"white\",\"gridwidth\":2,\"linecolor\":\"white\",\"showbackground\":true,\"ticks\":\"\",\"zerolinecolor\":\"white\"},\"yaxis\":{\"backgroundcolor\":\"#E5ECF6\",\"gridcolor\":\"white\",\"gridwidth\":2,\"linecolor\":\"white\",\"showbackground\":true,\"ticks\":\"\",\"zerolinecolor\":\"white\"},\"zaxis\":{\"backgroundcolor\":\"#E5ECF6\",\"gridcolor\":\"white\",\"gridwidth\":2,\"linecolor\":\"white\",\"showbackground\":true,\"ticks\":\"\",\"zerolinecolor\":\"white\"}},\"shapedefaults\":{\"line\":{\"color\":\"#2a3f5f\"}},\"ternary\":{\"aaxis\":{\"gridcolor\":\"white\",\"linecolor\":\"white\",\"ticks\":\"\"},\"baxis\":{\"gridcolor\":\"white\",\"linecolor\":\"white\",\"ticks\":\"\"},\"bgcolor\":\"#E5ECF6\",\"caxis\":{\"gridcolor\":\"white\",\"linecolor\":\"white\",\"ticks\":\"\"}},\"title\":{\"x\":0.05},\"xaxis\":{\"automargin\":true,\"gridcolor\":\"white\",\"linecolor\":\"white\",\"ticks\":\"\",\"title\":{\"standoff\":15},\"zerolinecolor\":\"white\",\"zerolinewidth\":2},\"yaxis\":{\"automargin\":true,\"gridcolor\":\"white\",\"linecolor\":\"white\",\"ticks\":\"\",\"title\":{\"standoff\":15},\"zerolinecolor\":\"white\",\"zerolinewidth\":2}}},\"title\":{\"text\":\"Top 30 trigrams in the text\"}},                        {\"responsive\": true}                    ).then(function(){\n",
       "                            \n",
       "var gd = document.getElementById('1ad930fa-4345-4d14-bfeb-c81b7e8ab6de');\n",
       "var x = new MutationObserver(function (mutations, observer) {{\n",
       "        var display = window.getComputedStyle(gd).display;\n",
       "        if (!display || display === 'none') {{\n",
       "            console.log([gd, 'removed!']);\n",
       "            Plotly.purge(gd);\n",
       "            observer.disconnect();\n",
       "        }}\n",
       "}});\n",
       "\n",
       "// Listen for the removal of the full notebook cells\n",
       "var notebookContainer = gd.closest('#notebook-container');\n",
       "if (notebookContainer) {{\n",
       "    x.observe(notebookContainer, {childList: true});\n",
       "}}\n",
       "\n",
       "// Listen for the clearing of the current output cell\n",
       "var outputEl = gd.closest('.output');\n",
       "if (outputEl) {{\n",
       "    x.observe(outputEl, {childList: true});\n",
       "}}\n",
       "\n",
       "                        })                };                });            </script>        </div>"
      ]
     },
     "metadata": {},
     "output_type": "display_data"
    }
   ],
   "source": [
    "def get_top_n_trigram(corpus, n=None):\n",
    "    vec = CountVectorizer(ngram_range=(3, 3), stop_words='english').fit(corpus)\n",
    "    bag_of_words = vec.transform(corpus)\n",
    "    sum_words = bag_of_words.sum(axis=0) \n",
    "    words_freq = [(word, sum_words[0, idx]) for word, idx in vec.vocabulary_.items()]\n",
    "    words_freq =sorted(words_freq, key = lambda x: x[1], reverse=True)\n",
    "    return words_freq[:n]\n",
    "common_words = get_top_n_trigram(df_clean['name_clean'].values.astype('U'), 30)\n",
    "df4 = pd.DataFrame(common_words, columns = ['trigram' , 'count'])\n",
    "fig = go.Figure([go.Bar(x=df4['trigram'], y=df4['count'])])\n",
    "fig.update_layout(title=go.layout.Title(text=\"Top 30 trigrams in the text\"))\n",
    "fig.show()"
   ]
  },
  {
   "cell_type": "code",
   "execution_count": 172,
   "metadata": {
    "colab": {
     "base_uri": "https://localhost:8080/",
     "height": 363
    },
    "id": "57rdxhi9-7Uy",
    "outputId": "67a6da46-61e4-486a-9a97-4760cf8f0ada"
   },
   "outputs": [
    {
     "data": {
      "text/html": [
       "<div>\n",
       "<style scoped>\n",
       "    .dataframe tbody tr th:only-of-type {\n",
       "        vertical-align: middle;\n",
       "    }\n",
       "\n",
       "    .dataframe tbody tr th {\n",
       "        vertical-align: top;\n",
       "    }\n",
       "\n",
       "    .dataframe thead th {\n",
       "        text-align: right;\n",
       "    }\n",
       "</style>\n",
       "<table border=\"1\" class=\"dataframe\">\n",
       "  <thead>\n",
       "    <tr style=\"text-align: right;\">\n",
       "      <th></th>\n",
       "      <th>trigram</th>\n",
       "      <th>count</th>\n",
       "    </tr>\n",
       "  </thead>\n",
       "  <tbody>\n",
       "    <tr>\n",
       "      <th>0</th>\n",
       "      <td>nan nan nan</td>\n",
       "      <td>21251</td>\n",
       "    </tr>\n",
       "    <tr>\n",
       "      <th>1</th>\n",
       "      <td>pain shortness breath</td>\n",
       "      <td>50</td>\n",
       "    </tr>\n",
       "    <tr>\n",
       "      <th>2</th>\n",
       "      <td>pain heart failure</td>\n",
       "      <td>39</td>\n",
       "    </tr>\n",
       "    <tr>\n",
       "      <th>3</th>\n",
       "      <td>pain artery disease</td>\n",
       "      <td>38</td>\n",
       "    </tr>\n",
       "    <tr>\n",
       "      <th>4</th>\n",
       "      <td>disease heart failure</td>\n",
       "      <td>30</td>\n",
       "    </tr>\n",
       "    <tr>\n",
       "      <th>5</th>\n",
       "      <td>edema heart failure</td>\n",
       "      <td>29</td>\n",
       "    </tr>\n",
       "    <tr>\n",
       "      <th>6</th>\n",
       "      <td>heart failure hypertension</td>\n",
       "      <td>26</td>\n",
       "    </tr>\n",
       "    <tr>\n",
       "      <th>7</th>\n",
       "      <td>failure artery disease</td>\n",
       "      <td>25</td>\n",
       "    </tr>\n",
       "    <tr>\n",
       "      <th>8</th>\n",
       "      <td>shortness breath edema</td>\n",
       "      <td>24</td>\n",
       "    </tr>\n",
       "    <tr>\n",
       "      <th>9</th>\n",
       "      <td>hypertension heart failure</td>\n",
       "      <td>23</td>\n",
       "    </tr>\n",
       "  </tbody>\n",
       "</table>\n",
       "</div>"
      ],
      "text/plain": [
       "                      trigram  count\n",
       "0                 nan nan nan  21251\n",
       "1       pain shortness breath     50\n",
       "2          pain heart failure     39\n",
       "3         pain artery disease     38\n",
       "4       disease heart failure     30\n",
       "5         edema heart failure     29\n",
       "6  heart failure hypertension     26\n",
       "7      failure artery disease     25\n",
       "8      shortness breath edema     24\n",
       "9  hypertension heart failure     23"
      ]
     },
     "execution_count": 172,
     "metadata": {},
     "output_type": "execute_result"
    }
   ],
   "source": [
    "df4.head(10)"
   ]
  },
  {
   "cell_type": "markdown",
   "metadata": {
    "id": "uth2lg2b-7U3"
   },
   "source": [
    "## Lets now convert the raw texts to a matrix of TF-IDF features\n",
    "\n",
    "max_df is used for removing terms that appear too frequently, also known as \"corpus-specific stop words\"\n",
    "max_df = 0.95 means \"ignore terms that appear in more than 95% of the complaints\"\n",
    "\n",
    "min_df is used for removing terms that appear too infrequently\n",
    "min_df = 2 means \"ignore terms that appear in less than 2 complaints\""
   ]
  },
  {
   "cell_type": "code",
   "execution_count": 173,
   "metadata": {
    "id": "4-LtBx3l-7U7"
   },
   "outputs": [],
   "source": [
    "tfidf = TfidfVectorizer(max_df=0.95, min_df=2, stop_words='english')"
   ]
  },
  {
   "cell_type": "markdown",
   "metadata": {
    "id": "G79-nNtF-7U8"
   },
   "source": [
    "## Create a document term matrix using fit_transform\n",
    "\n",
    "The contents of a document term matrix are tuples of (complaint_id,token_id) tf-idf score:\n",
    "The tuples that are not there have a tf-idf score of 0"
   ]
  },
  {
   "cell_type": "code",
   "execution_count": 174,
   "metadata": {
    "id": "cCdkHqKT-7U8"
   },
   "outputs": [],
   "source": [
    "dtm = tfidf.fit_transform(df_clean['name_clean'])"
   ]
  },
  {
   "cell_type": "markdown",
   "metadata": {
    "id": "aPlMuRVC-7U9"
   },
   "source": [
    "## NMF\n",
    "\n",
    "Non-Negative Matrix Factorization (NMF) is an unsupervised technique so there are no labeling of topics that the model will be trained on. The way it works is that, NMF decomposes (or factorizes) high-dimensional vectors into a lower-dimensional representation. These lower-dimensional vectors are non-negative which also means their coefficients are non-negative."
   ]
  },
  {
   "cell_type": "code",
   "execution_count": 175,
   "metadata": {
    "id": "oVtFyV37-7U-"
   },
   "outputs": [],
   "source": [
    "from sklearn.decomposition import NMF"
   ]
  },
  {
   "cell_type": "markdown",
   "metadata": {
    "id": "YgDXLRv--7U_"
   },
   "source": [
    "## Coherence Model to select best number of Topics\n",
    "With the Coherence Model we will see how to automatically select the best number of topics. \n"
   ]
  },
  {
   "cell_type": "code",
   "execution_count": 176,
   "metadata": {
    "id": "w1GZUgEutlON"
   },
   "outputs": [],
   "source": [
    "import warnings\n",
    "warnings.filterwarnings(\"ignore\")\n",
    "from gensim.corpora.dictionary import Dictionary"
   ]
  },
  {
   "cell_type": "code",
   "execution_count": 177,
   "metadata": {
    "colab": {
     "base_uri": "https://localhost:8080/"
    },
    "id": "GVfb7L-mtppd",
    "outputId": "657a3862-1d28-461b-c471-82f61521af83"
   },
   "outputs": [
    {
     "name": "stdout",
     "output_type": "stream",
     "text": [
      "Requirement already satisfied: gensim in c:\\users\\sarba\\anaconda3\\lib\\site-packages (4.2.0)\n",
      "Requirement already satisfied: smart-open>=1.8.1 in c:\\users\\sarba\\anaconda3\\lib\\site-packages (from gensim) (5.2.1)\n",
      "Requirement already satisfied: numpy>=1.17.0 in c:\\users\\sarba\\anaconda3\\lib\\site-packages (from gensim) (1.21.5)\n",
      "Requirement already satisfied: scipy>=0.18.1 in c:\\users\\sarba\\anaconda3\\lib\\site-packages (from gensim) (1.7.3)\n",
      "Requirement already satisfied: Cython==0.29.28 in c:\\users\\sarba\\anaconda3\\lib\\site-packages (from gensim) (0.29.28)\n"
     ]
    }
   ],
   "source": [
    "!python -m pip install -U gensim\n"
   ]
  },
  {
   "cell_type": "code",
   "execution_count": 178,
   "metadata": {
    "id": "tLhtNtkHtpdh"
   },
   "outputs": [],
   "source": [
    "from gensim.models.nmf import Nmf\n",
    "from gensim.models.coherencemodel import CoherenceModel\n",
    "from operator import itemgetter"
   ]
  },
  {
   "cell_type": "code",
   "execution_count": 179,
   "metadata": {
    "colab": {
     "base_uri": "https://localhost:8080/"
    },
    "id": "_76xa3Bm-7U_",
    "outputId": "f2eb4055-c76b-49a2-ed20-ca81072fa1c9"
   },
   "outputs": [
    {
     "name": "stdout",
     "output_type": "stream",
     "text": [
      "5\n"
     ]
    }
   ],
   "source": [
    "\n",
    "\n",
    "# Use Gensim's NMF to get the best num of topics via coherence score\n",
    "texts = df_clean['name_clean']\n",
    "dataset = [d.split() for d in texts]\n",
    "\n",
    "# Create a dictionary\n",
    "# In gensim a dictionary is a mapping between words and their integer id\n",
    "dictionary = Dictionary(dataset)\n",
    "\n",
    "# Filter out extremes to limit the number of features\n",
    "dictionary.filter_extremes(\n",
    "    no_below=3,\n",
    "    no_above=0.85,\n",
    "    keep_n=5000\n",
    ")\n",
    "\n",
    "# Create the bag-of-words format (list of (token_id, token_count))\n",
    "corpus = [dictionary.doc2bow(text) for text in dataset]\n",
    "\n",
    "# Create a list of the topic numbers we want to try\n",
    "topic_nums = list(np.arange(5, 10, 1))\n",
    "\n",
    "# Run the nmf model and calculate the coherence score\n",
    "# for each number of topics\n",
    "coherence_scores = []\n",
    "\n",
    "for num in topic_nums:\n",
    "    nmf = Nmf(\n",
    "        corpus=corpus,\n",
    "        num_topics=num,\n",
    "        id2word=dictionary,\n",
    "        chunksize=2000,\n",
    "        passes=7,\n",
    "        kappa=.1,\n",
    "        minimum_probability=0.01,\n",
    "        w_max_iter=900,\n",
    "        w_stop_condition=0.0001,\n",
    "        h_max_iter=100,\n",
    "        h_stop_condition=0.001,\n",
    "        eval_every=10,\n",
    "        normalize=True,\n",
    "        random_state=42\n",
    "    )\n",
    "    \n",
    "    # Run the coherence model to get the score\n",
    "    cm = CoherenceModel(\n",
    "        model=nmf,\n",
    "        texts=texts,\n",
    "        dictionary=dictionary,\n",
    "        coherence='c_v'\n",
    "    )\n",
    "    \n",
    "    coherence_scores.append(round(cm.get_coherence(), 5))\n",
    "\n",
    "# Get the number of topics with the highest coherence score\n",
    "scores = list(zip(topic_nums, coherence_scores))\n",
    "best_num_topics = sorted(scores, key=itemgetter(1), reverse=True)[0][0]\n",
    "\n",
    "print(best_num_topics)"
   ]
  },
  {
   "cell_type": "markdown",
   "metadata": {
    "id": "033L_3K0-7VB"
   },
   "source": [
    "## Manual Topic Modeling\n",
    "With the CoherenceModel we got the best number of topics=5.The hard work is already done at this point so all we need to do is run the model.\n",
    "\n",
    "The only parameter that is required is the number of components i.e. the number of topics we want. This is the most crucial step in the whole topic modeling process and will greatly affect how good your final topics are."
   ]
  },
  {
   "cell_type": "code",
   "execution_count": 180,
   "metadata": {
    "id": "kF1nHZTL-7VH"
   },
   "outputs": [],
   "source": [
    "nmf_model = NMF(n_components=5,random_state=40)"
   ]
  },
  {
   "cell_type": "code",
   "execution_count": 181,
   "metadata": {
    "colab": {
     "base_uri": "https://localhost:8080/"
    },
    "id": "AYWUJtOC-7VI",
    "outputId": "b9554b7a-25a2-46d2-9be5-860362e3a216"
   },
   "outputs": [
    {
     "data": {
      "text/plain": [
       "854"
      ]
     },
     "execution_count": 181,
     "metadata": {},
     "output_type": "execute_result"
    }
   ],
   "source": [
    "nmf_model.fit(dtm)\n",
    "len(tfidf.get_feature_names())"
   ]
  },
  {
   "cell_type": "code",
   "execution_count": 182,
   "metadata": {
    "colab": {
     "base_uri": "https://localhost:8080/"
    },
    "id": "mwXnxacT-7VJ",
    "outputId": "9ee1e353-7487-4053-f511-153345267a62"
   },
   "outputs": [
    {
     "name": "stdout",
     "output_type": "stream",
     "text": [
      "complication\n",
      "sepsis\n",
      "paralysis\n",
      "work\n",
      "thrombocytosis\n",
      "infection\n",
      "candidemia\n",
      "tract\n",
      "condition\n",
      "nan\n"
     ]
    }
   ],
   "source": [
    "#Print the top word of a sample component\n",
    "single_topic = nmf_model.components_[0]\n",
    "single_topic.argsort()\n",
    "top_word_indices = single_topic.argsort()[-10:]\n",
    "for index in top_word_indices:\n",
    "    print(tfidf.get_feature_names()[index])"
   ]
  },
  {
   "cell_type": "markdown",
   "metadata": {
    "id": "NaOgjr1MWRLJ"
   },
   "source": []
  },
  {
   "cell_type": "code",
   "execution_count": null,
   "metadata": {
    "id": "vzR4mxHJWP9o"
   },
   "outputs": [],
   "source": []
  },
  {
   "cell_type": "markdown",
   "metadata": {
    "id": "gl7WH8HiWT3o"
   },
   "source": [
    "#Print Top15 words for each of the topics"
   ]
  },
  {
   "cell_type": "code",
   "execution_count": 183,
   "metadata": {
    "colab": {
     "base_uri": "https://localhost:8080/"
    },
    "id": "PBWDkCwD-7VK",
    "outputId": "a6cf58ec-84f4-413c-847c-3af54b9547a8"
   },
   "outputs": [
    {
     "name": "stdout",
     "output_type": "stream",
     "text": [
      "THE TOP 15 WORDS FOR TOPIC #0\n",
      "['nodule', 'saturation', 'oxygen', 'fibrillation', 'troponin', 'complication', 'sepsis', 'paralysis', 'work', 'thrombocytosis', 'infection', 'candidemia', 'tract', 'condition', 'nan']\n",
      "\n",
      "\n",
      "THE TOP 15 WORDS FOR TOPIC #1\n",
      "['stenosis', 'constipation', 'thicken', 'diarrhea', 'nausea', 'sepsis', 'anemia', 'pneumonia', 'hypotension', 'infection', 'edema', 'bleed', 'fever', 'effusion', 'pain']\n",
      "\n",
      "\n",
      "THE TOP 15 WORDS FOR TOPIC #2\n",
      "['hypercholesterolemia', 'occlude', 'insufficiency', 'patent', 'lesion', 'rhythm', 'fibrillation', 'stage', 'infarction', 'mellitus', 'pain', 'hypertension', 'stenosis', 'artery', 'disease']\n",
      "\n",
      "\n",
      "THE TOP 15 WORDS FOR TOPIC #3\n",
      "['afib', 'cardiomyopathy', 'dyspnea', 'pain', 'function', 'hypotension', 'insufficiency', 'anemia', 'pneumonia', 'regurgitation', 'hypertension', 'edema', 'fibrillation', 'heart', 'failure']\n",
      "\n",
      "\n",
      "THE TOP 15 WORDS FOR TOPIC #4\n",
      "['fibrillation', 'nausea', 'regurgitation', 'sob', 'constipation', 'symptom', 'distress', 'pneumonia', 'dyspnea', 'edema', 'hypertension', 'cough', 'pain', 'shortness', 'breath']\n",
      "\n",
      "\n"
     ]
    }
   ],
   "source": [
    "#Print Top15 words for each of the topics\n",
    "for index,topic in enumerate(nmf_model.components_):\n",
    "    print(f'THE TOP 15 WORDS FOR TOPIC #{index}')\n",
    "    print([tfidf.get_feature_names()[i] for i in topic.argsort()[-15:]])\n",
    "    print('\\n')"
   ]
  },
  {
   "cell_type": "code",
   "execution_count": 184,
   "metadata": {
    "colab": {
     "base_uri": "https://localhost:8080/"
    },
    "id": "h-85hhjH-7VL",
    "outputId": "0d85cb83-a24c-4b79-b07d-5920a361c373"
   },
   "outputs": [
    {
     "data": {
      "text/plain": [
       "array([2, 0, 4, ..., 1, 0, 0], dtype=int64)"
      ]
     },
     "execution_count": 184,
     "metadata": {},
     "output_type": "execute_result"
    }
   ],
   "source": [
    "#Creating the best topic for each complaint\n",
    "topic_results = nmf_model.transform(dtm)\n",
    "topic_results[0].round(2)\n",
    "topic_results[0].argmax()\n",
    "topic_results.argmax(axis=1)"
   ]
  },
  {
   "cell_type": "code",
   "execution_count": 185,
   "metadata": {
    "id": "wVy_zNin-7VM"
   },
   "outputs": [],
   "source": [
    "#Assign the best topic to each of the cmplaints in Topic Column\n",
    "df_clean['Topic'] = topic_results.argmax(axis=1)"
   ]
  },
  {
   "cell_type": "code",
   "execution_count": 186,
   "metadata": {
    "colab": {
     "base_uri": "https://localhost:8080/",
     "height": 337
    },
    "id": "5xgw5idT-7VM",
    "outputId": "4ea7a1a4-669c-4e41-94fa-ed6cb29e98ab"
   },
   "outputs": [
    {
     "data": {
      "text/html": [
       "<div>\n",
       "<style scoped>\n",
       "    .dataframe tbody tr th:only-of-type {\n",
       "        vertical-align: middle;\n",
       "    }\n",
       "\n",
       "    .dataframe tbody tr th {\n",
       "        vertical-align: top;\n",
       "    }\n",
       "\n",
       "    .dataframe thead th {\n",
       "        text-align: right;\n",
       "    }\n",
       "</style>\n",
       "<table border=\"1\" class=\"dataframe\">\n",
       "  <thead>\n",
       "    <tr style=\"text-align: right;\">\n",
       "      <th></th>\n",
       "      <th>TEXT</th>\n",
       "      <th>name_lemmatize</th>\n",
       "      <th>name_POS_removed</th>\n",
       "      <th>name_clean</th>\n",
       "      <th>Topic</th>\n",
       "    </tr>\n",
       "  </thead>\n",
       "  <tbody>\n",
       "    <tr>\n",
       "      <th>0</th>\n",
       "      <td>['pain', 'disease', 'lesion', 'shortness of br...</td>\n",
       "      <td>[ ' pain ' , ' disease ' , ' lesion ' , ' shor...</td>\n",
       "      <td>[ pain disease lesion shortness breath artery ...</td>\n",
       "      <td>[ pain disease lesion shortness breath artery ...</td>\n",
       "      <td>2</td>\n",
       "    </tr>\n",
       "    <tr>\n",
       "      <th>1</th>\n",
       "      <td>['nan', 'nan', 'nan', 'nan', 'nan', 'nan', 'na...</td>\n",
       "      <td>[ ' nan ' , ' nan ' , ' nan ' , ' nan ' , ' na...</td>\n",
       "      <td>[ nan nan nan nan nan nan nan nan nan ]</td>\n",
       "      <td>[ nan nan nan nan nan nan nan nan nan ]</td>\n",
       "      <td>0</td>\n",
       "    </tr>\n",
       "    <tr>\n",
       "      <th>2</th>\n",
       "      <td>['edema', 'lactic acidosis', 'cardiomyopathy',...</td>\n",
       "      <td>[ ' edema ' , ' lactic acidosis ' , ' cardiomy...</td>\n",
       "      <td>[ edema acidosis cardiomyopathy shortness brea...</td>\n",
       "      <td>[ edema acidosis cardiomyopathy shortness brea...</td>\n",
       "      <td>4</td>\n",
       "    </tr>\n",
       "    <tr>\n",
       "      <th>3</th>\n",
       "      <td>['fever', 'pna', 'chf', 'disease', 'febrile', ...</td>\n",
       "      <td>[ ' fever ' , ' pna ' , ' chf ' , ' disease ' ...</td>\n",
       "      <td>[ fever pna chf disease febrile cough diarrhea...</td>\n",
       "      <td>[ fever pna chf disease febrile cough diarrhea...</td>\n",
       "      <td>1</td>\n",
       "    </tr>\n",
       "    <tr>\n",
       "      <th>4</th>\n",
       "      <td>['bleeding', 'ulcers', 'bleed', 'thrombosis', ...</td>\n",
       "      <td>[ ' bleed ' , ' ulcer ' , ' bleed ' , ' thromb...</td>\n",
       "      <td>[ bleed ulcer bleed thrombosis melena pain ede...</td>\n",
       "      <td>[ bleed ulcer bleed thrombosis melena pain ede...</td>\n",
       "      <td>1</td>\n",
       "    </tr>\n",
       "  </tbody>\n",
       "</table>\n",
       "</div>"
      ],
      "text/plain": [
       "                                                TEXT  \\\n",
       "0  ['pain', 'disease', 'lesion', 'shortness of br...   \n",
       "1  ['nan', 'nan', 'nan', 'nan', 'nan', 'nan', 'na...   \n",
       "2  ['edema', 'lactic acidosis', 'cardiomyopathy',...   \n",
       "3  ['fever', 'pna', 'chf', 'disease', 'febrile', ...   \n",
       "4  ['bleeding', 'ulcers', 'bleed', 'thrombosis', ...   \n",
       "\n",
       "                                      name_lemmatize  \\\n",
       "0  [ ' pain ' , ' disease ' , ' lesion ' , ' shor...   \n",
       "1  [ ' nan ' , ' nan ' , ' nan ' , ' nan ' , ' na...   \n",
       "2  [ ' edema ' , ' lactic acidosis ' , ' cardiomy...   \n",
       "3  [ ' fever ' , ' pna ' , ' chf ' , ' disease ' ...   \n",
       "4  [ ' bleed ' , ' ulcer ' , ' bleed ' , ' thromb...   \n",
       "\n",
       "                                    name_POS_removed  \\\n",
       "0  [ pain disease lesion shortness breath artery ...   \n",
       "1            [ nan nan nan nan nan nan nan nan nan ]   \n",
       "2  [ edema acidosis cardiomyopathy shortness brea...   \n",
       "3  [ fever pna chf disease febrile cough diarrhea...   \n",
       "4  [ bleed ulcer bleed thrombosis melena pain ede...   \n",
       "\n",
       "                                          name_clean  Topic  \n",
       "0  [ pain disease lesion shortness breath artery ...      2  \n",
       "1            [ nan nan nan nan nan nan nan nan nan ]      0  \n",
       "2  [ edema acidosis cardiomyopathy shortness brea...      4  \n",
       "3  [ fever pna chf disease febrile cough diarrhea...      1  \n",
       "4  [ bleed ulcer bleed thrombosis melena pain ede...      1  "
      ]
     },
     "execution_count": 186,
     "metadata": {},
     "output_type": "execute_result"
    }
   ],
   "source": [
    "df_clean.head()"
   ]
  },
  {
   "cell_type": "code",
   "execution_count": 187,
   "metadata": {
    "colab": {
     "base_uri": "https://localhost:8080/",
     "height": 1000
    },
    "id": "J85n5ByF-7VN",
    "outputId": "ffd64559-462d-4101-8d64-8bb2989f49fd"
   },
   "outputs": [
    {
     "data": {
      "text/html": [
       "<div>\n",
       "<style scoped>\n",
       "    .dataframe tbody tr th:only-of-type {\n",
       "        vertical-align: middle;\n",
       "    }\n",
       "\n",
       "    .dataframe tbody tr th {\n",
       "        vertical-align: top;\n",
       "    }\n",
       "\n",
       "    .dataframe thead th {\n",
       "        text-align: right;\n",
       "    }\n",
       "</style>\n",
       "<table border=\"1\" class=\"dataframe\">\n",
       "  <thead>\n",
       "    <tr style=\"text-align: right;\">\n",
       "      <th></th>\n",
       "      <th>TEXT</th>\n",
       "      <th>name_lemmatize</th>\n",
       "      <th>name_POS_removed</th>\n",
       "      <th>name_clean</th>\n",
       "      <th>Topic</th>\n",
       "    </tr>\n",
       "  </thead>\n",
       "  <tbody>\n",
       "    <tr>\n",
       "      <th>1</th>\n",
       "      <td>['nan', 'nan', 'nan', 'nan', 'nan', 'nan', 'na...</td>\n",
       "      <td>[ ' nan ' , ' nan ' , ' nan ' , ' nan ' , ' na...</td>\n",
       "      <td>[ nan nan nan nan nan nan nan nan nan ]</td>\n",
       "      <td>[ nan nan nan nan nan nan nan nan nan ]</td>\n",
       "      <td>0</td>\n",
       "    </tr>\n",
       "    <tr>\n",
       "      <th>18</th>\n",
       "      <td>['nan', 'nan', 'nan', 'nan', 'nan', 'nan', 'na...</td>\n",
       "      <td>[ ' nan ' , ' nan ' , ' nan ' , ' nan ' , ' na...</td>\n",
       "      <td>[ nan nan nan nan nan nan nan nan nan ]</td>\n",
       "      <td>[ nan nan nan nan nan nan nan nan nan ]</td>\n",
       "      <td>0</td>\n",
       "    </tr>\n",
       "    <tr>\n",
       "      <th>17</th>\n",
       "      <td>['nan', 'nan', 'nan', 'nan', 'nan', 'nan', 'na...</td>\n",
       "      <td>[ ' nan ' , ' nan ' , ' nan ' , ' nan ' , ' na...</td>\n",
       "      <td>[ nan nan nan nan nan nan nan nan nan ]</td>\n",
       "      <td>[ nan nan nan nan nan nan nan nan nan ]</td>\n",
       "      <td>0</td>\n",
       "    </tr>\n",
       "    <tr>\n",
       "      <th>16</th>\n",
       "      <td>['nan', 'nan', 'nan', 'nan', 'nan', 'nan', 'na...</td>\n",
       "      <td>[ ' nan ' , ' nan ' , ' nan ' , ' nan ' , ' na...</td>\n",
       "      <td>[ nan nan nan nan nan nan nan nan nan ]</td>\n",
       "      <td>[ nan nan nan nan nan nan nan nan nan ]</td>\n",
       "      <td>0</td>\n",
       "    </tr>\n",
       "    <tr>\n",
       "      <th>15</th>\n",
       "      <td>['nan', 'nan', 'nan', 'nan', 'nan', 'nan', 'na...</td>\n",
       "      <td>[ ' nan ' , ' nan ' , ' nan ' , ' nan ' , ' na...</td>\n",
       "      <td>[ nan nan nan nan nan nan nan nan nan ]</td>\n",
       "      <td>[ nan nan nan nan nan nan nan nan nan ]</td>\n",
       "      <td>0</td>\n",
       "    </tr>\n",
       "    <tr>\n",
       "      <th>12</th>\n",
       "      <td>['cancer', 'pain', 'warm', 'masses', 'wounds',...</td>\n",
       "      <td>[ ' cancer ' , ' pain ' , ' warm ' , ' masse '...</td>\n",
       "      <td>[ cancer pain masse wound constipation cardiom...</td>\n",
       "      <td>[ cancer pain masse wound constipation cardiom...</td>\n",
       "      <td>1</td>\n",
       "    </tr>\n",
       "    <tr>\n",
       "      <th>3</th>\n",
       "      <td>['fever', 'pna', 'chf', 'disease', 'febrile', ...</td>\n",
       "      <td>[ ' fever ' , ' pna ' , ' chf ' , ' disease ' ...</td>\n",
       "      <td>[ fever pna chf disease febrile cough diarrhea...</td>\n",
       "      <td>[ fever pna chf disease febrile cough diarrhea...</td>\n",
       "      <td>1</td>\n",
       "    </tr>\n",
       "    <tr>\n",
       "      <th>4</th>\n",
       "      <td>['bleeding', 'ulcers', 'bleed', 'thrombosis', ...</td>\n",
       "      <td>[ ' bleed ' , ' ulcer ' , ' bleed ' , ' thromb...</td>\n",
       "      <td>[ bleed ulcer bleed thrombosis melena pain ede...</td>\n",
       "      <td>[ bleed ulcer bleed thrombosis melena pain ede...</td>\n",
       "      <td>1</td>\n",
       "    </tr>\n",
       "    <tr>\n",
       "      <th>6</th>\n",
       "      <td>['emphysema', 'respiratory distress', 'pneumon...</td>\n",
       "      <td>[ ' emphysema ' , ' respiratory distress ' , '...</td>\n",
       "      <td>[ emphysema distress pneumonia effusion hypoki...</td>\n",
       "      <td>[ emphysema distress pneumonia effusion hypoki...</td>\n",
       "      <td>1</td>\n",
       "    </tr>\n",
       "    <tr>\n",
       "      <th>9</th>\n",
       "      <td>['pain', 'bleeding', 'drainage', 'claudication...</td>\n",
       "      <td>[ ' pain ' , ' bleed ' , ' drainage ' , ' clau...</td>\n",
       "      <td>[ pain bleed drainage claudication swell disco...</td>\n",
       "      <td>[ pain bleed drainage claudication swell disco...</td>\n",
       "      <td>1</td>\n",
       "    </tr>\n",
       "    <tr>\n",
       "      <th>23</th>\n",
       "      <td>['stenosis', 'patent', 'plaque', 'hypokinesis'...</td>\n",
       "      <td>[ ' stenosis ' , ' patent ' , ' plaque ' , ' h...</td>\n",
       "      <td>[ stenosis patent plaque hypokinesis pain thic...</td>\n",
       "      <td>[ stenosis patent plaque hypokinesis pain thic...</td>\n",
       "      <td>2</td>\n",
       "    </tr>\n",
       "    <tr>\n",
       "      <th>0</th>\n",
       "      <td>['pain', 'disease', 'lesion', 'shortness of br...</td>\n",
       "      <td>[ ' pain ' , ' disease ' , ' lesion ' , ' shor...</td>\n",
       "      <td>[ pain disease lesion shortness breath artery ...</td>\n",
       "      <td>[ pain disease lesion shortness breath artery ...</td>\n",
       "      <td>2</td>\n",
       "    </tr>\n",
       "    <tr>\n",
       "      <th>8</th>\n",
       "      <td>['coronary artery disease', 'ulcer', 'hyperten...</td>\n",
       "      <td>[ ' coronary artery disease ' , ' ulcer ' , ' ...</td>\n",
       "      <td>[ artery disease ulcer hypertension cough pseu...</td>\n",
       "      <td>[ artery disease ulcer hypertension cough pseu...</td>\n",
       "      <td>2</td>\n",
       "    </tr>\n",
       "    <tr>\n",
       "      <th>7</th>\n",
       "      <td>['encephalopathy', 'hypotension', 'ascites', '...</td>\n",
       "      <td>[ ' encephalopathy ' , ' hypotension ' , ' asc...</td>\n",
       "      <td>[ hypotension disease asthma varix overload he...</td>\n",
       "      <td>[ hypotension disease asthma varix overload he...</td>\n",
       "      <td>2</td>\n",
       "    </tr>\n",
       "    <tr>\n",
       "      <th>11</th>\n",
       "      <td>['wound', 'erythema', 'dry', 'drainage', 'norm...</td>\n",
       "      <td>[ ' wound ' , ' erythema ' , ' dry ' , ' drain...</td>\n",
       "      <td>[ wound erythema drainage bowel sound nontende...</td>\n",
       "      <td>[ wound erythema drainage bowel sound nontende...</td>\n",
       "      <td>2</td>\n",
       "    </tr>\n",
       "    <tr>\n",
       "      <th>13</th>\n",
       "      <td>['congestive heart failure', 'aortic insuffici...</td>\n",
       "      <td>[ ' congestive heart failure ' , ' aortic insu...</td>\n",
       "      <td>[ heart failure insufficiency akinesis artery ...</td>\n",
       "      <td>[ heart failure insufficiency akinesis artery ...</td>\n",
       "      <td>3</td>\n",
       "    </tr>\n",
       "    <tr>\n",
       "      <th>10</th>\n",
       "      <td>['pneumonia', 'malnutrition', 'renal failure',...</td>\n",
       "      <td>[ ' pneumonia ' , ' malnutrition ' , ' renal f...</td>\n",
       "      <td>[ pneumonia malnutrition failure insufficiency...</td>\n",
       "      <td>[ pneumonia malnutrition failure insufficiency...</td>\n",
       "      <td>3</td>\n",
       "    </tr>\n",
       "    <tr>\n",
       "      <th>22</th>\n",
       "      <td>['hemodynamically stable', 'lesion', 'regular ...</td>\n",
       "      <td>[ ' hemodynamically stable ' , ' lesion ' , ' ...</td>\n",
       "      <td>[ lesion rate rhythm patent bowel sound nonten...</td>\n",
       "      <td>[ lesion rate rhythm patent bowel sound nonten...</td>\n",
       "      <td>3</td>\n",
       "    </tr>\n",
       "    <tr>\n",
       "      <th>30</th>\n",
       "      <td>['pneumothorax', 'emphysema', 'pneumonia', 'ef...</td>\n",
       "      <td>[ ' pneumothorax ' , ' emphysema ' , ' pneumon...</td>\n",
       "      <td>[ pneumothorax emphysema pneumonia effusion di...</td>\n",
       "      <td>[ pneumothorax emphysema pneumonia effusion di...</td>\n",
       "      <td>3</td>\n",
       "    </tr>\n",
       "    <tr>\n",
       "      <th>37</th>\n",
       "      <td>['ulcer', 'diabetes mellitus', 'coronary arter...</td>\n",
       "      <td>[ ' ulcer ' , ' diabete mellitus ' , ' coronar...</td>\n",
       "      <td>[ ulcer mellitus artery disease heart failure ...</td>\n",
       "      <td>[ ulcer mellitus artery disease heart failure ...</td>\n",
       "      <td>3</td>\n",
       "    </tr>\n",
       "    <tr>\n",
       "      <th>56</th>\n",
       "      <td>['chronic obstructive pulmonary disease', 'pai...</td>\n",
       "      <td>[ ' chronic obstructive pulmonary disease ' , ...</td>\n",
       "      <td>[ disease pain shortness breath discomfort nau...</td>\n",
       "      <td>[ disease pain shortness breath discomfort nau...</td>\n",
       "      <td>4</td>\n",
       "    </tr>\n",
       "    <tr>\n",
       "      <th>5</th>\n",
       "      <td>['pain', 'edema', 'shortness of breath', 'thic...</td>\n",
       "      <td>[ ' pain ' , ' edema ' , ' shortness of breath...</td>\n",
       "      <td>[ pain edema shortness breath thicken dyspnea ...</td>\n",
       "      <td>[ pain edema shortness breath thicken dyspnea ...</td>\n",
       "      <td>4</td>\n",
       "    </tr>\n",
       "    <tr>\n",
       "      <th>21</th>\n",
       "      <td>['coronary artery disease', 'effusion', 'ather...</td>\n",
       "      <td>[ ' coronary artery disease ' , ' effusion ' ,...</td>\n",
       "      <td>[ artery disease effusion atheroma wound regur...</td>\n",
       "      <td>[ artery disease effusion atheroma wound regur...</td>\n",
       "      <td>4</td>\n",
       "    </tr>\n",
       "    <tr>\n",
       "      <th>2</th>\n",
       "      <td>['edema', 'lactic acidosis', 'cardiomyopathy',...</td>\n",
       "      <td>[ ' edema ' , ' lactic acidosis ' , ' cardiomy...</td>\n",
       "      <td>[ edema acidosis cardiomyopathy shortness brea...</td>\n",
       "      <td>[ edema acidosis cardiomyopathy shortness brea...</td>\n",
       "      <td>4</td>\n",
       "    </tr>\n",
       "    <tr>\n",
       "      <th>62</th>\n",
       "      <td>['pulmonary hypertension', 'dilated', 'rash', ...</td>\n",
       "      <td>[ ' pulmonary hypertension ' , ' dilated ' , '...</td>\n",
       "      <td>[ hypertension rash hypertension fibromyalgia ...</td>\n",
       "      <td>[ hypertension rash hypertension fibromyalgia ...</td>\n",
       "      <td>4</td>\n",
       "    </tr>\n",
       "  </tbody>\n",
       "</table>\n",
       "</div>"
      ],
      "text/plain": [
       "                                                 TEXT  \\\n",
       "1   ['nan', 'nan', 'nan', 'nan', 'nan', 'nan', 'na...   \n",
       "18  ['nan', 'nan', 'nan', 'nan', 'nan', 'nan', 'na...   \n",
       "17  ['nan', 'nan', 'nan', 'nan', 'nan', 'nan', 'na...   \n",
       "16  ['nan', 'nan', 'nan', 'nan', 'nan', 'nan', 'na...   \n",
       "15  ['nan', 'nan', 'nan', 'nan', 'nan', 'nan', 'na...   \n",
       "12  ['cancer', 'pain', 'warm', 'masses', 'wounds',...   \n",
       "3   ['fever', 'pna', 'chf', 'disease', 'febrile', ...   \n",
       "4   ['bleeding', 'ulcers', 'bleed', 'thrombosis', ...   \n",
       "6   ['emphysema', 'respiratory distress', 'pneumon...   \n",
       "9   ['pain', 'bleeding', 'drainage', 'claudication...   \n",
       "23  ['stenosis', 'patent', 'plaque', 'hypokinesis'...   \n",
       "0   ['pain', 'disease', 'lesion', 'shortness of br...   \n",
       "8   ['coronary artery disease', 'ulcer', 'hyperten...   \n",
       "7   ['encephalopathy', 'hypotension', 'ascites', '...   \n",
       "11  ['wound', 'erythema', 'dry', 'drainage', 'norm...   \n",
       "13  ['congestive heart failure', 'aortic insuffici...   \n",
       "10  ['pneumonia', 'malnutrition', 'renal failure',...   \n",
       "22  ['hemodynamically stable', 'lesion', 'regular ...   \n",
       "30  ['pneumothorax', 'emphysema', 'pneumonia', 'ef...   \n",
       "37  ['ulcer', 'diabetes mellitus', 'coronary arter...   \n",
       "56  ['chronic obstructive pulmonary disease', 'pai...   \n",
       "5   ['pain', 'edema', 'shortness of breath', 'thic...   \n",
       "21  ['coronary artery disease', 'effusion', 'ather...   \n",
       "2   ['edema', 'lactic acidosis', 'cardiomyopathy',...   \n",
       "62  ['pulmonary hypertension', 'dilated', 'rash', ...   \n",
       "\n",
       "                                       name_lemmatize  \\\n",
       "1   [ ' nan ' , ' nan ' , ' nan ' , ' nan ' , ' na...   \n",
       "18  [ ' nan ' , ' nan ' , ' nan ' , ' nan ' , ' na...   \n",
       "17  [ ' nan ' , ' nan ' , ' nan ' , ' nan ' , ' na...   \n",
       "16  [ ' nan ' , ' nan ' , ' nan ' , ' nan ' , ' na...   \n",
       "15  [ ' nan ' , ' nan ' , ' nan ' , ' nan ' , ' na...   \n",
       "12  [ ' cancer ' , ' pain ' , ' warm ' , ' masse '...   \n",
       "3   [ ' fever ' , ' pna ' , ' chf ' , ' disease ' ...   \n",
       "4   [ ' bleed ' , ' ulcer ' , ' bleed ' , ' thromb...   \n",
       "6   [ ' emphysema ' , ' respiratory distress ' , '...   \n",
       "9   [ ' pain ' , ' bleed ' , ' drainage ' , ' clau...   \n",
       "23  [ ' stenosis ' , ' patent ' , ' plaque ' , ' h...   \n",
       "0   [ ' pain ' , ' disease ' , ' lesion ' , ' shor...   \n",
       "8   [ ' coronary artery disease ' , ' ulcer ' , ' ...   \n",
       "7   [ ' encephalopathy ' , ' hypotension ' , ' asc...   \n",
       "11  [ ' wound ' , ' erythema ' , ' dry ' , ' drain...   \n",
       "13  [ ' congestive heart failure ' , ' aortic insu...   \n",
       "10  [ ' pneumonia ' , ' malnutrition ' , ' renal f...   \n",
       "22  [ ' hemodynamically stable ' , ' lesion ' , ' ...   \n",
       "30  [ ' pneumothorax ' , ' emphysema ' , ' pneumon...   \n",
       "37  [ ' ulcer ' , ' diabete mellitus ' , ' coronar...   \n",
       "56  [ ' chronic obstructive pulmonary disease ' , ...   \n",
       "5   [ ' pain ' , ' edema ' , ' shortness of breath...   \n",
       "21  [ ' coronary artery disease ' , ' effusion ' ,...   \n",
       "2   [ ' edema ' , ' lactic acidosis ' , ' cardiomy...   \n",
       "62  [ ' pulmonary hypertension ' , ' dilated ' , '...   \n",
       "\n",
       "                                     name_POS_removed  \\\n",
       "1             [ nan nan nan nan nan nan nan nan nan ]   \n",
       "18            [ nan nan nan nan nan nan nan nan nan ]   \n",
       "17            [ nan nan nan nan nan nan nan nan nan ]   \n",
       "16            [ nan nan nan nan nan nan nan nan nan ]   \n",
       "15            [ nan nan nan nan nan nan nan nan nan ]   \n",
       "12  [ cancer pain masse wound constipation cardiom...   \n",
       "3   [ fever pna chf disease febrile cough diarrhea...   \n",
       "4   [ bleed ulcer bleed thrombosis melena pain ede...   \n",
       "6   [ emphysema distress pneumonia effusion hypoki...   \n",
       "9   [ pain bleed drainage claudication swell disco...   \n",
       "23  [ stenosis patent plaque hypokinesis pain thic...   \n",
       "0   [ pain disease lesion shortness breath artery ...   \n",
       "8   [ artery disease ulcer hypertension cough pseu...   \n",
       "7   [ hypotension disease asthma varix overload he...   \n",
       "11  [ wound erythema drainage bowel sound nontende...   \n",
       "13  [ heart failure insufficiency akinesis artery ...   \n",
       "10  [ pneumonia malnutrition failure insufficiency...   \n",
       "22  [ lesion rate rhythm patent bowel sound nonten...   \n",
       "30  [ pneumothorax emphysema pneumonia effusion di...   \n",
       "37  [ ulcer mellitus artery disease heart failure ...   \n",
       "56  [ disease pain shortness breath discomfort nau...   \n",
       "5   [ pain edema shortness breath thicken dyspnea ...   \n",
       "21  [ artery disease effusion atheroma wound regur...   \n",
       "2   [ edema acidosis cardiomyopathy shortness brea...   \n",
       "62  [ hypertension rash hypertension fibromyalgia ...   \n",
       "\n",
       "                                           name_clean  Topic  \n",
       "1             [ nan nan nan nan nan nan nan nan nan ]      0  \n",
       "18            [ nan nan nan nan nan nan nan nan nan ]      0  \n",
       "17            [ nan nan nan nan nan nan nan nan nan ]      0  \n",
       "16            [ nan nan nan nan nan nan nan nan nan ]      0  \n",
       "15            [ nan nan nan nan nan nan nan nan nan ]      0  \n",
       "12  [ cancer pain masse wound constipation cardiom...      1  \n",
       "3   [ fever pna chf disease febrile cough diarrhea...      1  \n",
       "4   [ bleed ulcer bleed thrombosis melena pain ede...      1  \n",
       "6   [ emphysema distress pneumonia effusion hypoki...      1  \n",
       "9   [ pain bleed drainage claudication swell disco...      1  \n",
       "23  [ stenosis patent plaque hypokinesis pain thic...      2  \n",
       "0   [ pain disease lesion shortness breath artery ...      2  \n",
       "8   [ artery disease ulcer hypertension cough pseu...      2  \n",
       "7   [ hypotension disease asthma varix overload he...      2  \n",
       "11  [ wound erythema drainage bowel sound nontende...      2  \n",
       "13  [ heart failure insufficiency akinesis artery ...      3  \n",
       "10  [ pneumonia malnutrition failure insufficiency...      3  \n",
       "22  [ lesion rate rhythm patent bowel sound nonten...      3  \n",
       "30  [ pneumothorax emphysema pneumonia effusion di...      3  \n",
       "37  [ ulcer mellitus artery disease heart failure ...      3  \n",
       "56  [ disease pain shortness breath discomfort nau...      4  \n",
       "5   [ pain edema shortness breath thicken dyspnea ...      4  \n",
       "21  [ artery disease effusion atheroma wound regur...      4  \n",
       "2   [ edema acidosis cardiomyopathy shortness brea...      4  \n",
       "62  [ hypertension rash hypertension fibromyalgia ...      4  "
      ]
     },
     "execution_count": 187,
     "metadata": {},
     "output_type": "execute_result"
    }
   ],
   "source": [
    "#Print the first 5 question for each of the Topics\n",
    "df_dc=df_clean.groupby('Topic').head(5)\n",
    "df_dc.sort_values('Topic')"
   ]
  },
  {
   "cell_type": "code",
   "execution_count": 188,
   "metadata": {
    "colab": {
     "base_uri": "https://localhost:8080/",
     "height": 641
    },
    "id": "W3gPFQj2-7VO",
    "outputId": "a4748205-9a41-453d-cfcb-dcdc87308721"
   },
   "outputs": [
    {
     "data": {
      "text/html": [
       "<div>\n",
       "<style scoped>\n",
       "    .dataframe tbody tr th:only-of-type {\n",
       "        vertical-align: middle;\n",
       "    }\n",
       "\n",
       "    .dataframe tbody tr th {\n",
       "        vertical-align: top;\n",
       "    }\n",
       "\n",
       "    .dataframe thead th {\n",
       "        text-align: right;\n",
       "    }\n",
       "</style>\n",
       "<table border=\"1\" class=\"dataframe\">\n",
       "  <thead>\n",
       "    <tr style=\"text-align: right;\">\n",
       "      <th></th>\n",
       "      <th>TEXT</th>\n",
       "      <th>name_lemmatize</th>\n",
       "      <th>name_POS_removed</th>\n",
       "      <th>name_clean</th>\n",
       "      <th>Topic</th>\n",
       "    </tr>\n",
       "  </thead>\n",
       "  <tbody>\n",
       "    <tr>\n",
       "      <th>0</th>\n",
       "      <td>['pain', 'disease', 'lesion', 'shortness of br...</td>\n",
       "      <td>[ ' pain ' , ' disease ' , ' lesion ' , ' shor...</td>\n",
       "      <td>[ pain disease lesion shortness breath artery ...</td>\n",
       "      <td>[ pain disease lesion shortness breath artery ...</td>\n",
       "      <td>2</td>\n",
       "    </tr>\n",
       "    <tr>\n",
       "      <th>1</th>\n",
       "      <td>['nan', 'nan', 'nan', 'nan', 'nan', 'nan', 'na...</td>\n",
       "      <td>[ ' nan ' , ' nan ' , ' nan ' , ' nan ' , ' na...</td>\n",
       "      <td>[ nan nan nan nan nan nan nan nan nan ]</td>\n",
       "      <td>[ nan nan nan nan nan nan nan nan nan ]</td>\n",
       "      <td>0</td>\n",
       "    </tr>\n",
       "    <tr>\n",
       "      <th>2</th>\n",
       "      <td>['edema', 'lactic acidosis', 'cardiomyopathy',...</td>\n",
       "      <td>[ ' edema ' , ' lactic acidosis ' , ' cardiomy...</td>\n",
       "      <td>[ edema acidosis cardiomyopathy shortness brea...</td>\n",
       "      <td>[ edema acidosis cardiomyopathy shortness brea...</td>\n",
       "      <td>4</td>\n",
       "    </tr>\n",
       "    <tr>\n",
       "      <th>3</th>\n",
       "      <td>['fever', 'pna', 'chf', 'disease', 'febrile', ...</td>\n",
       "      <td>[ ' fever ' , ' pna ' , ' chf ' , ' disease ' ...</td>\n",
       "      <td>[ fever pna chf disease febrile cough diarrhea...</td>\n",
       "      <td>[ fever pna chf disease febrile cough diarrhea...</td>\n",
       "      <td>1</td>\n",
       "    </tr>\n",
       "    <tr>\n",
       "      <th>4</th>\n",
       "      <td>['bleeding', 'ulcers', 'bleed', 'thrombosis', ...</td>\n",
       "      <td>[ ' bleed ' , ' ulcer ' , ' bleed ' , ' thromb...</td>\n",
       "      <td>[ bleed ulcer bleed thrombosis melena pain ede...</td>\n",
       "      <td>[ bleed ulcer bleed thrombosis melena pain ede...</td>\n",
       "      <td>1</td>\n",
       "    </tr>\n",
       "    <tr>\n",
       "      <th>...</th>\n",
       "      <td>...</td>\n",
       "      <td>...</td>\n",
       "      <td>...</td>\n",
       "      <td>...</td>\n",
       "      <td>...</td>\n",
       "    </tr>\n",
       "    <tr>\n",
       "      <th>6372</th>\n",
       "      <td>['nan', 'nan', 'nan', 'nan', 'nan', 'nan', 'na...</td>\n",
       "      <td>[ ' nan ' , ' nan ' , ' nan ' , ' nan ' , ' na...</td>\n",
       "      <td>[ nan nan nan nan nan nan nan nan nan ]</td>\n",
       "      <td>[ nan nan nan nan nan nan nan nan nan ]</td>\n",
       "      <td>0</td>\n",
       "    </tr>\n",
       "    <tr>\n",
       "      <th>6373</th>\n",
       "      <td>['nan', 'nan', 'nan', 'nan', 'nan', 'nan', 'na...</td>\n",
       "      <td>[ ' nan ' , ' nan ' , ' nan ' , ' nan ' , ' na...</td>\n",
       "      <td>[ nan nan nan nan nan nan nan nan nan ]</td>\n",
       "      <td>[ nan nan nan nan nan nan nan nan nan ]</td>\n",
       "      <td>0</td>\n",
       "    </tr>\n",
       "    <tr>\n",
       "      <th>6374</th>\n",
       "      <td>['hyperkalemia', 'alert', 'hypertension', 'hyp...</td>\n",
       "      <td>[ ' hyperkalemia ' , ' alert ' , ' hypertensio...</td>\n",
       "      <td>[ hyperkalemia alert hypertension hyperglycemi...</td>\n",
       "      <td>[ hyperkalemia alert hypertension hyperglycemi...</td>\n",
       "      <td>1</td>\n",
       "    </tr>\n",
       "    <tr>\n",
       "      <th>6375</th>\n",
       "      <td>['nan', 'nan', 'nan', 'nan', 'nan', 'nan', 'na...</td>\n",
       "      <td>[ ' nan ' , ' nan ' , ' nan ' , ' nan ' , ' na...</td>\n",
       "      <td>[ nan nan nan nan nan nan nan nan nan ]</td>\n",
       "      <td>[ nan nan nan nan nan nan nan nan nan ]</td>\n",
       "      <td>0</td>\n",
       "    </tr>\n",
       "    <tr>\n",
       "      <th>6376</th>\n",
       "      <td>['nan', 'nan', 'nan', 'nan', 'nan', 'nan', 'na...</td>\n",
       "      <td>[ ' nan ' , ' nan ' , ' nan ' , ' nan ' , ' na...</td>\n",
       "      <td>[ nan nan nan nan nan nan nan nan nan ]</td>\n",
       "      <td>[ nan nan nan nan nan nan nan nan nan ]</td>\n",
       "      <td>0</td>\n",
       "    </tr>\n",
       "  </tbody>\n",
       "</table>\n",
       "<p>6377 rows × 5 columns</p>\n",
       "</div>"
      ],
      "text/plain": [
       "                                                   TEXT  \\\n",
       "0     ['pain', 'disease', 'lesion', 'shortness of br...   \n",
       "1     ['nan', 'nan', 'nan', 'nan', 'nan', 'nan', 'na...   \n",
       "2     ['edema', 'lactic acidosis', 'cardiomyopathy',...   \n",
       "3     ['fever', 'pna', 'chf', 'disease', 'febrile', ...   \n",
       "4     ['bleeding', 'ulcers', 'bleed', 'thrombosis', ...   \n",
       "...                                                 ...   \n",
       "6372  ['nan', 'nan', 'nan', 'nan', 'nan', 'nan', 'na...   \n",
       "6373  ['nan', 'nan', 'nan', 'nan', 'nan', 'nan', 'na...   \n",
       "6374  ['hyperkalemia', 'alert', 'hypertension', 'hyp...   \n",
       "6375  ['nan', 'nan', 'nan', 'nan', 'nan', 'nan', 'na...   \n",
       "6376  ['nan', 'nan', 'nan', 'nan', 'nan', 'nan', 'na...   \n",
       "\n",
       "                                         name_lemmatize  \\\n",
       "0     [ ' pain ' , ' disease ' , ' lesion ' , ' shor...   \n",
       "1     [ ' nan ' , ' nan ' , ' nan ' , ' nan ' , ' na...   \n",
       "2     [ ' edema ' , ' lactic acidosis ' , ' cardiomy...   \n",
       "3     [ ' fever ' , ' pna ' , ' chf ' , ' disease ' ...   \n",
       "4     [ ' bleed ' , ' ulcer ' , ' bleed ' , ' thromb...   \n",
       "...                                                 ...   \n",
       "6372  [ ' nan ' , ' nan ' , ' nan ' , ' nan ' , ' na...   \n",
       "6373  [ ' nan ' , ' nan ' , ' nan ' , ' nan ' , ' na...   \n",
       "6374  [ ' hyperkalemia ' , ' alert ' , ' hypertensio...   \n",
       "6375  [ ' nan ' , ' nan ' , ' nan ' , ' nan ' , ' na...   \n",
       "6376  [ ' nan ' , ' nan ' , ' nan ' , ' nan ' , ' na...   \n",
       "\n",
       "                                       name_POS_removed  \\\n",
       "0     [ pain disease lesion shortness breath artery ...   \n",
       "1               [ nan nan nan nan nan nan nan nan nan ]   \n",
       "2     [ edema acidosis cardiomyopathy shortness brea...   \n",
       "3     [ fever pna chf disease febrile cough diarrhea...   \n",
       "4     [ bleed ulcer bleed thrombosis melena pain ede...   \n",
       "...                                                 ...   \n",
       "6372            [ nan nan nan nan nan nan nan nan nan ]   \n",
       "6373            [ nan nan nan nan nan nan nan nan nan ]   \n",
       "6374  [ hyperkalemia alert hypertension hyperglycemi...   \n",
       "6375            [ nan nan nan nan nan nan nan nan nan ]   \n",
       "6376            [ nan nan nan nan nan nan nan nan nan ]   \n",
       "\n",
       "                                             name_clean  Topic  \n",
       "0     [ pain disease lesion shortness breath artery ...      2  \n",
       "1               [ nan nan nan nan nan nan nan nan nan ]      0  \n",
       "2     [ edema acidosis cardiomyopathy shortness brea...      4  \n",
       "3     [ fever pna chf disease febrile cough diarrhea...      1  \n",
       "4     [ bleed ulcer bleed thrombosis melena pain ede...      1  \n",
       "...                                                 ...    ...  \n",
       "6372            [ nan nan nan nan nan nan nan nan nan ]      0  \n",
       "6373            [ nan nan nan nan nan nan nan nan nan ]      0  \n",
       "6374  [ hyperkalemia alert hypertension hyperglycemi...      1  \n",
       "6375            [ nan nan nan nan nan nan nan nan nan ]      0  \n",
       "6376            [ nan nan nan nan nan nan nan nan nan ]      0  \n",
       "\n",
       "[6377 rows x 5 columns]"
      ]
     },
     "execution_count": 188,
     "metadata": {},
     "output_type": "execute_result"
    }
   ],
   "source": [
    "df_clean"
   ]
  },
  {
   "cell_type": "markdown",
   "metadata": {
    "id": "jMJpWkS6p5T6"
   },
   "source": [
    "### Saving the clustered data in CSV format to be used by Notebook-4 to train the new model along with tabular lab records."
   ]
  },
  {
   "cell_type": "code",
   "execution_count": 189,
   "metadata": {
    "id": "LK7DZcJc-7VR"
   },
   "outputs": [],
   "source": [
    "training_data=df_clean[[\"TEXT\",\"Topic\"]]"
   ]
  },
  {
   "cell_type": "code",
   "execution_count": 190,
   "metadata": {},
   "outputs": [],
   "source": [
    "training_data.to_csv(\"dxcode-cluster.csv\")"
   ]
  },
  {
   "cell_type": "code",
   "execution_count": 191,
   "metadata": {
    "colab": {
     "base_uri": "https://localhost:8080/",
     "height": 424
    },
    "id": "rcn4ZBOI-7VR",
    "outputId": "c2e61c06-fcee-4777-da3f-199f8df643de"
   },
   "outputs": [
    {
     "data": {
      "text/html": [
       "<div>\n",
       "<style scoped>\n",
       "    .dataframe tbody tr th:only-of-type {\n",
       "        vertical-align: middle;\n",
       "    }\n",
       "\n",
       "    .dataframe tbody tr th {\n",
       "        vertical-align: top;\n",
       "    }\n",
       "\n",
       "    .dataframe thead th {\n",
       "        text-align: right;\n",
       "    }\n",
       "</style>\n",
       "<table border=\"1\" class=\"dataframe\">\n",
       "  <thead>\n",
       "    <tr style=\"text-align: right;\">\n",
       "      <th></th>\n",
       "      <th>TEXT</th>\n",
       "      <th>Topic</th>\n",
       "    </tr>\n",
       "  </thead>\n",
       "  <tbody>\n",
       "    <tr>\n",
       "      <th>0</th>\n",
       "      <td>['pain', 'disease', 'lesion', 'shortness of br...</td>\n",
       "      <td>2</td>\n",
       "    </tr>\n",
       "    <tr>\n",
       "      <th>1</th>\n",
       "      <td>['nan', 'nan', 'nan', 'nan', 'nan', 'nan', 'na...</td>\n",
       "      <td>0</td>\n",
       "    </tr>\n",
       "    <tr>\n",
       "      <th>2</th>\n",
       "      <td>['edema', 'lactic acidosis', 'cardiomyopathy',...</td>\n",
       "      <td>4</td>\n",
       "    </tr>\n",
       "    <tr>\n",
       "      <th>3</th>\n",
       "      <td>['fever', 'pna', 'chf', 'disease', 'febrile', ...</td>\n",
       "      <td>1</td>\n",
       "    </tr>\n",
       "    <tr>\n",
       "      <th>4</th>\n",
       "      <td>['bleeding', 'ulcers', 'bleed', 'thrombosis', ...</td>\n",
       "      <td>1</td>\n",
       "    </tr>\n",
       "    <tr>\n",
       "      <th>...</th>\n",
       "      <td>...</td>\n",
       "      <td>...</td>\n",
       "    </tr>\n",
       "    <tr>\n",
       "      <th>6372</th>\n",
       "      <td>['nan', 'nan', 'nan', 'nan', 'nan', 'nan', 'na...</td>\n",
       "      <td>0</td>\n",
       "    </tr>\n",
       "    <tr>\n",
       "      <th>6373</th>\n",
       "      <td>['nan', 'nan', 'nan', 'nan', 'nan', 'nan', 'na...</td>\n",
       "      <td>0</td>\n",
       "    </tr>\n",
       "    <tr>\n",
       "      <th>6374</th>\n",
       "      <td>['hyperkalemia', 'alert', 'hypertension', 'hyp...</td>\n",
       "      <td>1</td>\n",
       "    </tr>\n",
       "    <tr>\n",
       "      <th>6375</th>\n",
       "      <td>['nan', 'nan', 'nan', 'nan', 'nan', 'nan', 'na...</td>\n",
       "      <td>0</td>\n",
       "    </tr>\n",
       "    <tr>\n",
       "      <th>6376</th>\n",
       "      <td>['nan', 'nan', 'nan', 'nan', 'nan', 'nan', 'na...</td>\n",
       "      <td>0</td>\n",
       "    </tr>\n",
       "  </tbody>\n",
       "</table>\n",
       "<p>6377 rows × 2 columns</p>\n",
       "</div>"
      ],
      "text/plain": [
       "                                                   TEXT  Topic\n",
       "0     ['pain', 'disease', 'lesion', 'shortness of br...      2\n",
       "1     ['nan', 'nan', 'nan', 'nan', 'nan', 'nan', 'na...      0\n",
       "2     ['edema', 'lactic acidosis', 'cardiomyopathy',...      4\n",
       "3     ['fever', 'pna', 'chf', 'disease', 'febrile', ...      1\n",
       "4     ['bleeding', 'ulcers', 'bleed', 'thrombosis', ...      1\n",
       "...                                                 ...    ...\n",
       "6372  ['nan', 'nan', 'nan', 'nan', 'nan', 'nan', 'na...      0\n",
       "6373  ['nan', 'nan', 'nan', 'nan', 'nan', 'nan', 'na...      0\n",
       "6374  ['hyperkalemia', 'alert', 'hypertension', 'hyp...      1\n",
       "6375  ['nan', 'nan', 'nan', 'nan', 'nan', 'nan', 'na...      0\n",
       "6376  ['nan', 'nan', 'nan', 'nan', 'nan', 'nan', 'na...      0\n",
       "\n",
       "[6377 rows x 2 columns]"
      ]
     },
     "execution_count": 191,
     "metadata": {},
     "output_type": "execute_result"
    }
   ],
   "source": [
    "training_data"
   ]
  },
  {
   "cell_type": "code",
   "execution_count": 123,
   "metadata": {
    "id": "EcnzpIAh-7VS"
   },
   "outputs": [],
   "source": [
    "import pickle\n",
    "from sklearn.feature_extraction.text import CountVectorizer\n",
    "\n",
    "\n",
    "#GET VECTOR COUNT\n",
    "count_vect = CountVectorizer()\n",
    "X_train_counts = count_vect.fit_transform(training_data.TEXT)\n",
    "\n",
    "#SAVE WORD VECTOR\n",
    "pickle.dump(count_vect.vocabulary_, open(\"count_vector.pkl\",\"wb\"))"
   ]
  },
  {
   "cell_type": "code",
   "execution_count": 124,
   "metadata": {
    "id": "mJ3pf0Ba-7VS"
   },
   "outputs": [],
   "source": [
    "from sklearn.feature_extraction.text import TfidfTransformer\n",
    "\n",
    "#TRANSFORM WORD VECTOR TO TF IDF\n",
    "tfidf_transformer = TfidfTransformer()\n",
    "X_train_tfidf = tfidf_transformer.fit_transform(X_train_counts)\n",
    "\n",
    "#SAVE TF-IDF\n",
    "pickle.dump(tfidf_transformer, open(\"tfidf.pkl\",\"wb\"))"
   ]
  },
  {
   "cell_type": "code",
   "execution_count": 125,
   "metadata": {
    "id": "3xCaikAz-7VT"
   },
   "outputs": [],
   "source": [
    "# Multinomial Naive Bayes\n",
    "\n",
    "from sklearn.naive_bayes import MultinomialNB\n",
    "from sklearn.model_selection import train_test_split\n",
    "\n",
    "X_train, X_test, y_train, y_test = train_test_split(X_train_tfidf, training_data.Topic, test_size=0.25, random_state=42)\n",
    "clf = MultinomialNB().fit(X_train, y_train)\n",
    "\n",
    "#SAVE MODEL\n",
    "pickle.dump(clf, open(\"nb_model.pkl\", \"wb\"))"
   ]
  },
  {
   "cell_type": "code",
   "execution_count": 126,
   "metadata": {
    "colab": {
     "base_uri": "https://localhost:8080/"
    },
    "id": "A5aNICNm-7VU",
    "outputId": "ddc4b51e-7e9f-44a8-ac43-2bf00573fd7c"
   },
   "outputs": [
    {
     "name": "stdout",
     "output_type": "stream",
     "text": [
      "Topic2\n"
     ]
    }
   ],
   "source": [
    "import pickle\n",
    "from sklearn.feature_extraction.text import CountVectorizer\n",
    "from sklearn.feature_extraction.text import TfidfTransformer\n",
    "\n",
    "target_names = [\"Topic1\",\"Topic2\",\"Topic3\",\"Topic4\", \"Topic5\"]\n",
    "\n",
    "docs_new = \"'effusion', 'dilated', 'pneumonia', 'edema', 'pain', 'systolic function', 'hypokinesis', 'troponin leak', 'tricuspid regurgitation', 'thickened'\"\n",
    "docs_new = [docs_new]\n",
    "\n",
    "#LOAD MODEL\n",
    "loaded_vec = CountVectorizer(vocabulary=pickle.load(open(\"count_vector.pkl\", \"rb\")))\n",
    "loaded_tfidf = pickle.load(open(\"tfidf.pkl\",\"rb\"))\n",
    "loaded_model = pickle.load(open(\"nb_model.pkl\",\"rb\"))\n",
    "\n",
    "X_new_counts = loaded_vec.transform(docs_new)\n",
    "X_new_tfidf = loaded_tfidf.transform(X_new_counts)\n",
    "predicted = loaded_model.predict(X_new_tfidf)\n",
    "\n",
    "print(target_names[predicted[0]])"
   ]
  },
  {
   "cell_type": "code",
   "execution_count": 127,
   "metadata": {
    "id": "LU_s5bDQ-7VW"
   },
   "outputs": [],
   "source": [
    "predicted = loaded_model.predict(X_test)\n",
    "result_bayes = pd.DataFrame( {'true_labels': y_test,'predicted_labels': predicted})\n",
    "\n",
    "#for predicted_item, result in zip(predicted, y_test):\n",
    " #   print(target_names[predicted_item], ' - ', target_names[result])"
   ]
  },
  {
   "cell_type": "code",
   "execution_count": 128,
   "metadata": {
    "colab": {
     "base_uri": "https://localhost:8080/"
    },
    "id": "sO9UKVGo-7Ve",
    "outputId": "8857eaf1-4e6f-4c27-982c-7bc9a71832d7"
   },
   "outputs": [
    {
     "name": "stdout",
     "output_type": "stream",
     "text": [
      "[[745   0   0   0   0]\n",
      " [  0 397   4   0   0]\n",
      " [  0  45 108   5   1]\n",
      " [  0  92  19  43   3]\n",
      " [  0  25  12   3  93]]\n",
      "              precision    recall  f1-score   support\n",
      "\n",
      "      Topic1       1.00      1.00      1.00       745\n",
      "      Topic2       0.71      0.99      0.83       401\n",
      "      Topic3       0.76      0.68      0.72       159\n",
      "      Topic4       0.84      0.27      0.41       157\n",
      "      Topic5       0.96      0.70      0.81       133\n",
      "\n",
      "    accuracy                           0.87      1595\n",
      "   macro avg       0.85      0.73      0.75      1595\n",
      "weighted avg       0.88      0.87      0.85      1595\n",
      "\n"
     ]
    }
   ],
   "source": [
    "from sklearn.metrics import confusion_matrix  \n",
    "from sklearn.metrics import f1_score\n",
    "\n",
    "confusion_mat = confusion_matrix(y_test,predicted)\n",
    "print(confusion_mat)\n",
    "from sklearn.metrics import classification_report\n",
    "target_names = [\"Topic1\",\"Topic2\",\"Topic3\",\"Topic4\",\"Topic5\"]\n",
    "\n",
    "print(classification_report(y_test, predicted, target_names=target_names))"
   ]
  },
  {
   "cell_type": "code",
   "execution_count": 129,
   "metadata": {
    "id": "j0-iyP9B-7Vf"
   },
   "outputs": [],
   "source": [
    "# Logistic Regression\n",
    "\n",
    "from sklearn.linear_model import LogisticRegression\n",
    "from sklearn.model_selection import train_test_split\n",
    "\n",
    "\n",
    "X_train, X_test, y_train, y_test = train_test_split(X_train_tfidf, training_data.Topic, test_size=0.25, random_state=42)\n",
    "clf = LogisticRegression(random_state=0).fit(X_train, y_train)\n",
    "\n",
    "#SAVE MODEL\n",
    "pickle.dump(clf, open(\"logreg_model.pkl\", \"wb\"))"
   ]
  },
  {
   "cell_type": "code",
   "execution_count": 130,
   "metadata": {
    "colab": {
     "base_uri": "https://localhost:8080/"
    },
    "id": "Fy3XG9NQ-7Vf",
    "outputId": "b3d1f7c8-709d-409b-abba-9295a42a0558"
   },
   "outputs": [
    {
     "name": "stdout",
     "output_type": "stream",
     "text": [
      "Topic2\n"
     ]
    }
   ],
   "source": [
    "import pickle\n",
    "from sklearn.feature_extraction.text import CountVectorizer\n",
    "from sklearn.feature_extraction.text import TfidfTransformer\n",
    "\n",
    "target_names = [\"Topic1\",\"Topic2\",\"Topic3\",\"Topic4\",\"Topic5\"]\n",
    "\n",
    "docs_new = \"this is a 84 year old female with severe as 0 8 chronic lymphoma dvt on coumadin asthma who p w s p fall and complete heart block now s p ddd pacer cardiovascular - ischemia - no previous history of ischemia continued on asa 325 pump - recieved 3u ffp attempt at rij for temp wire unsuccessful pt became hypotensive during attempt at rij temp wire requiring max dose dopamine and neosynephrine gtt s hypotension was thought to be secondary to increased vagal tone with pressure and manipulation at the rij patient was intubated for airway protection in setting of right neck hematoma patient was subsequently weaned off pressors repeat echo showed preserved ef 50-55 tight as valve area 0 6 cm2 patient became hypotensive and required fluid boluses and resumed on dopamine ggt temporarily after removal of right femoral sheath and right groin hematoma was seen on ct patient was\"\n",
    "docs_new = [docs_new]\n",
    "\n",
    "#LOAD MODEL\n",
    "loaded_vec = CountVectorizer(vocabulary=pickle.load(open(\"count_vector.pkl\", \"rb\")))\n",
    "loaded_tfidf = pickle.load(open(\"tfidf.pkl\",\"rb\"))\n",
    "loaded_model = pickle.load(open(\"logreg_model.pkl\",\"rb\"))\n",
    "\n",
    "X_new_counts = loaded_vec.transform(docs_new)\n",
    "X_new_tfidf = loaded_tfidf.transform(X_new_counts)\n",
    "predicted = loaded_model.predict(X_new_tfidf)\n",
    "\n",
    "print(target_names[predicted[0]])"
   ]
  },
  {
   "cell_type": "code",
   "execution_count": 131,
   "metadata": {
    "id": "OmxLI7OG-7Vg"
   },
   "outputs": [],
   "source": [
    "predicted = loaded_model.predict(X_test)\n",
    "result_bayes = pd.DataFrame( {'true_labels': y_test,'predicted_labels': predicted})\n",
    "\n",
    "#for predicted_item, result in zip(predicted, y_test):\n",
    "    #print(target_names[predicted_item], ' - ', target_names[result])"
   ]
  },
  {
   "cell_type": "code",
   "execution_count": 132,
   "metadata": {
    "colab": {
     "base_uri": "https://localhost:8080/"
    },
    "id": "Q-qYZYIb-7Vh",
    "outputId": "2a32b17c-12cb-48cd-d8c2-403f6f198582"
   },
   "outputs": [
    {
     "name": "stdout",
     "output_type": "stream",
     "text": [
      "[[745   0   0   0   0]\n",
      " [  0 396   0   5   0]\n",
      " [  0  35 123   0   1]\n",
      " [  0  16   4 135   2]\n",
      " [  0   7   1   2 123]]\n",
      "              precision    recall  f1-score   support\n",
      "\n",
      "      Topic1       1.00      1.00      1.00       745\n",
      "      Topic2       0.87      0.99      0.93       401\n",
      "      Topic3       0.96      0.77      0.86       159\n",
      "      Topic4       0.95      0.86      0.90       157\n",
      "      Topic5       0.98      0.92      0.95       133\n",
      "\n",
      "    accuracy                           0.95      1595\n",
      "   macro avg       0.95      0.91      0.93      1595\n",
      "weighted avg       0.96      0.95      0.95      1595\n",
      "\n"
     ]
    }
   ],
   "source": [
    "from sklearn.metrics import confusion_matrix  \n",
    "from sklearn.metrics import f1_score\n",
    "\n",
    "confusion_mat = confusion_matrix(y_test,predicted)\n",
    "print(confusion_mat)\n",
    "from sklearn.metrics import classification_report\n",
    "target_names = [\"Topic1\",\"Topic2\",\"Topic3\",\"Topic4\",\"Topic5\"]\n",
    "\n",
    "print(classification_report(y_test, predicted, target_names=target_names))"
   ]
  },
  {
   "cell_type": "code",
   "execution_count": 133,
   "metadata": {
    "id": "GT4QxdEe-7Vi"
   },
   "outputs": [],
   "source": [
    "# Decision Tree\n",
    "\n",
    "from sklearn.tree import DecisionTreeClassifier\n",
    "from sklearn.model_selection import train_test_split\n",
    "\n",
    "\n",
    "X_train, X_test, y_train, y_test = train_test_split(X_train_tfidf, training_data.Topic, test_size=0.25, random_state=42)\n",
    "clf = DecisionTreeClassifier(random_state=0).fit(X_train, y_train)\n",
    "\n",
    "#SAVE MODEL\n",
    "pickle.dump(clf, open(\"DT_model.pkl\", \"wb\"))"
   ]
  },
  {
   "cell_type": "code",
   "execution_count": 134,
   "metadata": {
    "colab": {
     "base_uri": "https://localhost:8080/"
    },
    "id": "9ex-6Z0N-7Vj",
    "outputId": "1a02a26b-b493-49b3-a74e-170768593d0d"
   },
   "outputs": [
    {
     "name": "stdout",
     "output_type": "stream",
     "text": [
      "Topic2\n"
     ]
    }
   ],
   "source": [
    "import pickle\n",
    "from sklearn.feature_extraction.text import CountVectorizer\n",
    "from sklearn.feature_extraction.text import TfidfTransformer\n",
    "\n",
    "target_names = [\"Topic1\",\"Topic2\",\"Topic3\",\"Topic4\",\"Topic5\"]\n",
    "\n",
    "docs_new = \"CLINICAL SUMMARY OF CLIENTâ€™S RESPONSE TO TREATMENT<br />(strengths/weaknesses, specific needs and concerns upon discharge)\"\n",
    "docs_new = [docs_new]\n",
    "\n",
    "#LOAD MODEL\n",
    "loaded_vec = CountVectorizer(vocabulary=pickle.load(open(\"count_vector.pkl\", \"rb\")))\n",
    "loaded_tfidf = pickle.load(open(\"tfidf.pkl\",\"rb\"))\n",
    "loaded_model = pickle.load(open(\"DT_model.pkl\",\"rb\"))\n",
    "\n",
    "X_new_counts = loaded_vec.transform(docs_new)\n",
    "X_new_tfidf = loaded_tfidf.transform(X_new_counts)\n",
    "predicted = loaded_model.predict(X_new_tfidf)\n",
    "\n",
    "print(target_names[predicted[0]])"
   ]
  },
  {
   "cell_type": "code",
   "execution_count": 135,
   "metadata": {
    "id": "zX0zDx7P-7Vj"
   },
   "outputs": [],
   "source": [
    "predicted = loaded_model.predict(X_test)\n",
    "result_bayes = pd.DataFrame( {'true_labels': y_test,'predicted_labels': predicted})\n",
    "\n",
    "#for predicted_item, result in zip(predicted, y_test):\n",
    "    #print(target_names[predicted_item], ' - ', target_names[result])"
   ]
  },
  {
   "cell_type": "code",
   "execution_count": 136,
   "metadata": {
    "colab": {
     "base_uri": "https://localhost:8080/"
    },
    "id": "uvFLYpat-7Vn",
    "outputId": "dd06614b-c4f8-4e5c-9c3f-805ef096cd9e"
   },
   "outputs": [
    {
     "name": "stdout",
     "output_type": "stream",
     "text": [
      "[[745   0   0   0   0]\n",
      " [  0 368  17  10   6]\n",
      " [  0  19 133   3   4]\n",
      " [  0  11   9 134   3]\n",
      " [  2   6   1   1 123]]\n",
      "              precision    recall  f1-score   support\n",
      "\n",
      "      Topic1       1.00      1.00      1.00       745\n",
      "      Topic2       0.91      0.92      0.91       401\n",
      "      Topic3       0.83      0.84      0.83       159\n",
      "      Topic4       0.91      0.85      0.88       157\n",
      "      Topic5       0.90      0.92      0.91       133\n",
      "\n",
      "    accuracy                           0.94      1595\n",
      "   macro avg       0.91      0.91      0.91      1595\n",
      "weighted avg       0.94      0.94      0.94      1595\n",
      "\n"
     ]
    }
   ],
   "source": [
    "from sklearn.metrics import confusion_matrix  \n",
    "from sklearn.metrics import f1_score\n",
    "\n",
    "confusion_mat = confusion_matrix(y_test,predicted)\n",
    "print(confusion_mat)\n",
    "from sklearn.metrics import classification_report\n",
    "target_names = [\"Topic1\",\"Topic2\",\"Topic3\",\"Topic4\",\"Topic5\"]\n",
    "\n",
    "print(classification_report(y_test, predicted, target_names=target_names))"
   ]
  },
  {
   "cell_type": "code",
   "execution_count": 137,
   "metadata": {
    "id": "BUTXUN5R-7Vo"
   },
   "outputs": [],
   "source": [
    "# Random Forest\n",
    "\n",
    "from sklearn.ensemble import RandomForestClassifier\n",
    "from sklearn.model_selection import train_test_split\n",
    "\n",
    "\n",
    "X_train, X_test, y_train, y_test = train_test_split(X_train_tfidf, training_data.Topic, test_size=0.25, random_state=42)\n",
    "clf = RandomForestClassifier(max_depth=10, random_state=0)\n",
    "clf.fit(X_train, y_train)\n",
    "\n",
    "#SAVE MODEL\n",
    "pickle.dump(clf, open(\"RF_model.pkl\", \"wb\"))"
   ]
  },
  {
   "cell_type": "code",
   "execution_count": 138,
   "metadata": {
    "colab": {
     "base_uri": "https://localhost:8080/"
    },
    "id": "0R38a5Wr-7Vp",
    "outputId": "a05929ba-9dad-4ea1-bb47-a6bbb4e73995"
   },
   "outputs": [
    {
     "name": "stdout",
     "output_type": "stream",
     "text": [
      "Topic1\n"
     ]
    }
   ],
   "source": [
    "import pickle\n",
    "from sklearn.feature_extraction.text import CountVectorizer\n",
    "from sklearn.feature_extraction.text import TfidfTransformer\n",
    "\n",
    "target_names = [\"Topic1\",\"Topic2\",\"Topic3\",\"Topic4\",\"Topic5\"]\n",
    "\n",
    "docs_new = \"Where do you live\"\n",
    "docs_new = [docs_new]\n",
    "\n",
    "#LOAD MODEL\n",
    "loaded_vec = CountVectorizer(vocabulary=pickle.load(open(\"count_vector.pkl\", \"rb\")))\n",
    "loaded_tfidf = pickle.load(open(\"tfidf.pkl\",\"rb\"))\n",
    "loaded_model = pickle.load(open(\"RF_model.pkl\",\"rb\"))\n",
    "\n",
    "X_new_counts = loaded_vec.transform(docs_new)\n",
    "X_new_tfidf = loaded_tfidf.transform(X_new_counts)\n",
    "predicted = loaded_model.predict(X_new_tfidf)\n",
    "\n",
    "print(target_names[predicted[0]])"
   ]
  },
  {
   "cell_type": "code",
   "execution_count": 139,
   "metadata": {
    "id": "h-geqUmX-7Vq"
   },
   "outputs": [],
   "source": [
    "predicted = loaded_model.predict(X_test)\n",
    "result_bayes = pd.DataFrame( {'true_labels': y_test,'predicted_labels': predicted})\n",
    "\n",
    "#for predicted_item, result in zip(predicted, y_test):\n",
    "    #print(target_names[predicted_item], ' - ', target_names[result])"
   ]
  },
  {
   "cell_type": "code",
   "execution_count": 140,
   "metadata": {
    "colab": {
     "base_uri": "https://localhost:8080/"
    },
    "id": "3VkHhphM-7Vt",
    "outputId": "80018080-a7c9-4b9b-e1ea-cc0996069c70"
   },
   "outputs": [
    {
     "name": "stdout",
     "output_type": "stream",
     "text": [
      "[[745   0   0   0   0]\n",
      " [ 21 380   0   0   0]\n",
      " [  7  56  86   3   7]\n",
      " [  6  67   7  70   7]\n",
      " [  4   6   0   0 123]]\n",
      "              precision    recall  f1-score   support\n",
      "\n",
      "      Topic1       0.95      1.00      0.98       745\n",
      "      Topic2       0.75      0.95      0.84       401\n",
      "      Topic3       0.92      0.54      0.68       159\n",
      "      Topic4       0.96      0.45      0.61       157\n",
      "      Topic5       0.90      0.92      0.91       133\n",
      "\n",
      "    accuracy                           0.88      1595\n",
      "   macro avg       0.90      0.77      0.80      1595\n",
      "weighted avg       0.89      0.88      0.87      1595\n",
      "\n"
     ]
    }
   ],
   "source": [
    "from sklearn.metrics import confusion_matrix  \n",
    "from sklearn.metrics import f1_score\n",
    "\n",
    "confusion_mat = confusion_matrix(y_test,predicted)\n",
    "print(confusion_mat)\n",
    "from sklearn.metrics import classification_report\n",
    "target_names = [\"Topic1\",\"Topic2\",\"Topic3\",\"Topic4\",\"Topic5\"]\n",
    "\n",
    "print(classification_report(y_test, predicted, target_names=target_names))"
   ]
  },
  {
   "cell_type": "code",
   "execution_count": 141,
   "metadata": {
    "id": "OvyHicwN-7Vu"
   },
   "outputs": [
    {
     "name": "stdout",
     "output_type": "stream",
     "text": [
      "end of the code\n"
     ]
    }
   ],
   "source": [
    "print(\"end of the code\")"
   ]
  },
  {
   "cell_type": "code",
   "execution_count": null,
   "metadata": {
    "id": "HsVH_wY1-WAv"
   },
   "outputs": [],
   "source": []
  }
 ],
 "metadata": {
  "accelerator": "GPU",
  "colab": {
   "collapsed_sections": [],
   "provenance": []
  },
  "kernelspec": {
   "display_name": "Python 3 (ipykernel)",
   "language": "python",
   "name": "python3"
  },
  "language_info": {
   "codemirror_mode": {
    "name": "ipython",
    "version": 3
   },
   "file_extension": ".py",
   "mimetype": "text/x-python",
   "name": "python",
   "nbconvert_exporter": "python",
   "pygments_lexer": "ipython3",
   "version": "3.9.12"
  }
 },
 "nbformat": 4,
 "nbformat_minor": 1
}
